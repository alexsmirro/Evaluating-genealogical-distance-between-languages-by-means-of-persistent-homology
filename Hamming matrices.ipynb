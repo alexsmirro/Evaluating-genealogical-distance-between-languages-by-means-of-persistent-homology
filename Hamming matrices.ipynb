{
 "cells": [
  {
   "cell_type": "code",
   "execution_count": null,
   "metadata": {},
   "outputs": [],
   "source": [
    "\"\"\"\n",
    "\n",
    "Use: given file file, string string_of_allowed_symbols of allowed symbols, and a number n use:\n",
    "\n",
    "n=2\n",
    "string_of_allowed_symbols=\"\"\n",
    "file=\"file.txt\"\n",
    "string=convert_file_to_string_v3(file,list_of_allowed_symbols)\n",
    "list_occ=combinations(string,n)[0]\n",
    "list_freq=combinations(string,n)[1]\n",
    "hamming_matrix=distance_matrix(list_occ)\n",
    "rescaled_hamming_matrix=prog_rescaled_hamming_matrix(hamming_matrix,list_freq)\n",
    "print_matrix_to_csv_file(rescaled_hamming_matrix)\n",
    "print_string_to_csv_file(list_freq)\n",
    "\n",
    "Result: file output_file_matrix.csv contains the hamming matrix; file output_file_string.csv contains the numbers of occurrences\n",
    "\n",
    "\"\"\""
   ]
  },
  {
   "cell_type": "code",
   "execution_count": 5,
   "metadata": {},
   "outputs": [],
   "source": [
    "def print_matrix_to_csv_file(matrix): #Prints matrix matrix to file output_file_matrix.cvs; rows are separated by \\n's\n",
    "    f = open('output_file_matrix.csv', 'w')\n",
    "    a=matrix\n",
    "    for item in a:\n",
    "        for i in range(len(item)):\n",
    "            if i == 0:\n",
    "                f.write(str(item[i]))\n",
    "            else:\n",
    "                f.write(',' + str(item[i]))\n",
    "        f.write('\\n')\n",
    "    f.close()"
   ]
  },
  {
   "cell_type": "code",
   "execution_count": 6,
   "metadata": {},
   "outputs": [],
   "source": [
    "def print_string_to_csv_file(string): #Prints string string to file output_file_string.cvs\n",
    "    f = open('output_file_string.csv', 'w')\n",
    "    a=string\n",
    "    for i in range(len(a)):\n",
    "        if i == 0:\n",
    "            f.write(str(a[i]))\n",
    "        else:\n",
    "            f.write(',' + str(a[i]))\n",
    "    f.close()"
   ]
  },
  {
   "cell_type": "code",
   "execution_count": 7,
   "metadata": {},
   "outputs": [],
   "source": [
    "def hamming(string1,string2): #calculates the Hamming distance between strings string1 and string2\n",
    "    if len(string1) != len(string2): print(\"Error: strings of different size\")\n",
    "    if len(string1) == len(string2):\n",
    "        count=0\n",
    "        for i in range(len(string1)):\n",
    "            if string1[i] != string2[i]:\n",
    "                    count=count+1\n",
    "        return(count)"
   ]
  },
  {
   "cell_type": "code",
   "execution_count": 8,
   "metadata": {},
   "outputs": [],
   "source": [
    "def distance_matrix(string0): # calculates the Hamming distance matrix of string string0\n",
    "    distance_matrix = [[0 for x in range(len(string0))] for y in range(len(string0))]\n",
    "    for i in range(len(string0)):\n",
    "        for j in range(len(string0)):\n",
    "            distance_matrix[i][j] = hamming(string0[i],string0[j])\n",
    "    return(distance_matrix)"
   ]
  },
  {
   "cell_type": "code",
   "execution_count": 9,
   "metadata": {},
   "outputs": [],
   "source": [
    "def prog_rescaled_hamming_matrix(hamming_matrix,weights): #rescales matrix hamming_matrix using vector weights of weights\n",
    "    w=weights\n",
    "    rescaled_matrix = [[0 for x in range(len(weights))] for y in range(len(weights))]\n",
    "    for i in range(len(weights)):\n",
    "        for j in range(len(weights)):\n",
    "            rescaled_matrix[i][j] = hamming_matrix[i][j]/(w[i]+w[j])\n",
    "    return(rescaled_matrix)"
   ]
  },
  {
   "cell_type": "code",
   "execution_count": 10,
   "metadata": {},
   "outputs": [],
   "source": [
    "def combinations(string,number_of_characters): # calculates the number of occurrences strings of given lentgh number_of_characters in given string string;\n",
    "#use: combinations(string,number_of_characters)[0] is the list of strings that do occur;\n",
    "#combinations(string,number_of_characters)[1] is the list of occurrences\n",
    "    if(len(string)<number_of_characters):\n",
    "        print('Warning: the string is too short')\n",
    "    n=number_of_characters\n",
    "    list_of_combinations=[]\n",
    "    list_of_frequencies=[]\n",
    "    counter=0\n",
    "    for i in range(len(string)-n+1):\n",
    "        s=string[i:i+n]\n",
    "        if s in list_of_combinations:\n",
    "            j=list_of_combinations.index(s)\n",
    "            list_of_frequencies[j]=list_of_frequencies[j]+1\n",
    "        if s not in list_of_combinations:\n",
    "            list_of_combinations.append(s)\n",
    "            list_of_frequencies.append(1)\n",
    "            counter=counter+1\n",
    "    combs=[list_of_combinations,list_of_frequencies]\n",
    "    return(combs)"
   ]
  },
  {
   "cell_type": "code",
   "execution_count": 11,
   "metadata": {},
   "outputs": [],
   "source": [
    "def convert_file_to_string_v3(filename,string_of_allowed_symbols): #Converts file filename to string, removes all non-alphabetic characters and make the\n",
    "#result lower case; string_of_allowed_symbols is the string of non-alphabetic symbols which are allowed, e.g. if string_of_allowed_symbols=\"@#\",\n",
    "# we allow @ and #\n",
    "    file = open(filename,mode='r', encoding = 'utf-8')\n",
    "    s = file.read()\n",
    "    file.close()\n",
    "    alphabet=\"abcdefghijklmnopqrstuvwxyzABCDEFGHIJKLMNOPQRSTUVWXYZ\"\n",
    "    remove_non_alpha = ''.join(c for c in s if c in alphabet or c in string_of_allowed_symbols)\n",
    "    lower_case=remove_non_alpha.lower()\n",
    "    return(lower_case)"
   ]
  },
  {
   "cell_type": "code",
   "execution_count": null,
   "metadata": {},
   "outputs": [],
   "source": []
  },
  {
   "cell_type": "code",
   "execution_count": null,
   "metadata": {},
   "outputs": [],
   "source": [
    "#Большие надежды"
   ]
  },
  {
   "cell_type": "code",
   "execution_count": 14,
   "metadata": {},
   "outputs": [],
   "source": [
    "def print_matrix_to_csv_file1(matrix): #Prints matrix matrix to file output_file_matrix.cvs; rows are separated by \\n's\n",
    "    f = open('hamming_matrix_11_dickens.csv', 'w')\n",
    "    a=matrix\n",
    "    for item in a:\n",
    "        for i in range(len(item)):\n",
    "            if i == 0:\n",
    "                f.write(str(item[i]))\n",
    "            else:\n",
    "                f.write(',' + str(item[i]))\n",
    "        f.write('\\n')\n",
    "    f.close()"
   ]
  },
  {
   "cell_type": "code",
   "execution_count": 15,
   "metadata": {},
   "outputs": [],
   "source": [
    "def print_string_to_csv_file1(string): #Prints string string to file output_file_string.cvs\n",
    "    f = open('string_11_dickens.csv', 'w')\n",
    "    a=string\n",
    "    for i in range(len(a)):\n",
    "        if i == 0:\n",
    "            f.write(str(a[i]))\n",
    "        else:\n",
    "            f.write(',' + str(a[i]))\n",
    "    f.close()"
   ]
  },
  {
   "cell_type": "code",
   "execution_count": 16,
   "metadata": {},
   "outputs": [],
   "source": [
    "n=1\n",
    "string_of_allowed_symbols=\"abcdefghijklmnopqrstuvwxyzABCDEFGHIJKLMNOPQRSTUVWXYZ\"\n",
    "file=\"Большие надежды - Оригинал.txt\"\n",
    "string=convert_file_to_string_v3(file,string_of_allowed_symbols)\n",
    "list_occ=combinations(string,n)[0]\n",
    "list_freq=combinations(string,n)[1]\n",
    "hamming_matrix=distance_matrix(list_occ)\n",
    "rescaled_hamming_matrix=prog_rescaled_hamming_matrix(hamming_matrix,list_freq)\n",
    "print_matrix_to_csv_file1(rescaled_hamming_matrix)\n",
    "print_string_to_csv_file1(list_freq)"
   ]
  },
  {
   "cell_type": "code",
   "execution_count": null,
   "metadata": {},
   "outputs": [],
   "source": []
  },
  {
   "cell_type": "code",
   "execution_count": 11,
   "metadata": {},
   "outputs": [],
   "source": [
    "def print_matrix_to_csv_file2(matrix): #Prints matrix matrix to file output_file_matrix.cvs; rows are separated by \\n's\n",
    "    f = open('hamming_matrix_22_dickens.csv', 'w')\n",
    "    a=matrix\n",
    "    for item in a:\n",
    "        for i in range(len(item)):\n",
    "            if i == 0:\n",
    "                f.write(str(item[i]))\n",
    "            else:\n",
    "                f.write(',' + str(item[i]))\n",
    "        f.write('\\n')\n",
    "    f.close()"
   ]
  },
  {
   "cell_type": "code",
   "execution_count": 12,
   "metadata": {},
   "outputs": [],
   "source": [
    "def print_string_to_csv_file2(string): #Prints string string to file output_file_string.cvs\n",
    "    f = open('string_22_dickens.csv', 'w')\n",
    "    a=string\n",
    "    for i in range(len(a)):\n",
    "        if i == 0:\n",
    "            f.write(str(a[i]))\n",
    "        else:\n",
    "            f.write(',' + str(a[i]))\n",
    "    f.close()"
   ]
  },
  {
   "cell_type": "code",
   "execution_count": 13,
   "metadata": {},
   "outputs": [],
   "source": [
    "n=2\n",
    "string_of_allowed_symbols=\"abcdefghijklmnopqrstuvwxyzABCDEFGHIJKLMNOPQRSTUVWXYZ\"\n",
    "file=\"Большие надежды - Оригинал.txt\"\n",
    "string=convert_file_to_string_v3(file,string_of_allowed_symbols)\n",
    "list_occ=combinations(string,n)[0]\n",
    "list_freq=combinations(string,n)[1]\n",
    "hamming_matrix=distance_matrix(list_occ)\n",
    "rescaled_hamming_matrix=prog_rescaled_hamming_matrix(hamming_matrix,list_freq)\n",
    "print_matrix_to_csv_file2(rescaled_hamming_matrix)\n",
    "print_string_to_csv_file2(list_freq)"
   ]
  },
  {
   "cell_type": "code",
   "execution_count": null,
   "metadata": {},
   "outputs": [],
   "source": []
  },
  {
   "cell_type": "code",
   "execution_count": 17,
   "metadata": {},
   "outputs": [],
   "source": [
    "def print_matrix_to_csv_file3(matrix): #Prints matrix matrix to file output_file_matrix.cvs; rows are separated by \\n's\n",
    "    f = open('hamming_matrix_32_dickens.csv', 'w')\n",
    "    a=matrix\n",
    "    for item in a:\n",
    "        for i in range(len(item)):\n",
    "            if i == 0:\n",
    "                f.write(str(item[i]))\n",
    "            else:\n",
    "                f.write(',' + str(item[i]))\n",
    "        f.write('\\n')\n",
    "    f.close()"
   ]
  },
  {
   "cell_type": "code",
   "execution_count": 18,
   "metadata": {},
   "outputs": [],
   "source": [
    "def print_string_to_csv_file3(string): #Prints string string to file output_file_string.cvs\n",
    "    f = open('string_32_dickens.csv', 'w')\n",
    "    a=string\n",
    "    for i in range(len(a)):\n",
    "        if i == 0:\n",
    "            f.write(str(a[i]))\n",
    "        else:\n",
    "            f.write(',' + str(a[i]))\n",
    "    f.close()"
   ]
  },
  {
   "cell_type": "code",
   "execution_count": 19,
   "metadata": {},
   "outputs": [],
   "source": [
    "n=3\n",
    "string_of_allowed_symbols=\"abcdefghijklmnopqrstuvwxyzABCDEFGHIJKLMNOPQRSTUVWXYZ\"\n",
    "file=\"Большие надежды - Оригинал.txt\"\n",
    "string=convert_file_to_string_v3(file,string_of_allowed_symbols)\n",
    "list_occ=combinations(string,n)[0]\n",
    "list_freq=combinations(string,n)[1]\n",
    "hamming_matrix=distance_matrix(list_occ)\n",
    "rescaled_hamming_matrix=prog_rescaled_hamming_matrix(hamming_matrix,list_freq)\n",
    "print_matrix_to_csv_file3(rescaled_hamming_matrix)\n",
    "print_string_to_csv_file3(list_freq)"
   ]
  },
  {
   "cell_type": "code",
   "execution_count": null,
   "metadata": {},
   "outputs": [],
   "source": []
  },
  {
   "cell_type": "code",
   "execution_count": null,
   "metadata": {},
   "outputs": [],
   "source": [
    "#Повесть временных лет"
   ]
  },
  {
   "cell_type": "code",
   "execution_count": 22,
   "metadata": {},
   "outputs": [],
   "source": [
    "def print_matrix_to_csv_file1(matrix): #Prints matrix matrix to file output_file_matrix.cvs; rows are separated by \\n's\n",
    "    f = open('hamming_matrix_11_tale_of_bygone_years.csv', 'w')\n",
    "    a=matrix\n",
    "    for item in a:\n",
    "        for i in range(len(item)):\n",
    "            if i == 0:\n",
    "                f.write(str(item[i]))\n",
    "            else:\n",
    "                f.write(',' + str(item[i]))\n",
    "        f.write('\\n')\n",
    "    f.close()"
   ]
  },
  {
   "cell_type": "code",
   "execution_count": 23,
   "metadata": {},
   "outputs": [],
   "source": [
    "def print_string_to_csv_file1(string): #Prints string string to file output_file_string.cvs\n",
    "    f = open('string_11_tale_of_bygone_years.csv', 'w')\n",
    "    a=string\n",
    "    for i in range(len(a)):\n",
    "        if i == 0:\n",
    "            f.write(str(a[i]))\n",
    "        else:\n",
    "            f.write(',' + str(a[i]))\n",
    "    f.close()"
   ]
  },
  {
   "cell_type": "code",
   "execution_count": 26,
   "metadata": {},
   "outputs": [],
   "source": [
    "n=1\n",
    "string_of_allowed_symbols=\"абвгдеёжзийклмнопрстуфхцчшщъыьэюяѣАБВГДЕЁЖЗИЙКЛМНОПРСТУФХЦЧШЩЪЫЬЭЮЯѢ\"\n",
    "file=\"Повесть Временных Лет - Оригинал.txt\"\n",
    "string=convert_file_to_string_v3(file,string_of_allowed_symbols)\n",
    "list_occ=combinations(string,n)[0]\n",
    "list_freq=combinations(string,n)[1]\n",
    "hamming_matrix=distance_matrix(list_occ)\n",
    "rescaled_hamming_matrix=prog_rescaled_hamming_matrix(hamming_matrix,list_freq)\n",
    "print_matrix_to_csv_file1(rescaled_hamming_matrix)\n",
    "print_string_to_csv_file1(list_freq)"
   ]
  },
  {
   "cell_type": "code",
   "execution_count": null,
   "metadata": {},
   "outputs": [],
   "source": []
  },
  {
   "cell_type": "code",
   "execution_count": 27,
   "metadata": {},
   "outputs": [],
   "source": [
    "def print_matrix_to_csv_file2(matrix): #Prints matrix matrix to file output_file_matrix.cvs; rows are separated by \\n's\n",
    "    f = open('hamming_matrix_22_tale_of_bygone_years.csv', 'w')\n",
    "    a=matrix\n",
    "    for item in a:\n",
    "        for i in range(len(item)):\n",
    "            if i == 0:\n",
    "                f.write(str(item[i]))\n",
    "            else:\n",
    "                f.write(',' + str(item[i]))\n",
    "        f.write('\\n')\n",
    "    f.close()"
   ]
  },
  {
   "cell_type": "code",
   "execution_count": 28,
   "metadata": {},
   "outputs": [],
   "source": [
    "def print_string_to_csv_file2(string): #Prints string string to file output_file_string.cvs\n",
    "    f = open('string_22_tale_of_bygone_years.csv', 'w')\n",
    "    a=string\n",
    "    for i in range(len(a)):\n",
    "        if i == 0:\n",
    "            f.write(str(a[i]))\n",
    "        else:\n",
    "            f.write(',' + str(a[i]))\n",
    "    f.close()"
   ]
  },
  {
   "cell_type": "code",
   "execution_count": 29,
   "metadata": {},
   "outputs": [],
   "source": [
    "n=2\n",
    "string_of_allowed_symbols=\"абвгдеёжзийклмнопрстуфхцчшщъыьэюяѣАБВГДЕЁЖЗИЙКЛМНОПРСТУФХЦЧШЩЪЫЬЭЮЯѢ\"\n",
    "file=\"Повесть Временных Лет - Оригинал.txt\"\n",
    "string=convert_file_to_string_v3(file,string_of_allowed_symbols)\n",
    "list_occ=combinations(string,n)[0]\n",
    "list_freq=combinations(string,n)[1]\n",
    "hamming_matrix=distance_matrix(list_occ)\n",
    "rescaled_hamming_matrix=prog_rescaled_hamming_matrix(hamming_matrix,list_freq)\n",
    "print_matrix_to_csv_file2(rescaled_hamming_matrix)\n",
    "print_string_to_csv_file2(list_freq)"
   ]
  },
  {
   "cell_type": "code",
   "execution_count": null,
   "metadata": {},
   "outputs": [],
   "source": []
  },
  {
   "cell_type": "code",
   "execution_count": 30,
   "metadata": {},
   "outputs": [],
   "source": [
    "def print_matrix_to_csv_file3(matrix): #Prints matrix matrix to file output_file_matrix.cvs; rows are separated by \\n's\n",
    "    f = open('hamming_matrix_32_tale_of_bygone_years.csv', 'w')\n",
    "    a=matrix\n",
    "    for item in a:\n",
    "        for i in range(len(item)):\n",
    "            if i == 0:\n",
    "                f.write(str(item[i]))\n",
    "            else:\n",
    "                f.write(',' + str(item[i]))\n",
    "        f.write('\\n')\n",
    "    f.close()"
   ]
  },
  {
   "cell_type": "code",
   "execution_count": 31,
   "metadata": {},
   "outputs": [],
   "source": [
    "def print_string_to_csv_file3(string): #Prints string string to file output_file_string.cvs\n",
    "    f = open('string_32_tale_of_bygone_years.csv', 'w')\n",
    "    a=string\n",
    "    for i in range(len(a)):\n",
    "        if i == 0:\n",
    "            f.write(str(a[i]))\n",
    "        else:\n",
    "            f.write(',' + str(a[i]))\n",
    "    f.close()"
   ]
  },
  {
   "cell_type": "code",
   "execution_count": 32,
   "metadata": {},
   "outputs": [],
   "source": [
    "n=3\n",
    "string_of_allowed_symbols=\"абвгдеёжзийклмнопрстуфхцчшщъыьэюяѣАБВГДЕЁЖЗИЙКЛМНОПРСТУФХЦЧШЩЪЫЬЭЮЯѢ\"\n",
    "file=\"Повесть Временных Лет - Оригинал.txt\"\n",
    "string=convert_file_to_string_v3(file,string_of_allowed_symbols)\n",
    "list_occ=combinations(string,n)[0]\n",
    "list_freq=combinations(string,n)[1]\n",
    "hamming_matrix=distance_matrix(list_occ)\n",
    "rescaled_hamming_matrix=prog_rescaled_hamming_matrix(hamming_matrix,list_freq)\n",
    "print_matrix_to_csv_file3(rescaled_hamming_matrix)\n",
    "print_string_to_csv_file3(list_freq)"
   ]
  },
  {
   "cell_type": "code",
   "execution_count": null,
   "metadata": {},
   "outputs": [],
   "source": []
  },
  {
   "cell_type": "code",
   "execution_count": null,
   "metadata": {},
   "outputs": [],
   "source": [
    "#Преступление и наказание - Оригинал"
   ]
  },
  {
   "cell_type": "code",
   "execution_count": 33,
   "metadata": {},
   "outputs": [],
   "source": [
    "def print_matrix_to_csv_file1(matrix): #Prints matrix matrix to file output_file_matrix.cvs; rows are separated by \\n's\n",
    "    f = open('hamming_matrix_11_crime_and_punishment_original.csv', 'w')\n",
    "    a=matrix\n",
    "    for item in a:\n",
    "        for i in range(len(item)):\n",
    "            if i == 0:\n",
    "                f.write(str(item[i]))\n",
    "            else:\n",
    "                f.write(',' + str(item[i]))\n",
    "        f.write('\\n')\n",
    "    f.close()"
   ]
  },
  {
   "cell_type": "code",
   "execution_count": 34,
   "metadata": {},
   "outputs": [],
   "source": [
    "def print_string_to_csv_file1(string): #Prints string string to file output_file_string.cvs\n",
    "    f = open('string_11_crime_and_punishment_original.csv', 'w')\n",
    "    a=string\n",
    "    for i in range(len(a)):\n",
    "        if i == 0:\n",
    "            f.write(str(a[i]))\n",
    "        else:\n",
    "            f.write(',' + str(a[i]))\n",
    "    f.close()"
   ]
  },
  {
   "cell_type": "code",
   "execution_count": 35,
   "metadata": {},
   "outputs": [],
   "source": [
    "n=1\n",
    "string_of_allowed_symbols=\"абвгдеёжзийклмнопрстуфхцчшщъыьэюяАБВГДЕЁЖЗИЙКЛМНОПРСТУФХЦЧШЩЪЫЬЭЮЯ\"\n",
    "file=\"Преступление и наказание - 10 страниц - Оригинал.txt\"\n",
    "string=convert_file_to_string_v3(file,string_of_allowed_symbols)\n",
    "list_occ=combinations(string,n)[0]\n",
    "list_freq=combinations(string,n)[1]\n",
    "hamming_matrix=distance_matrix(list_occ)\n",
    "rescaled_hamming_matrix=prog_rescaled_hamming_matrix(hamming_matrix,list_freq)\n",
    "print_matrix_to_csv_file1(rescaled_hamming_matrix)\n",
    "print_string_to_csv_file1(list_freq)"
   ]
  },
  {
   "cell_type": "code",
   "execution_count": null,
   "metadata": {},
   "outputs": [],
   "source": []
  },
  {
   "cell_type": "code",
   "execution_count": 36,
   "metadata": {},
   "outputs": [],
   "source": [
    "def print_matrix_to_csv_file2(matrix): #Prints matrix matrix to file output_file_matrix.cvs; rows are separated by \\n's\n",
    "    f = open('hamming_matrix_22_crime_and_punishment_original.csv', 'w')\n",
    "    a=matrix\n",
    "    for item in a:\n",
    "        for i in range(len(item)):\n",
    "            if i == 0:\n",
    "                f.write(str(item[i]))\n",
    "            else:\n",
    "                f.write(',' + str(item[i]))\n",
    "        f.write('\\n')\n",
    "    f.close()"
   ]
  },
  {
   "cell_type": "code",
   "execution_count": 37,
   "metadata": {},
   "outputs": [],
   "source": [
    "def print_string_to_csv_file2(string): #Prints string string to file output_file_string.cvs\n",
    "    f = open('string_22_crime_and_punishment_original.csv', 'w')\n",
    "    a=string\n",
    "    for i in range(len(a)):\n",
    "        if i == 0:\n",
    "            f.write(str(a[i]))\n",
    "        else:\n",
    "            f.write(',' + str(a[i]))\n",
    "    f.close()"
   ]
  },
  {
   "cell_type": "code",
   "execution_count": 38,
   "metadata": {},
   "outputs": [],
   "source": [
    "n=2\n",
    "string_of_allowed_symbols=\"абвгдеёжзийклмнопрстуфхцчшщъыьэюяАБВГДЕЁЖЗИЙКЛМНОПРСТУФХЦЧШЩЪЫЬЭЮЯ\"\n",
    "file=\"Преступление и наказание - 10 страниц - Оригинал.txt\"\n",
    "string=convert_file_to_string_v3(file,string_of_allowed_symbols)\n",
    "list_occ=combinations(string,n)[0]\n",
    "list_freq=combinations(string,n)[1]\n",
    "hamming_matrix=distance_matrix(list_occ)\n",
    "rescaled_hamming_matrix=prog_rescaled_hamming_matrix(hamming_matrix,list_freq)\n",
    "print_matrix_to_csv_file2(rescaled_hamming_matrix)\n",
    "print_string_to_csv_file2(list_freq)"
   ]
  },
  {
   "cell_type": "code",
   "execution_count": null,
   "metadata": {},
   "outputs": [],
   "source": []
  },
  {
   "cell_type": "code",
   "execution_count": 39,
   "metadata": {},
   "outputs": [],
   "source": [
    "def print_matrix_to_csv_file3(matrix): #Prints matrix matrix to file output_file_matrix.cvs; rows are separated by \\n's\n",
    "    f = open('hamming_matrix_32_crime_and_punishment_original.csv', 'w')\n",
    "    a=matrix\n",
    "    for item in a:\n",
    "        for i in range(len(item)):\n",
    "            if i == 0:\n",
    "                f.write(str(item[i]))\n",
    "            else:\n",
    "                f.write(',' + str(item[i]))\n",
    "        f.write('\\n')\n",
    "    f.close()"
   ]
  },
  {
   "cell_type": "code",
   "execution_count": 40,
   "metadata": {},
   "outputs": [],
   "source": [
    "def print_string_to_csv_file3(string): #Prints string string to file output_file_string.cvs\n",
    "    f = open('string_32_crime_and_punishment_original.csv', 'w')\n",
    "    a=string\n",
    "    for i in range(len(a)):\n",
    "        if i == 0:\n",
    "            f.write(str(a[i]))\n",
    "        else:\n",
    "            f.write(',' + str(a[i]))\n",
    "    f.close()"
   ]
  },
  {
   "cell_type": "code",
   "execution_count": 41,
   "metadata": {},
   "outputs": [],
   "source": [
    "n=3\n",
    "string_of_allowed_symbols=\"абвгдеёжзийклмнопрстуфхцчшщъыьэюяАБВГДЕЁЖЗИЙКЛМНОПРСТУФХЦЧШЩЪЫЬЭЮЯ\"\n",
    "file=\"Преступление и наказание - 10 страниц - Оригинал.txt\"\n",
    "string=convert_file_to_string_v3(file,string_of_allowed_symbols)\n",
    "list_occ=combinations(string,n)[0]\n",
    "list_freq=combinations(string,n)[1]\n",
    "hamming_matrix=distance_matrix(list_occ)\n",
    "rescaled_hamming_matrix=prog_rescaled_hamming_matrix(hamming_matrix,list_freq)\n",
    "print_matrix_to_csv_file3(rescaled_hamming_matrix)\n",
    "print_string_to_csv_file3(list_freq)"
   ]
  },
  {
   "cell_type": "code",
   "execution_count": null,
   "metadata": {},
   "outputs": [],
   "source": []
  },
  {
   "cell_type": "code",
   "execution_count": null,
   "metadata": {},
   "outputs": [],
   "source": [
    "#Преступление и наказание - Основная транслитерация"
   ]
  },
  {
   "cell_type": "code",
   "execution_count": 42,
   "metadata": {},
   "outputs": [],
   "source": [
    "def print_matrix_to_csv_file1(matrix): #Prints matrix matrix to file output_file_matrix.cvs; rows are separated by \\n's\n",
    "    f = open('hamming_matrix_11_crime_and_punishment_main_transliteration.csv', 'w')\n",
    "    a=matrix\n",
    "    for item in a:\n",
    "        for i in range(len(item)):\n",
    "            if i == 0:\n",
    "                f.write(str(item[i]))\n",
    "            else:\n",
    "                f.write(',' + str(item[i]))\n",
    "        f.write('\\n')\n",
    "    f.close()"
   ]
  },
  {
   "cell_type": "code",
   "execution_count": 43,
   "metadata": {},
   "outputs": [],
   "source": [
    "def print_string_to_csv_file1(string): #Prints string string to file output_file_string.cvs\n",
    "    f = open('string_11_crime_and_punishment_main_transliteration.csv', 'w')\n",
    "    a=string\n",
    "    for i in range(len(a)):\n",
    "        if i == 0:\n",
    "            f.write(str(a[i]))\n",
    "        else:\n",
    "            f.write(',' + str(a[i]))\n",
    "    f.close()"
   ]
  },
  {
   "cell_type": "code",
   "execution_count": 44,
   "metadata": {},
   "outputs": [],
   "source": [
    "n=1\n",
    "string_of_allowed_symbols=\"abcdefghijklmnopqrstuvwxyz'#ABCDEFGHIJKLMNOPQRSTUVWXYZ\"\n",
    "file=\"Преступление и наказание - 10 страниц - Транслитерация - Основной.txt\"\n",
    "string=convert_file_to_string_v3(file,string_of_allowed_symbols)\n",
    "list_occ=combinations(string,n)[0]\n",
    "list_freq=combinations(string,n)[1]\n",
    "hamming_matrix=distance_matrix(list_occ)\n",
    "rescaled_hamming_matrix=prog_rescaled_hamming_matrix(hamming_matrix,list_freq)\n",
    "print_matrix_to_csv_file1(rescaled_hamming_matrix)\n",
    "print_string_to_csv_file1(list_freq)"
   ]
  },
  {
   "cell_type": "code",
   "execution_count": null,
   "metadata": {},
   "outputs": [],
   "source": []
  },
  {
   "cell_type": "code",
   "execution_count": 46,
   "metadata": {},
   "outputs": [],
   "source": [
    "def print_matrix_to_csv_file2(matrix): #Prints matrix matrix to file output_file_matrix.cvs; rows are separated by \\n's\n",
    "    f = open('hamming_matrix_22_crime_and_punishment_main_transliteration.csv', 'w')\n",
    "    a=matrix\n",
    "    for item in a:\n",
    "        for i in range(len(item)):\n",
    "            if i == 0:\n",
    "                f.write(str(item[i]))\n",
    "            else:\n",
    "                f.write(',' + str(item[i]))\n",
    "        f.write('\\n')\n",
    "    f.close()"
   ]
  },
  {
   "cell_type": "code",
   "execution_count": 47,
   "metadata": {},
   "outputs": [],
   "source": [
    "def print_string_to_csv_file2(string): #Prints string string to file output_file_string.cvs\n",
    "    f = open('string_22_crime_and_punishment_main_transliteration.csv', 'w')\n",
    "    a=string\n",
    "    for i in range(len(a)):\n",
    "        if i == 0:\n",
    "            f.write(str(a[i]))\n",
    "        else:\n",
    "            f.write(',' + str(a[i]))\n",
    "    f.close()"
   ]
  },
  {
   "cell_type": "code",
   "execution_count": 48,
   "metadata": {},
   "outputs": [],
   "source": [
    "n=2\n",
    "string_of_allowed_symbols=\"abcdefghijklmnopqrstuvwxyz'#ABCDEFGHIJKLMNOPQRSTUVWXYZ\"\n",
    "file=\"Преступление и наказание - 10 страниц - Транслитерация - Основной.txt\"\n",
    "string=convert_file_to_string_v3(file,string_of_allowed_symbols)\n",
    "list_occ=combinations(string,n)[0]\n",
    "list_freq=combinations(string,n)[1]\n",
    "hamming_matrix=distance_matrix(list_occ)\n",
    "rescaled_hamming_matrix=prog_rescaled_hamming_matrix(hamming_matrix,list_freq)\n",
    "print_matrix_to_csv_file2(rescaled_hamming_matrix)\n",
    "print_string_to_csv_file2(list_freq)"
   ]
  },
  {
   "cell_type": "code",
   "execution_count": null,
   "metadata": {},
   "outputs": [],
   "source": []
  },
  {
   "cell_type": "code",
   "execution_count": 49,
   "metadata": {},
   "outputs": [],
   "source": [
    "def print_matrix_to_csv_file3(matrix): #Prints matrix matrix to file output_file_matrix.cvs; rows are separated by \\n's\n",
    "    f = open('hamming_matrix_32_crime_and_punishment_main_transliteration.csv', 'w')\n",
    "    a=matrix\n",
    "    for item in a:\n",
    "        for i in range(len(item)):\n",
    "            if i == 0:\n",
    "                f.write(str(item[i]))\n",
    "            else:\n",
    "                f.write(',' + str(item[i]))\n",
    "        f.write('\\n')\n",
    "    f.close()"
   ]
  },
  {
   "cell_type": "code",
   "execution_count": 50,
   "metadata": {},
   "outputs": [],
   "source": [
    "def print_string_to_csv_file3(string): #Prints string string to file output_file_string.cvs\n",
    "    f = open('string_32_crime_and_punishment_main_transliteration.csv', 'w')\n",
    "    a=string\n",
    "    for i in range(len(a)):\n",
    "        if i == 0:\n",
    "            f.write(str(a[i]))\n",
    "        else:\n",
    "            f.write(',' + str(a[i]))\n",
    "    f.close()"
   ]
  },
  {
   "cell_type": "code",
   "execution_count": 51,
   "metadata": {},
   "outputs": [],
   "source": [
    "n=3\n",
    "string_of_allowed_symbols=\"abcdefghijklmnopqrstuvwxyz'#ABCDEFGHIJKLMNOPQRSTUVWXYZ\"\n",
    "file=\"Преступление и наказание - 10 страниц - Транслитерация - Основной.txt\"\n",
    "string=convert_file_to_string_v3(file,string_of_allowed_symbols)\n",
    "list_occ=combinations(string,n)[0]\n",
    "list_freq=combinations(string,n)[1]\n",
    "hamming_matrix=distance_matrix(list_occ)\n",
    "rescaled_hamming_matrix=prog_rescaled_hamming_matrix(hamming_matrix,list_freq)\n",
    "print_matrix_to_csv_file3(rescaled_hamming_matrix)\n",
    "print_string_to_csv_file3(list_freq)"
   ]
  },
  {
   "cell_type": "code",
   "execution_count": null,
   "metadata": {},
   "outputs": [],
   "source": []
  },
  {
   "cell_type": "code",
   "execution_count": null,
   "metadata": {},
   "outputs": [],
   "source": [
    "#Преступление и наказание - Транслитерация ГОСТ 7.79-2000"
   ]
  },
  {
   "cell_type": "code",
   "execution_count": 53,
   "metadata": {},
   "outputs": [],
   "source": [
    "def print_matrix_to_csv_file1(matrix): #Prints matrix matrix to file output_file_matrix.cvs; rows are separated by \\n's\n",
    "    f = open('hamming_matrix_11_crime_and_punishment_transliteration_gost.csv', 'w')\n",
    "    a=matrix\n",
    "    for item in a:\n",
    "        for i in range(len(item)):\n",
    "            if i == 0:\n",
    "                f.write(str(item[i]))\n",
    "            else:\n",
    "                f.write(',' + str(item[i]))\n",
    "        f.write('\\n')\n",
    "    f.close()"
   ]
  },
  {
   "cell_type": "code",
   "execution_count": 54,
   "metadata": {},
   "outputs": [],
   "source": [
    "def print_string_to_csv_file1(string): #Prints string string to file output_file_string.cvs\n",
    "    f = open('string_11_crime_and_punishment_transliteration_gost.csv', 'w')\n",
    "    a=string\n",
    "    for i in range(len(a)):\n",
    "        if i == 0:\n",
    "            f.write(str(a[i]))\n",
    "        else:\n",
    "            f.write(',' + str(a[i]))\n",
    "    f.close()"
   ]
  },
  {
   "cell_type": "code",
   "execution_count": 55,
   "metadata": {},
   "outputs": [],
   "source": [
    "n=1\n",
    "string_of_allowed_symbols=\"abcdefghijklmnopqrstuvwxyz'\\\"ABCDEFGHIJKLMNOPQRSTUVWXYZ\"\n",
    "file=\"Преступление и наказание - 10 страниц - Транслитерация - ГОСТ 7.79-2000.txt\"\n",
    "string=convert_file_to_string_v3(file,string_of_allowed_symbols)\n",
    "list_occ=combinations(string,n)[0]\n",
    "list_freq=combinations(string,n)[1]\n",
    "hamming_matrix=distance_matrix(list_occ)\n",
    "rescaled_hamming_matrix=prog_rescaled_hamming_matrix(hamming_matrix,list_freq)\n",
    "print_matrix_to_csv_file1(rescaled_hamming_matrix)\n",
    "print_string_to_csv_file1(list_freq)"
   ]
  },
  {
   "cell_type": "code",
   "execution_count": null,
   "metadata": {},
   "outputs": [],
   "source": []
  },
  {
   "cell_type": "code",
   "execution_count": 56,
   "metadata": {},
   "outputs": [],
   "source": [
    "def print_matrix_to_csv_file2(matrix): #Prints matrix matrix to file output_file_matrix.cvs; rows are separated by \\n's\n",
    "    f = open('hamming_matrix_22_crime_and_punishment_transliteration_gost.csv', 'w')\n",
    "    a=matrix\n",
    "    for item in a:\n",
    "        for i in range(len(item)):\n",
    "            if i == 0:\n",
    "                f.write(str(item[i]))\n",
    "            else:\n",
    "                f.write(',' + str(item[i]))\n",
    "        f.write('\\n')\n",
    "    f.close()"
   ]
  },
  {
   "cell_type": "code",
   "execution_count": 57,
   "metadata": {},
   "outputs": [],
   "source": [
    "def print_string_to_csv_file2(string): #Prints string string to file output_file_string.cvs\n",
    "    f = open('string_22_crime_and_punishment_transliteration_gost.csv', 'w')\n",
    "    a=string\n",
    "    for i in range(len(a)):\n",
    "        if i == 0:\n",
    "            f.write(str(a[i]))\n",
    "        else:\n",
    "            f.write(',' + str(a[i]))\n",
    "    f.close()"
   ]
  },
  {
   "cell_type": "code",
   "execution_count": 58,
   "metadata": {},
   "outputs": [],
   "source": [
    "n=2\n",
    "string_of_allowed_symbols=\"abcdefghijklmnopqrstuvwxyz'\\\"ABCDEFGHIJKLMNOPQRSTUVWXYZ\"\n",
    "file=\"Преступление и наказание - 10 страниц - Транслитерация - ГОСТ 7.79-2000.txt\"\n",
    "string=convert_file_to_string_v3(file,string_of_allowed_symbols)\n",
    "list_occ=combinations(string,n)[0]\n",
    "list_freq=combinations(string,n)[1]\n",
    "hamming_matrix=distance_matrix(list_occ)\n",
    "rescaled_hamming_matrix=prog_rescaled_hamming_matrix(hamming_matrix,list_freq)\n",
    "print_matrix_to_csv_file2(rescaled_hamming_matrix)\n",
    "print_string_to_csv_file2(list_freq)"
   ]
  },
  {
   "cell_type": "code",
   "execution_count": null,
   "metadata": {},
   "outputs": [],
   "source": []
  },
  {
   "cell_type": "code",
   "execution_count": 60,
   "metadata": {},
   "outputs": [],
   "source": [
    "def print_matrix_to_csv_file3(matrix): #Prints matrix matrix to file output_file_matrix.cvs; rows are separated by \\n's\n",
    "    f = open('hamming_matrix_32_crime_and_punishment_transliteration_gost.csv', 'w')\n",
    "    a=matrix\n",
    "    for item in a:\n",
    "        for i in range(len(item)):\n",
    "            if i == 0:\n",
    "                f.write(str(item[i]))\n",
    "            else:\n",
    "                f.write(',' + str(item[i]))\n",
    "        f.write('\\n')\n",
    "    f.close()"
   ]
  },
  {
   "cell_type": "code",
   "execution_count": 61,
   "metadata": {},
   "outputs": [],
   "source": [
    "def print_string_to_csv_file3(string): #Prints string string to file output_file_string.cvs\n",
    "    f = open('string_32_crime_and_punishment_transliteration_gost.csv', 'w')\n",
    "    a=string\n",
    "    for i in range(len(a)):\n",
    "        if i == 0:\n",
    "            f.write(str(a[i]))\n",
    "        else:\n",
    "            f.write(',' + str(a[i]))\n",
    "    f.close()"
   ]
  },
  {
   "cell_type": "code",
   "execution_count": 62,
   "metadata": {},
   "outputs": [],
   "source": [
    "n=3\n",
    "string_of_allowed_symbols=\"abcdefghijklmnopqrstuvwxyz'\\\"ABCDEFGHIJKLMNOPQRSTUVWXYZ\"\n",
    "file=\"Преступление и наказание - 10 страниц - Транслитерация - ГОСТ 7.79-2000.txt\"\n",
    "string=convert_file_to_string_v3(file,string_of_allowed_symbols)\n",
    "list_occ=combinations(string,n)[0]\n",
    "list_freq=combinations(string,n)[1]\n",
    "hamming_matrix=distance_matrix(list_occ)\n",
    "rescaled_hamming_matrix=prog_rescaled_hamming_matrix(hamming_matrix,list_freq)\n",
    "print_matrix_to_csv_file3(rescaled_hamming_matrix)\n",
    "print_string_to_csv_file3(list_freq)"
   ]
  },
  {
   "cell_type": "code",
   "execution_count": null,
   "metadata": {},
   "outputs": [],
   "source": []
  },
  {
   "cell_type": "code",
   "execution_count": null,
   "metadata": {},
   "outputs": [],
   "source": []
  },
  {
   "cell_type": "code",
   "execution_count": null,
   "metadata": {},
   "outputs": [],
   "source": [
    "#Letters of a Javanese princess"
   ]
  },
  {
   "cell_type": "code",
   "execution_count": 63,
   "metadata": {},
   "outputs": [],
   "source": [
    "def print_matrix_to_csv_file1(matrix): #Prints matrix matrix to file output_file_matrix.cvs; rows are separated by \\n's\n",
    "    f = open('hamming_matrix_11_letters_of_a_javanese_princess.csv', 'w')\n",
    "    a=matrix\n",
    "    for item in a:\n",
    "        for i in range(len(item)):\n",
    "            if i == 0:\n",
    "                f.write(str(item[i]))\n",
    "            else:\n",
    "                f.write(',' + str(item[i]))\n",
    "        f.write('\\n')\n",
    "    f.close()"
   ]
  },
  {
   "cell_type": "code",
   "execution_count": 64,
   "metadata": {},
   "outputs": [],
   "source": [
    "def print_string_to_csv_file1(string): #Prints string string to file output_file_string.cvs\n",
    "    f = open('string_11_letters_of_a_javanese_princess.csv', 'w')\n",
    "    a=string\n",
    "    for i in range(len(a)):\n",
    "        if i == 0:\n",
    "            f.write(str(a[i]))\n",
    "        else:\n",
    "            f.write(',' + str(a[i]))\n",
    "    f.close()"
   ]
  },
  {
   "cell_type": "code",
   "execution_count": 65,
   "metadata": {},
   "outputs": [],
   "source": [
    "n=1\n",
    "string_of_allowed_symbols=\"abcdefghijklmnopqrstuvwxyzABCDEFGHIJKLMNOPQRSTUVWXYZ\"\n",
    "file=\"Letters of a Javanese princess.txt\"\n",
    "string=convert_file_to_string_v3(file,string_of_allowed_symbols)\n",
    "list_occ=combinations(string,n)[0]\n",
    "list_freq=combinations(string,n)[1]\n",
    "hamming_matrix=distance_matrix(list_occ)\n",
    "rescaled_hamming_matrix=prog_rescaled_hamming_matrix(hamming_matrix,list_freq)\n",
    "print_matrix_to_csv_file1(rescaled_hamming_matrix)\n",
    "print_string_to_csv_file1(list_freq)"
   ]
  },
  {
   "cell_type": "code",
   "execution_count": null,
   "metadata": {},
   "outputs": [],
   "source": []
  },
  {
   "cell_type": "code",
   "execution_count": 66,
   "metadata": {},
   "outputs": [],
   "source": [
    "def print_matrix_to_csv_file2(matrix): #Prints matrix matrix to file output_file_matrix.cvs; rows are separated by \\n's\n",
    "    f = open('hamming_matrix_22_letters_of_a_javanese_princess.csv', 'w')\n",
    "    a=matrix\n",
    "    for item in a:\n",
    "        for i in range(len(item)):\n",
    "            if i == 0:\n",
    "                f.write(str(item[i]))\n",
    "            else:\n",
    "                f.write(',' + str(item[i]))\n",
    "        f.write('\\n')\n",
    "    f.close()"
   ]
  },
  {
   "cell_type": "code",
   "execution_count": 67,
   "metadata": {},
   "outputs": [],
   "source": [
    "def print_string_to_csv_file2(string): #Prints string string to file output_file_string.cvs\n",
    "    f = open('string_22_letters_of_a_javanese_princess.csv', 'w')\n",
    "    a=string\n",
    "    for i in range(len(a)):\n",
    "        if i == 0:\n",
    "            f.write(str(a[i]))\n",
    "        else:\n",
    "            f.write(',' + str(a[i]))\n",
    "    f.close()"
   ]
  },
  {
   "cell_type": "code",
   "execution_count": 68,
   "metadata": {},
   "outputs": [],
   "source": [
    "n=2\n",
    "string_of_allowed_symbols=\"abcdefghijklmnopqrstuvwxyzABCDEFGHIJKLMNOPQRSTUVWXYZ\"\n",
    "file=\"Letters of a Javanese princess.txt\"\n",
    "string=convert_file_to_string_v3(file,string_of_allowed_symbols)\n",
    "list_occ=combinations(string,n)[0]\n",
    "list_freq=combinations(string,n)[1]\n",
    "hamming_matrix=distance_matrix(list_occ)\n",
    "rescaled_hamming_matrix=prog_rescaled_hamming_matrix(hamming_matrix,list_freq)\n",
    "print_matrix_to_csv_file2(rescaled_hamming_matrix)\n",
    "print_string_to_csv_file2(list_freq)"
   ]
  },
  {
   "cell_type": "code",
   "execution_count": null,
   "metadata": {},
   "outputs": [],
   "source": []
  },
  {
   "cell_type": "code",
   "execution_count": 69,
   "metadata": {},
   "outputs": [],
   "source": [
    "def print_matrix_to_csv_file3(matrix): #Prints matrix matrix to file output_file_matrix.cvs; rows are separated by \\n's\n",
    "    f = open('hamming_matrix_32_letters_of_a_javanese_princess.csv', 'w')\n",
    "    a=matrix\n",
    "    for item in a:\n",
    "        for i in range(len(item)):\n",
    "            if i == 0:\n",
    "                f.write(str(item[i]))\n",
    "            else:\n",
    "                f.write(',' + str(item[i]))\n",
    "        f.write('\\n')\n",
    "    f.close()"
   ]
  },
  {
   "cell_type": "code",
   "execution_count": 70,
   "metadata": {},
   "outputs": [],
   "source": [
    "def print_string_to_csv_file3(string): #Prints string string to file output_file_string.cvs\n",
    "    f = open('string_32_letters_of_a_javanese_princess.csv', 'w')\n",
    "    a=string\n",
    "    for i in range(len(a)):\n",
    "        if i == 0:\n",
    "            f.write(str(a[i]))\n",
    "        else:\n",
    "            f.write(',' + str(a[i]))\n",
    "    f.close()"
   ]
  },
  {
   "cell_type": "code",
   "execution_count": 71,
   "metadata": {},
   "outputs": [],
   "source": [
    "n=3\n",
    "string_of_allowed_symbols=\"abcdefghijklmnopqrstuvwxyzABCDEFGHIJKLMNOPQRSTUVWXYZ\"\n",
    "file=\"Letters of a Javanese princess.txt\"\n",
    "string=convert_file_to_string_v3(file,string_of_allowed_symbols)\n",
    "list_occ=combinations(string,n)[0]\n",
    "list_freq=combinations(string,n)[1]\n",
    "hamming_matrix=distance_matrix(list_occ)\n",
    "rescaled_hamming_matrix=prog_rescaled_hamming_matrix(hamming_matrix,list_freq)\n",
    "print_matrix_to_csv_file3(rescaled_hamming_matrix)\n",
    "print_string_to_csv_file3(list_freq)"
   ]
  },
  {
   "cell_type": "code",
   "execution_count": null,
   "metadata": {},
   "outputs": [],
   "source": []
  },
  {
   "cell_type": "code",
   "execution_count": null,
   "metadata": {},
   "outputs": [],
   "source": []
  },
  {
   "cell_type": "code",
   "execution_count": null,
   "metadata": {},
   "outputs": [],
   "source": [
    "#Tale Of Bygone Years - Main Transliteration"
   ]
  },
  {
   "cell_type": "code",
   "execution_count": 72,
   "metadata": {},
   "outputs": [],
   "source": [
    "def print_matrix_to_csv_file1(matrix): #Prints matrix matrix to file output_file_matrix.cvs; rows are separated by \\n's\n",
    "    f = open('hamming_matrix_11_tale_of_bygone_years_main_transliteration.csv', 'w')\n",
    "    a=matrix\n",
    "    for item in a:\n",
    "        for i in range(len(item)):\n",
    "            if i == 0:\n",
    "                f.write(str(item[i]))\n",
    "            else:\n",
    "                f.write(',' + str(item[i]))\n",
    "        f.write('\\n')\n",
    "    f.close()"
   ]
  },
  {
   "cell_type": "code",
   "execution_count": 73,
   "metadata": {},
   "outputs": [],
   "source": [
    "def print_string_to_csv_file1(string): #Prints string string to file output_file_string.cvs\n",
    "    f = open('string_11_tale_of_bygone_years_main_transliteration.csv', 'w')\n",
    "    a=string\n",
    "    for i in range(len(a)):\n",
    "        if i == 0:\n",
    "            f.write(str(a[i]))\n",
    "        else:\n",
    "            f.write(',' + str(a[i]))\n",
    "    f.close()"
   ]
  },
  {
   "cell_type": "code",
   "execution_count": 74,
   "metadata": {},
   "outputs": [],
   "source": [
    "n=1\n",
    "string_of_allowed_symbols=\"abcdefghijklmnopqrstuvwxyz'#ABCDEFGHIJKLMNOPQRSTUVWXYZ\"\n",
    "file=\"Tale Of Bygone Years - Main Transliteration.txt\"\n",
    "string=convert_file_to_string_v3(file,string_of_allowed_symbols)\n",
    "list_occ=combinations(string,n)[0]\n",
    "list_freq=combinations(string,n)[1]\n",
    "hamming_matrix=distance_matrix(list_occ)\n",
    "rescaled_hamming_matrix=prog_rescaled_hamming_matrix(hamming_matrix,list_freq)\n",
    "print_matrix_to_csv_file1(rescaled_hamming_matrix)\n",
    "print_string_to_csv_file1(list_freq)"
   ]
  },
  {
   "cell_type": "code",
   "execution_count": null,
   "metadata": {},
   "outputs": [],
   "source": []
  },
  {
   "cell_type": "code",
   "execution_count": 75,
   "metadata": {},
   "outputs": [],
   "source": [
    "def print_matrix_to_csv_file2(matrix): #Prints matrix matrix to file output_file_matrix.cvs; rows are separated by \\n's\n",
    "    f = open('hamming_matrix_22_tale_of_bygone_years_main_transliteration.csv', 'w')\n",
    "    a=matrix\n",
    "    for item in a:\n",
    "        for i in range(len(item)):\n",
    "            if i == 0:\n",
    "                f.write(str(item[i]))\n",
    "            else:\n",
    "                f.write(',' + str(item[i]))\n",
    "        f.write('\\n')\n",
    "    f.close()"
   ]
  },
  {
   "cell_type": "code",
   "execution_count": 76,
   "metadata": {},
   "outputs": [],
   "source": [
    "def print_string_to_csv_file2(string): #Prints string string to file output_file_string.cvs\n",
    "    f = open('string_22_tale_of_bygone_years_main_transliteration.csv', 'w')\n",
    "    a=string\n",
    "    for i in range(len(a)):\n",
    "        if i == 0:\n",
    "            f.write(str(a[i]))\n",
    "        else:\n",
    "            f.write(',' + str(a[i]))\n",
    "    f.close()"
   ]
  },
  {
   "cell_type": "code",
   "execution_count": 77,
   "metadata": {},
   "outputs": [],
   "source": [
    "n=2\n",
    "string_of_allowed_symbols=\"abcdefghijklmnopqrstuvwxyz'#ABCDEFGHIJKLMNOPQRSTUVWXYZ\"\n",
    "file=\"Tale Of Bygone Years - Main Transliteration.txt\"\n",
    "string=convert_file_to_string_v3(file,string_of_allowed_symbols)\n",
    "list_occ=combinations(string,n)[0]\n",
    "list_freq=combinations(string,n)[1]\n",
    "hamming_matrix=distance_matrix(list_occ)\n",
    "rescaled_hamming_matrix=prog_rescaled_hamming_matrix(hamming_matrix,list_freq)\n",
    "print_matrix_to_csv_file2(rescaled_hamming_matrix)\n",
    "print_string_to_csv_file2(list_freq)"
   ]
  },
  {
   "cell_type": "code",
   "execution_count": null,
   "metadata": {},
   "outputs": [],
   "source": []
  },
  {
   "cell_type": "code",
   "execution_count": 78,
   "metadata": {},
   "outputs": [],
   "source": [
    "def print_matrix_to_csv_file3(matrix): #Prints matrix matrix to file output_file_matrix.cvs; rows are separated by \\n's\n",
    "    f = open('hamming_matrix_32_tale_of_bygone_years_main_transliteration.csv', 'w')\n",
    "    a=matrix\n",
    "    for item in a:\n",
    "        for i in range(len(item)):\n",
    "            if i == 0:\n",
    "                f.write(str(item[i]))\n",
    "            else:\n",
    "                f.write(',' + str(item[i]))\n",
    "        f.write('\\n')\n",
    "    f.close()"
   ]
  },
  {
   "cell_type": "code",
   "execution_count": 79,
   "metadata": {},
   "outputs": [],
   "source": [
    "def print_string_to_csv_file3(string): #Prints string string to file output_file_string.cvs\n",
    "    f = open('string_32_tale_of_bygone_years_main_transliteration.csv', 'w')\n",
    "    a=string\n",
    "    for i in range(len(a)):\n",
    "        if i == 0:\n",
    "            f.write(str(a[i]))\n",
    "        else:\n",
    "            f.write(',' + str(a[i]))\n",
    "    f.close()"
   ]
  },
  {
   "cell_type": "code",
   "execution_count": 80,
   "metadata": {},
   "outputs": [],
   "source": [
    "n=3\n",
    "string_of_allowed_symbols=\"abcdefghijklmnopqrstuvwxyz'#ABCDEFGHIJKLMNOPQRSTUVWXYZ\"\n",
    "file=\"Tale Of Bygone Years - Main Transliteration.txt\"\n",
    "string=convert_file_to_string_v3(file,string_of_allowed_symbols)\n",
    "list_occ=combinations(string,n)[0]\n",
    "list_freq=combinations(string,n)[1]\n",
    "hamming_matrix=distance_matrix(list_occ)\n",
    "rescaled_hamming_matrix=prog_rescaled_hamming_matrix(hamming_matrix,list_freq)\n",
    "print_matrix_to_csv_file3(rescaled_hamming_matrix)\n",
    "print_string_to_csv_file3(list_freq)"
   ]
  },
  {
   "cell_type": "code",
   "execution_count": null,
   "metadata": {},
   "outputs": [],
   "source": []
  },
  {
   "cell_type": "code",
   "execution_count": null,
   "metadata": {},
   "outputs": [],
   "source": []
  },
  {
   "cell_type": "code",
   "execution_count": null,
   "metadata": {},
   "outputs": [],
   "source": [
    "#Алиса в Стране Чудес"
   ]
  },
  {
   "cell_type": "code",
   "execution_count": 81,
   "metadata": {},
   "outputs": [],
   "source": [
    "def print_matrix_to_csv_file1(matrix): #Prints matrix matrix to file output_file_matrix.cvs; rows are separated by \\n's\n",
    "    f = open('hamming_matrix_11_carroll.csv', 'w')\n",
    "    a=matrix\n",
    "    for item in a:\n",
    "        for i in range(len(item)):\n",
    "            if i == 0:\n",
    "                f.write(str(item[i]))\n",
    "            else:\n",
    "                f.write(',' + str(item[i]))\n",
    "        f.write('\\n')\n",
    "    f.close()"
   ]
  },
  {
   "cell_type": "code",
   "execution_count": 82,
   "metadata": {},
   "outputs": [],
   "source": [
    "def print_string_to_csv_file1(string): #Prints string string to file output_file_string.cvs\n",
    "    f = open('string_11_carroll.csv', 'w')\n",
    "    a=string\n",
    "    for i in range(len(a)):\n",
    "        if i == 0:\n",
    "            f.write(str(a[i]))\n",
    "        else:\n",
    "            f.write(',' + str(a[i]))\n",
    "    f.close()"
   ]
  },
  {
   "cell_type": "code",
   "execution_count": 83,
   "metadata": {},
   "outputs": [],
   "source": [
    "n=1\n",
    "string_of_allowed_symbols=\"abcdefghijklmnopqrstuvwxyzABCDEFGHIJKLMNOPQRSTUVWXYZ\"\n",
    "file=\"Алиса в стране чудес - Оригинал.txt\"\n",
    "string=convert_file_to_string_v3(file,string_of_allowed_symbols)\n",
    "list_occ=combinations(string,n)[0]\n",
    "list_freq=combinations(string,n)[1]\n",
    "hamming_matrix=distance_matrix(list_occ)\n",
    "rescaled_hamming_matrix=prog_rescaled_hamming_matrix(hamming_matrix,list_freq)\n",
    "print_matrix_to_csv_file1(rescaled_hamming_matrix)\n",
    "print_string_to_csv_file1(list_freq)"
   ]
  },
  {
   "cell_type": "code",
   "execution_count": null,
   "metadata": {},
   "outputs": [],
   "source": []
  },
  {
   "cell_type": "code",
   "execution_count": 84,
   "metadata": {},
   "outputs": [],
   "source": [
    "def print_matrix_to_csv_file2(matrix): #Prints matrix matrix to file output_file_matrix.cvs; rows are separated by \\n's\n",
    "    f = open('hamming_matrix_22_carroll.csv', 'w')\n",
    "    a=matrix\n",
    "    for item in a:\n",
    "        for i in range(len(item)):\n",
    "            if i == 0:\n",
    "                f.write(str(item[i]))\n",
    "            else:\n",
    "                f.write(',' + str(item[i]))\n",
    "        f.write('\\n')\n",
    "    f.close()"
   ]
  },
  {
   "cell_type": "code",
   "execution_count": 85,
   "metadata": {},
   "outputs": [],
   "source": [
    "def print_string_to_csv_file2(string): #Prints string string to file output_file_string.cvs\n",
    "    f = open('string_22_carroll.csv', 'w')\n",
    "    a=string\n",
    "    for i in range(len(a)):\n",
    "        if i == 0:\n",
    "            f.write(str(a[i]))\n",
    "        else:\n",
    "            f.write(',' + str(a[i]))\n",
    "    f.close()"
   ]
  },
  {
   "cell_type": "code",
   "execution_count": 86,
   "metadata": {},
   "outputs": [],
   "source": [
    "n=2\n",
    "string_of_allowed_symbols=\"abcdefghijklmnopqrstuvwxyzABCDEFGHIJKLMNOPQRSTUVWXYZ\"\n",
    "file=\"Алиса в стране чудес - Оригинал.txt\"\n",
    "string=convert_file_to_string_v3(file,string_of_allowed_symbols)\n",
    "list_occ=combinations(string,n)[0]\n",
    "list_freq=combinations(string,n)[1]\n",
    "hamming_matrix=distance_matrix(list_occ)\n",
    "rescaled_hamming_matrix=prog_rescaled_hamming_matrix(hamming_matrix,list_freq)\n",
    "print_matrix_to_csv_file2(rescaled_hamming_matrix)\n",
    "print_string_to_csv_file2(list_freq)"
   ]
  },
  {
   "cell_type": "code",
   "execution_count": null,
   "metadata": {},
   "outputs": [],
   "source": []
  },
  {
   "cell_type": "code",
   "execution_count": 87,
   "metadata": {},
   "outputs": [],
   "source": [
    "def print_matrix_to_csv_file3(matrix): #Prints matrix matrix to file output_file_matrix.cvs; rows are separated by \\n's\n",
    "    f = open('hamming_matrix_32_carroll.csv', 'w')\n",
    "    a=matrix\n",
    "    for item in a:\n",
    "        for i in range(len(item)):\n",
    "            if i == 0:\n",
    "                f.write(str(item[i]))\n",
    "            else:\n",
    "                f.write(',' + str(item[i]))\n",
    "        f.write('\\n')\n",
    "    f.close()"
   ]
  },
  {
   "cell_type": "code",
   "execution_count": 88,
   "metadata": {},
   "outputs": [],
   "source": [
    "def print_string_to_csv_file3(string): #Prints string string to file output_file_string.cvs\n",
    "    f = open('string_32_carroll.csv', 'w')\n",
    "    a=string\n",
    "    for i in range(len(a)):\n",
    "        if i == 0:\n",
    "            f.write(str(a[i]))\n",
    "        else:\n",
    "            f.write(',' + str(a[i]))\n",
    "    f.close()"
   ]
  },
  {
   "cell_type": "code",
   "execution_count": 89,
   "metadata": {},
   "outputs": [],
   "source": [
    "n=3\n",
    "string_of_allowed_symbols=\"abcdefghijklmnopqrstuvwxyzABCDEFGHIJKLMNOPQRSTUVWXYZ\"\n",
    "file=\"Алиса в стране чудес - Оригинал.txt\"\n",
    "string=convert_file_to_string_v3(file,string_of_allowed_symbols)\n",
    "list_occ=combinations(string,n)[0]\n",
    "list_freq=combinations(string,n)[1]\n",
    "hamming_matrix=distance_matrix(list_occ)\n",
    "rescaled_hamming_matrix=prog_rescaled_hamming_matrix(hamming_matrix,list_freq)\n",
    "print_matrix_to_csv_file3(rescaled_hamming_matrix)\n",
    "print_string_to_csv_file3(list_freq)"
   ]
  },
  {
   "cell_type": "code",
   "execution_count": null,
   "metadata": {},
   "outputs": [],
   "source": []
  },
  {
   "cell_type": "code",
   "execution_count": null,
   "metadata": {},
   "outputs": [],
   "source": []
  },
  {
   "cell_type": "code",
   "execution_count": null,
   "metadata": {},
   "outputs": [],
   "source": [
    "#Пруст"
   ]
  },
  {
   "cell_type": "code",
   "execution_count": 90,
   "metadata": {},
   "outputs": [],
   "source": [
    "def print_matrix_to_csv_file1(matrix): #Prints matrix matrix to file output_file_matrix.cvs; rows are separated by \\n's\n",
    "    f = open('hamming_matrix_11_proust.csv', 'w')\n",
    "    a=matrix\n",
    "    for item in a:\n",
    "        for i in range(len(item)):\n",
    "            if i == 0:\n",
    "                f.write(str(item[i]))\n",
    "            else:\n",
    "                f.write(',' + str(item[i]))\n",
    "        f.write('\\n')\n",
    "    f.close()"
   ]
  },
  {
   "cell_type": "code",
   "execution_count": 91,
   "metadata": {},
   "outputs": [],
   "source": [
    "def print_string_to_csv_file1(string): #Prints string string to file output_file_string.cvs\n",
    "    f = open('string_11_proust.csv', 'w')\n",
    "    a=string\n",
    "    for i in range(len(a)):\n",
    "        if i == 0:\n",
    "            f.write(str(a[i]))\n",
    "        else:\n",
    "            f.write(',' + str(a[i]))\n",
    "    f.close()"
   ]
  },
  {
   "cell_type": "code",
   "execution_count": 92,
   "metadata": {},
   "outputs": [],
   "source": [
    "n=1\n",
    "string_of_allowed_symbols=\"abcdefghijklmnopqrstuvwxyzABCDEFGHIJKLMNOPQRSTUVWXYZ\"\n",
    "file=\"Proust.txt\"\n",
    "string=convert_file_to_string_v3(file,string_of_allowed_symbols)\n",
    "list_occ=combinations(string,n)[0]\n",
    "list_freq=combinations(string,n)[1]\n",
    "hamming_matrix=distance_matrix(list_occ)\n",
    "rescaled_hamming_matrix=prog_rescaled_hamming_matrix(hamming_matrix,list_freq)\n",
    "print_matrix_to_csv_file1(rescaled_hamming_matrix)\n",
    "print_string_to_csv_file1(list_freq)"
   ]
  },
  {
   "cell_type": "code",
   "execution_count": null,
   "metadata": {},
   "outputs": [],
   "source": []
  },
  {
   "cell_type": "code",
   "execution_count": 93,
   "metadata": {},
   "outputs": [],
   "source": [
    "def print_matrix_to_csv_file2(matrix): #Prints matrix matrix to file output_file_matrix.cvs; rows are separated by \\n's\n",
    "    f = open('hamming_matrix_22_proust.csv', 'w')\n",
    "    a=matrix\n",
    "    for item in a:\n",
    "        for i in range(len(item)):\n",
    "            if i == 0:\n",
    "                f.write(str(item[i]))\n",
    "            else:\n",
    "                f.write(',' + str(item[i]))\n",
    "        f.write('\\n')\n",
    "    f.close()"
   ]
  },
  {
   "cell_type": "code",
   "execution_count": 94,
   "metadata": {},
   "outputs": [],
   "source": [
    "def print_string_to_csv_file2(string): #Prints string string to file output_file_string.cvs\n",
    "    f = open('string_22_proust.csv', 'w')\n",
    "    a=string\n",
    "    for i in range(len(a)):\n",
    "        if i == 0:\n",
    "            f.write(str(a[i]))\n",
    "        else:\n",
    "            f.write(',' + str(a[i]))\n",
    "    f.close()"
   ]
  },
  {
   "cell_type": "code",
   "execution_count": 95,
   "metadata": {},
   "outputs": [],
   "source": [
    "n=2\n",
    "string_of_allowed_symbols=\"abcdefghijklmnopqrstuvwxyzABCDEFGHIJKLMNOPQRSTUVWXYZ\"\n",
    "file=\"Proust.txt\"\n",
    "string=convert_file_to_string_v3(file,string_of_allowed_symbols)\n",
    "list_occ=combinations(string,n)[0]\n",
    "list_freq=combinations(string,n)[1]\n",
    "hamming_matrix=distance_matrix(list_occ)\n",
    "rescaled_hamming_matrix=prog_rescaled_hamming_matrix(hamming_matrix,list_freq)\n",
    "print_matrix_to_csv_file2(rescaled_hamming_matrix)\n",
    "print_string_to_csv_file2(list_freq)"
   ]
  },
  {
   "cell_type": "code",
   "execution_count": null,
   "metadata": {},
   "outputs": [],
   "source": []
  },
  {
   "cell_type": "code",
   "execution_count": 96,
   "metadata": {},
   "outputs": [],
   "source": [
    "def print_matrix_to_csv_file3(matrix): #Prints matrix matrix to file output_file_matrix.cvs; rows are separated by \\n's\n",
    "    f = open('hamming_matrix_32_proust.csv', 'w')\n",
    "    a=matrix\n",
    "    for item in a:\n",
    "        for i in range(len(item)):\n",
    "            if i == 0:\n",
    "                f.write(str(item[i]))\n",
    "            else:\n",
    "                f.write(',' + str(item[i]))\n",
    "        f.write('\\n')\n",
    "    f.close()"
   ]
  },
  {
   "cell_type": "code",
   "execution_count": 97,
   "metadata": {},
   "outputs": [],
   "source": [
    "def print_string_to_csv_file3(string): #Prints string string to file output_file_string.cvs\n",
    "    f = open('string_32_proust.csv', 'w')\n",
    "    a=string\n",
    "    for i in range(len(a)):\n",
    "        if i == 0:\n",
    "            f.write(str(a[i]))\n",
    "        else:\n",
    "            f.write(',' + str(a[i]))\n",
    "    f.close()"
   ]
  },
  {
   "cell_type": "code",
   "execution_count": 98,
   "metadata": {},
   "outputs": [],
   "source": [
    "n=3\n",
    "string_of_allowed_symbols=\"abcdefghijklmnopqrstuvwxyzABCDEFGHIJKLMNOPQRSTUVWXYZ\"\n",
    "file=\"Proust.txt\"\n",
    "string=convert_file_to_string_v3(file,string_of_allowed_symbols)\n",
    "list_occ=combinations(string,n)[0]\n",
    "list_freq=combinations(string,n)[1]\n",
    "hamming_matrix=distance_matrix(list_occ)\n",
    "rescaled_hamming_matrix=prog_rescaled_hamming_matrix(hamming_matrix,list_freq)\n",
    "print_matrix_to_csv_file3(rescaled_hamming_matrix)\n",
    "print_string_to_csv_file3(list_freq)"
   ]
  },
  {
   "cell_type": "code",
   "execution_count": null,
   "metadata": {},
   "outputs": [],
   "source": []
  },
  {
   "cell_type": "code",
   "execution_count": null,
   "metadata": {},
   "outputs": [],
   "source": []
  },
  {
   "cell_type": "code",
   "execution_count": null,
   "metadata": {},
   "outputs": [],
   "source": [
    "#Pirandello"
   ]
  },
  {
   "cell_type": "code",
   "execution_count": 99,
   "metadata": {},
   "outputs": [],
   "source": [
    "def print_matrix_to_csv_file1(matrix): #Prints matrix matrix to file output_file_matrix.cvs; rows are separated by \\n's\n",
    "    f = open('hamming_matrix_11_pirandello.csv', 'w')\n",
    "    a=matrix\n",
    "    for item in a:\n",
    "        for i in range(len(item)):\n",
    "            if i == 0:\n",
    "                f.write(str(item[i]))\n",
    "            else:\n",
    "                f.write(',' + str(item[i]))\n",
    "        f.write('\\n')\n",
    "    f.close()"
   ]
  },
  {
   "cell_type": "code",
   "execution_count": 100,
   "metadata": {},
   "outputs": [],
   "source": [
    "def print_string_to_csv_file1(string): #Prints string string to file output_file_string.cvs\n",
    "    f = open('string_11_pirandello.csv', 'w')\n",
    "    a=string\n",
    "    for i in range(len(a)):\n",
    "        if i == 0:\n",
    "            f.write(str(a[i]))\n",
    "        else:\n",
    "            f.write(',' + str(a[i]))\n",
    "    f.close()"
   ]
  },
  {
   "cell_type": "code",
   "execution_count": 101,
   "metadata": {},
   "outputs": [],
   "source": [
    "n=1\n",
    "string_of_allowed_symbols=\"abcdefghijklmnopqrstuvwxyzABCDEFGHIJKLMNOPQRSTUVWXYZ\"\n",
    "file=\"Pirandello.txt\"\n",
    "string=convert_file_to_string_v3(file,string_of_allowed_symbols)\n",
    "list_occ=combinations(string,n)[0]\n",
    "list_freq=combinations(string,n)[1]\n",
    "hamming_matrix=distance_matrix(list_occ)\n",
    "rescaled_hamming_matrix=prog_rescaled_hamming_matrix(hamming_matrix,list_freq)\n",
    "print_matrix_to_csv_file1(rescaled_hamming_matrix)\n",
    "print_string_to_csv_file1(list_freq)"
   ]
  },
  {
   "cell_type": "code",
   "execution_count": null,
   "metadata": {},
   "outputs": [],
   "source": []
  },
  {
   "cell_type": "code",
   "execution_count": 102,
   "metadata": {},
   "outputs": [],
   "source": [
    "def print_matrix_to_csv_file2(matrix): #Prints matrix matrix to file output_file_matrix.cvs; rows are separated by \\n's\n",
    "    f = open('hamming_matrix_22_pirandello.csv', 'w')\n",
    "    a=matrix\n",
    "    for item in a:\n",
    "        for i in range(len(item)):\n",
    "            if i == 0:\n",
    "                f.write(str(item[i]))\n",
    "            else:\n",
    "                f.write(',' + str(item[i]))\n",
    "        f.write('\\n')\n",
    "    f.close()"
   ]
  },
  {
   "cell_type": "code",
   "execution_count": 103,
   "metadata": {},
   "outputs": [],
   "source": [
    "def print_string_to_csv_file2(string): #Prints string string to file output_file_string.cvs\n",
    "    f = open('string_22_pirandello.csv', 'w')\n",
    "    a=string\n",
    "    for i in range(len(a)):\n",
    "        if i == 0:\n",
    "            f.write(str(a[i]))\n",
    "        else:\n",
    "            f.write(',' + str(a[i]))\n",
    "    f.close()"
   ]
  },
  {
   "cell_type": "code",
   "execution_count": 104,
   "metadata": {},
   "outputs": [],
   "source": [
    "n=2\n",
    "string_of_allowed_symbols=\"abcdefghijklmnopqrstuvwxyzABCDEFGHIJKLMNOPQRSTUVWXYZ\"\n",
    "file=\"Pirandello.txt\"\n",
    "string=convert_file_to_string_v3(file,string_of_allowed_symbols)\n",
    "list_occ=combinations(string,n)[0]\n",
    "list_freq=combinations(string,n)[1]\n",
    "hamming_matrix=distance_matrix(list_occ)\n",
    "rescaled_hamming_matrix=prog_rescaled_hamming_matrix(hamming_matrix,list_freq)\n",
    "print_matrix_to_csv_file2(rescaled_hamming_matrix)\n",
    "print_string_to_csv_file2(list_freq)"
   ]
  },
  {
   "cell_type": "code",
   "execution_count": null,
   "metadata": {},
   "outputs": [],
   "source": []
  },
  {
   "cell_type": "code",
   "execution_count": 105,
   "metadata": {},
   "outputs": [],
   "source": [
    "def print_matrix_to_csv_file3(matrix): #Prints matrix matrix to file output_file_matrix.cvs; rows are separated by \\n's\n",
    "    f = open('hamming_matrix_32_pirandello.csv', 'w')\n",
    "    a=matrix\n",
    "    for item in a:\n",
    "        for i in range(len(item)):\n",
    "            if i == 0:\n",
    "                f.write(str(item[i]))\n",
    "            else:\n",
    "                f.write(',' + str(item[i]))\n",
    "        f.write('\\n')\n",
    "    f.close()"
   ]
  },
  {
   "cell_type": "code",
   "execution_count": 106,
   "metadata": {},
   "outputs": [],
   "source": [
    "def print_string_to_csv_file3(string): #Prints string string to file output_file_string.cvs\n",
    "    f = open('string_32_pirandello.csv', 'w')\n",
    "    a=string\n",
    "    for i in range(len(a)):\n",
    "        if i == 0:\n",
    "            f.write(str(a[i]))\n",
    "        else:\n",
    "            f.write(',' + str(a[i]))\n",
    "    f.close()"
   ]
  },
  {
   "cell_type": "code",
   "execution_count": 107,
   "metadata": {},
   "outputs": [],
   "source": [
    "n=3\n",
    "string_of_allowed_symbols=\"abcdefghijklmnopqrstuvwxyzABCDEFGHIJKLMNOPQRSTUVWXYZ\"\n",
    "file=\"Pirandello.txt\"\n",
    "string=convert_file_to_string_v3(file,string_of_allowed_symbols)\n",
    "list_occ=combinations(string,n)[0]\n",
    "list_freq=combinations(string,n)[1]\n",
    "hamming_matrix=distance_matrix(list_occ)\n",
    "rescaled_hamming_matrix=prog_rescaled_hamming_matrix(hamming_matrix,list_freq)\n",
    "print_matrix_to_csv_file3(rescaled_hamming_matrix)\n",
    "print_string_to_csv_file3(list_freq)"
   ]
  },
  {
   "cell_type": "code",
   "execution_count": null,
   "metadata": {},
   "outputs": [],
   "source": []
  },
  {
   "cell_type": "code",
   "execution_count": null,
   "metadata": {},
   "outputs": [],
   "source": []
  },
  {
   "cell_type": "code",
   "execution_count": null,
   "metadata": {},
   "outputs": [],
   "source": [
    "#Slauerhoff"
   ]
  },
  {
   "cell_type": "code",
   "execution_count": 108,
   "metadata": {},
   "outputs": [],
   "source": [
    "def print_matrix_to_csv_file1(matrix): #Prints matrix matrix to file output_file_matrix.cvs; rows are separated by \\n's\n",
    "    f = open('hamming_matrix_11_slauerhoff.csv', 'w')\n",
    "    a=matrix\n",
    "    for item in a:\n",
    "        for i in range(len(item)):\n",
    "            if i == 0:\n",
    "                f.write(str(item[i]))\n",
    "            else:\n",
    "                f.write(',' + str(item[i]))\n",
    "        f.write('\\n')\n",
    "    f.close()"
   ]
  },
  {
   "cell_type": "code",
   "execution_count": 109,
   "metadata": {},
   "outputs": [],
   "source": [
    "def print_string_to_csv_file1(string): #Prints string string to file output_file_string.cvs\n",
    "    f = open('string_11_slauerhoff.csv', 'w')\n",
    "    a=string\n",
    "    for i in range(len(a)):\n",
    "        if i == 0:\n",
    "            f.write(str(a[i]))\n",
    "        else:\n",
    "            f.write(',' + str(a[i]))\n",
    "    f.close()"
   ]
  },
  {
   "cell_type": "code",
   "execution_count": 110,
   "metadata": {},
   "outputs": [],
   "source": [
    "n=1\n",
    "string_of_allowed_symbols=\"abcdefghijklmnopqrstuvwxyzABCDEFGHIJKLMNOPQRSTUVWXYZ\"\n",
    "file=\"Slauerhoff.txt\"\n",
    "string=convert_file_to_string_v3(file,string_of_allowed_symbols)\n",
    "list_occ=combinations(string,n)[0]\n",
    "list_freq=combinations(string,n)[1]\n",
    "hamming_matrix=distance_matrix(list_occ)\n",
    "rescaled_hamming_matrix=prog_rescaled_hamming_matrix(hamming_matrix,list_freq)\n",
    "print_matrix_to_csv_file1(rescaled_hamming_matrix)\n",
    "print_string_to_csv_file1(list_freq)"
   ]
  },
  {
   "cell_type": "code",
   "execution_count": null,
   "metadata": {},
   "outputs": [],
   "source": []
  },
  {
   "cell_type": "code",
   "execution_count": 111,
   "metadata": {},
   "outputs": [],
   "source": [
    "def print_matrix_to_csv_file2(matrix): #Prints matrix matrix to file output_file_matrix.cvs; rows are separated by \\n's\n",
    "    f = open('hamming_matrix_22_slauerhoff.csv', 'w')\n",
    "    a=matrix\n",
    "    for item in a:\n",
    "        for i in range(len(item)):\n",
    "            if i == 0:\n",
    "                f.write(str(item[i]))\n",
    "            else:\n",
    "                f.write(',' + str(item[i]))\n",
    "        f.write('\\n')\n",
    "    f.close()"
   ]
  },
  {
   "cell_type": "code",
   "execution_count": 112,
   "metadata": {},
   "outputs": [],
   "source": [
    "def print_string_to_csv_file2(string): #Prints string string to file output_file_string.cvs\n",
    "    f = open('string_22_slauerhoff.csv', 'w')\n",
    "    a=string\n",
    "    for i in range(len(a)):\n",
    "        if i == 0:\n",
    "            f.write(str(a[i]))\n",
    "        else:\n",
    "            f.write(',' + str(a[i]))\n",
    "    f.close()"
   ]
  },
  {
   "cell_type": "code",
   "execution_count": 113,
   "metadata": {},
   "outputs": [],
   "source": [
    "n=2\n",
    "string_of_allowed_symbols=\"abcdefghijklmnopqrstuvwxyzABCDEFGHIJKLMNOPQRSTUVWXYZ\"\n",
    "file=\"Slauerhoff.txt\"\n",
    "string=convert_file_to_string_v3(file,string_of_allowed_symbols)\n",
    "list_occ=combinations(string,n)[0]\n",
    "list_freq=combinations(string,n)[1]\n",
    "hamming_matrix=distance_matrix(list_occ)\n",
    "rescaled_hamming_matrix=prog_rescaled_hamming_matrix(hamming_matrix,list_freq)\n",
    "print_matrix_to_csv_file2(rescaled_hamming_matrix)\n",
    "print_string_to_csv_file2(list_freq)"
   ]
  },
  {
   "cell_type": "code",
   "execution_count": null,
   "metadata": {},
   "outputs": [],
   "source": []
  },
  {
   "cell_type": "code",
   "execution_count": 114,
   "metadata": {},
   "outputs": [],
   "source": [
    "def print_matrix_to_csv_file3(matrix): #Prints matrix matrix to file output_file_matrix.cvs; rows are separated by \\n's\n",
    "    f = open('hamming_matrix_32_slauerhoff.csv', 'w')\n",
    "    a=matrix\n",
    "    for item in a:\n",
    "        for i in range(len(item)):\n",
    "            if i == 0:\n",
    "                f.write(str(item[i]))\n",
    "            else:\n",
    "                f.write(',' + str(item[i]))\n",
    "        f.write('\\n')\n",
    "    f.close()"
   ]
  },
  {
   "cell_type": "code",
   "execution_count": 115,
   "metadata": {},
   "outputs": [],
   "source": [
    "def print_string_to_csv_file3(string): #Prints string string to file output_file_string.cvs\n",
    "    f = open('string_32_slauerhoff.csv', 'w')\n",
    "    a=string\n",
    "    for i in range(len(a)):\n",
    "        if i == 0:\n",
    "            f.write(str(a[i]))\n",
    "        else:\n",
    "            f.write(',' + str(a[i]))\n",
    "    f.close()"
   ]
  },
  {
   "cell_type": "code",
   "execution_count": 116,
   "metadata": {},
   "outputs": [],
   "source": [
    "n=3\n",
    "string_of_allowed_symbols=\"abcdefghijklmnopqrstuvwxyzABCDEFGHIJKLMNOPQRSTUVWXYZ\"\n",
    "file=\"Slauerhoff.txt\"\n",
    "string=convert_file_to_string_v3(file,string_of_allowed_symbols)\n",
    "list_occ=combinations(string,n)[0]\n",
    "list_freq=combinations(string,n)[1]\n",
    "hamming_matrix=distance_matrix(list_occ)\n",
    "rescaled_hamming_matrix=prog_rescaled_hamming_matrix(hamming_matrix,list_freq)\n",
    "print_matrix_to_csv_file3(rescaled_hamming_matrix)\n",
    "print_string_to_csv_file3(list_freq)"
   ]
  },
  {
   "cell_type": "code",
   "execution_count": null,
   "metadata": {},
   "outputs": [],
   "source": []
  },
  {
   "cell_type": "code",
   "execution_count": null,
   "metadata": {},
   "outputs": [],
   "source": []
  },
  {
   "cell_type": "code",
   "execution_count": null,
   "metadata": {},
   "outputs": [],
   "source": [
    "#Война и мир - Толстой"
   ]
  },
  {
   "cell_type": "code",
   "execution_count": 119,
   "metadata": {},
   "outputs": [],
   "source": [
    "def convert_file_to_string_v4(filename,string_of_allowed_symbols): #Converts file filename to string, removes all non-alphabetic characters and make the\n",
    "#result lower case; string_of_allowed_symbols is the string of non-alphabetic symbols which are allowed, e.g. if string_of_allowed_symbols=\"@#\",\n",
    "# we allow @ and #\n",
    "    file = open(filename,mode='r', encoding = 'utf-8')\n",
    "    s = file.read()\n",
    "    file.close()\n",
    "    alphabet=\"абвгдеёжзийклмнопрстуфхцчшщъыьэюяАБВГДЕЁЖЗИЙКЛМНОПРСТУФХЦЧШЩЪЫЬЭЮЯ\"\n",
    "    remove_non_alpha = ''.join(c for c in s if c in alphabet or c in string_of_allowed_symbols)\n",
    "    lower_case=remove_non_alpha.lower()\n",
    "    return(lower_case)"
   ]
  },
  {
   "cell_type": "code",
   "execution_count": 124,
   "metadata": {},
   "outputs": [
    {
     "name": "stdout",
     "output_type": "stream",
     "text": [
      "сконцагогоданачалосьусиленноевооружениеисосредоточениесилзападнойевропыивгодусилыэтимиллионылюдейсчитаятехкоторыеперевозилиикормилиармиюдвинулисьсзападанавостоккграницамроссииккоторымточнотакжесгогодастягивалисьсилыроссиииюнясилызападнойевропыперешлиграницыроссиииначаласьвойнатоестьсовершилосьпротивноечеловеческомуразумуивсейчеловеческойприродесобытиемиллионылюдейсовершалидругпротивдругатакоебесчисленноеколичествозлодеянийобмановизменворовстваподделокивыпускафальшивыхассигнацийграбежейподжоговиубийствкотороговцелыевеканесоберетлетописьвсехсудовмираинакоторыевэтотпериодвременилюдисовершавшиеихнесмотреликакнапреступлениячтопроизвелоэтонеобычайноесобытиекакиебылипричиныегоисторикиснаивнойуверенностьюговорятчтопричинамиэтогособытиябылиобидананесеннаягерцогуольденбургскомунесоблюдениеконтинентальнойсистемывластолюбиенаполеонатвердостьалександраошибкидипломатовитпследовательностоилотолькометтернихурумянцевуилиталейранумеждувыходомираутомхорошенькопостаратьсяинаписатьпоискуснеебумажкуилинаполеонунаписатькалександруивойныбынебылопонятночтотакимпредставлялосьделосовременникампонятночтонаполеонуказалосьчтопричинойвойныбылиинтригианглиикакониговорилэтонаостровесвеленыпонятночточленаманглийскойпалатыказалосьчтопричинойвойныбыловластолюбиенаполеоначтопринцуольденбургскомуказалосьчтопричинойвойныбылосовершенноепротивнегонасилиечтокупцамказалосьчтопричинойвойныбылаконтинентальнаясистемаразорявшаяевропучтостарымсолдатамигенераламказалосьчтоглавнойпричинойбыланеобходимостьупотребитьихвделолегитимистамтоговремениточтонеобходимобыловосстановитьадипломатамтоговремениточтовсепроизошлооттогочтосоюзроссиисавстриейвгодунебылдостаточноискусноскрытотнаполеонаичтонеловкобылнаписанзапонятночтоэтииещебесчисленноебесконечноеколичествопричинколичествокоторыхзависитотбесчисленногоразличияточекзренияпредставлялосьсовременникамнодлянаспотомковсозерцающихвовсемегообъемегромадностьсовершившегосясобытияивникающихвегопростойистрашныйсмыслпричиныэтипредставляютсянедостаточнымидлянаснепонятночтобымиллионылюдейхристианубивалиимучилидругдругапотомучтонаполеонбылвластолюбивалександртвердполитикаанглиихитраигерцогольденбургскийобиженнельзяпонятькакуюсвязьимеютэтиобстоятельствассамымфактомубийстваинасилияпочемувследствиетогочтогерцогобижентысячилюдейсдругогокраяевропыубивалииразорялилюдейсмоленскойимосковскойгубернийибылиубиваемыимидлянаспотомковнеисториковнеувлеченныхпроцессомизысканияипотомуснезатемненнымздравымсмысломсозерцающихсобытиепричиныегопредставляютсявнеисчислимомколичествечембольшемыуглубляемсявизысканиепричинтембольшенамихоткрываетсяивсякаяотдельновзятаяпричинаилицелыйрядпричинпредставляютсянамодинаковосправедливымисамипосебеиодинаковоложнымипосвоейничтожностивсравнениисгромадностьюсобытияиодинаковоложнымипонедействительностисвоейбезучастиявсехдругихсовпавшихпричинпроизвестисовершившеесясобытиетакойжепричинойкакотказнаполеонаотвестисвоивойсказавислуиотдатьназадгерцогствоольденбургскоепредставляетсянамижеланиеилинежеланиепервогофранцузскогокапралапоступитьнавторичнуюслужбуибоежелибыоннезахотелидтинаслужбуинезахотелбыдругойитретийитысячныйкапралисолдатнастолькоменеелюдейбылобыввойскенаполеонаивойнынемоглобыбытьежелибынаполеоннеоскорбилсятребованиемотступитьзавислуиневелелнаступатьвойскамнебылобывойныноежелибывсесержантынепожелалипоступитьнавторичнуюслужбутожевойнынемоглобыбытьтоженемоглобыбытьвойныежелибынебылоинтриганглииинебылобыпринцаольденбургскогоичувстваоскорблениявалександреинебылобысамодержавнойвластивроссииинебылобыфранцузскойреволюцииипоследовавшихдиктаторстваиимперииивсеготогочтопроизвелофранцузскуюреволюциюитакдалеебезоднойизэтихпричинничегонемоглобыбытьсталобытьпричиныэтивсемиллиардыпричинсовпалидлятогочтобыпроизвеститочтобылоиследовательноничтонебылоисключительнойпричинойсобытияасобытиедолжнобылосовершитьсятолькопотомучтоонодолжнобылосовершитьсядолжныбылимиллионылюдейотрекшисьотсвоихчеловеческихчувствисвоегоразумаидтинавостоксзападаиубиватьсебеподобныхточнотакжекакнескольковековтомуназадсвостоканазападшлитолпылюдейубиваясебеподобныхдействиянаполеонаиалександраотсловакоторыхзависелоказалосьчтобысобытиесовершилосьилинесовершилосьбылитакжемалопроизвольныкакидействиекаждогосолдаташедшеговпоходпожребиюилипонаборуэтонемоглобытьиначепотомучтодлятогочтобыволянаполеонаиалександратехлюдейоткоторыхказалосьзависелособытиебылаисполненанеобходимобылосовпадениебесчисленныхобстоятельствбезодногоизкоторыхсобытиенемоглобысовершитьсянеобходимобылочтобымиллионылюдейврукахкоторыхбыладействительнаясиласолдатыкоторыестреляливезлипровиантипушкинадобылочтобыонисогласилисьисполнитьэтуволюединичныхислабыхлюдейибылиприведеныкэтомубесчисленнымколичествомсложныхразнообразныхпричинфатализмвисториинеизбежендляобъяснениянеразумныхявленийтоестьтехразумностькоторыхмынепонимаемчемболеемыстараемсяразумнообъяснитьэтиявлениявисториитемонистановятсядлянаснеразумнееинепонятнеекаждыйчеловекживетдлясебяпользуетсясвободойдлядостижениясвоихличныхцелейичувствуетвсемсуществомсвоимчтоонможетсейчассделатьилинесделатьтакоетодействиенокакскороонсделаетеготакдействиеэтосовершенноевизвестныймоментвременистановитсяневозвратимымиделаетсядостояниемисториивкоторойоноимеетнесвободноеапредопределенноезначениеестьдвестороныжизнивкаждомчеловекежизньличнаякотораятемболеесвободначемотвлеченнееееинтересыижизньстихийнаяроеваягдечеловекнеизбежноисполняетпредписанныеемузаконычеловексознательноживетдлясебянослужитбессознательныморудиемдлядостиженияисторическихобщечеловеческихцелейсовершенныйпоступокневозвратимидействиеегосовпадаявовременисмиллионамидействийдругихлюдейполучаетисторическоезначениечемвышестоитчеловекнаобщественнойлестницечемсбольшимилюдьмионсвязантембольшевластионимеетнадругихлюдейтемочевиднеепредопределенностьинеизбежностькаждогоегопоступкасердцецаревовруцебожьейцарьестьрабисторииисториятоестьбессознательнаяобщаяроеваяжизньчеловечествавсякойминутойжизницарейпользуетсядлясебякакорудиемдлясвоихцелейнаполеоннесмотрянаточтоемуболеечемкогданибудьтеперьвгодуказалосьчтоотнегозависелоилинекаквпоследнемписьмеписалемуалександрникогдаболеекактеперьнеподлежалтемнеизбежнымзаконамкоторыезаставлялиегодействуявотношениисебякакемуказалосьпосвоемупроизволуделатьдляобщегоделадляисторииточтодолжнобылосовершитьсялюдизапададвигалисьнавостокдлятогочтобыубиватьдругдругаипозаконусовпаденияпричинподделалисьсамисобоюисовпалисэтимсобытиемтысячимелкихпричиндляэтогодвиженияидлявойныукорызанесоблюдениеконтинентальнойсистемыигерцогольденбургскийидвижениевойсквпруссиюпредпринятоекакказалосьнаполеонудлятоготолькочтобыдостигнутьвооруженногомираилюбовьипривычкафранцузскогоимператораквойнесовпавшаясрасположениемегонародаувлечениеграндиозностьюприготовленийирасходыпоприготовлениюипотребностьприобретениятакихвыгодкоторыебыокупилиэтирасходыиодурманившиепочестивдрезденеидипломатическиепереговорыкоторыеповзглядусовременниковбыливеденысискреннимжеланиемдостижениямираикоторыетолькоуязвлялисамолюбиетойидругойстороныимиллионымиллионовдругихпричинподделавшихсяподимеющеесовершитьсясобытиесовпавшихснимкогдасозрелояблокоипадаетотчегоонопадаетоттоголичтотяготееткземлеоттоголичтозасыхаетстерженьоттоголичтосушитсясолнцемчтотяжелеетчтоветертрясетегооттоголичтостоящемувнизумальчикухочетсясъестьегоничтонепричинавсеэтотолькосовпадениетехусловийприкоторыхсовершаетсявсякоежизненноеорганическоестихийноесобытиеитотботаниккоторыйнайдетчтояблокопадаетоттогочтоклетчаткаразлагаетсяитомуподобноебудеттакжеправитакженеправкакитотребенокстоящийвнизукоторыйскажетчтояблокоупалооттогочтоемухотелосьсъестьегоичтоонмолилсяобэтомтакжеправинеправбудеттотктоскажетчтонаполеонпошелвмосквупотомучтоонзахотелэтогоиоттогопогибчтоалександрзахотелегопогибеликакправинеправбудеттотктоскажетчтозавалившаясявмиллионпудовподкопаннаягораупалаоттогочтопоследнийработникударилподнеепоследнийразкиркоювисторическихсобытияхтакназываемыевеликиелюдисутьярлыкидающиенаименованийсобытиюкоторыетакжекакярлыкименеевсегоимеютсвязиссамымсобытиемкаждоедействиеихкажущеесяимпроизвольнымдлясамихсебявисторическомсмысленепроизвольноанаходитсявсвязисовсемходомисториииопределенопредвечногомаянаполеонвыехализдрезденагдеонпробылтринеделиокруженныйдворомсоставленнымизпринцевгерцоговкоролейидажеодногоимператоранаполеонпередотъездомобласкалпринцевкоролейиимператоракоторыетогозаслуживалипобранилкоролейипринцевкоторымионбылневполнедоволенодарилсвоимисобственнымитоестьвзятымиудругихкоролейжемчугамиибриллиантамиимператрицуавстрийскуюинежнообнявимператрицумариюлуизукакговоритегоисторикоставилееогорченноюразлукойкоторуюонаэтамариялуизасчитавшаясяегосупругойнесмотрянаточтовпарижеоставаласьдругаясупругаказалосьневсилахбылаперенестинесмотрянаточтодипломатыещетвердовериливвозможностьмираиусердноработалисэтойцельюнесмотрянаточтоимператорнаполеонсамписалписьмоимператоруалександруназываяегоиискренноуверяячтооннежелаетвойныичтовсегдабудетлюбитьиуважатьегоонехалкармиииотдавалнакаждойстанцииновыеприказанияимевшиецельюторопитьдвижениеармииотзападаквостокуонехалвдорожнойкаретезапряженнойшестерикомокруженныйпажамиадъютантамииконвоемпотрактунапозенторнданцигикенигсбергвкаждомизэтихгородовтысячилюдейстрепетомивосторгомвстречалиегоармияподвигаласьсзападанавостокипеременныешестернинеслиеготудажегоиюняондогналармиюиночевалввильковисскомлесувприготовленнойдлянегоквартиревимениипольскогографанадругойденьнаполеонобогнавармиювколяскеподъехалкнемануистемчтобыосмотретьместностьпереправыпереоделсявпольскиймундиривыехалнаберегувидавнатойсторонеказаковирасстилавшиесястепивсерединекоторыхбыластолицатогоподобногоскифскомугосударствакудаходилалександрмакедонскийнаполеоннеожиданнодлявсехипротивнокакстратегическимтакидипломатическимсоображениямприказалнаступлениеинадругойденьвойскаегосталипереходитьнемангочислараноутромонвышелизпалаткираскинутойвэтотденьнакрутомлевомберегунеманаисмотрелвзрительнуютрубунавыплывающиеизвильковисскоголесапотокисвоихвойскразливающихсяпотреммостамнаведеннымнанеманевойсказналиоприсутствииимператораискалиегоглазамиикогданаходилинагорепередпалаткойотделившуюсяотсвитыфигурувсюртукеишляпеоникидаливверхшапкикричалииоднизадругиминеистощаясьвытекаливсёвытекалиизогромногоскрывавшегоихдоселелесаирасстрояясьпотреммостампереходилинатусторонуговорилиголосастарыхимолодыхлюдейсамыхразнообразныххарактеровиположенийвобщественавсехлицахэтихлюдейбылооднообщеевыражениерадостионачаледавноожидаемогопоходаивосторгаипреданностикчеловекувсеромсюртукестоявшемунагорегоиюнянаполеонуподалинебольшуючистокровнуюарабскуюлошадьионселипоехалгалопомкодномуизмостовчерезнеманнепрестаннооглушаемыйвосторженнымикрикамикоторыеоночевиднопереносилтолькопотомучтонельзябылозапретитьимкрикамиэтимивыражатьсвоюлюбовькнемунокрикиэтисопутствующиеемувездетяготилиегоиотвлекалиегоотвоеннойзаботыохватившейегостоговременикаконприсоединилсяквойскуонпроехалпоодномуизкачавшихсяналодкахмостовнатусторонукрутоповернулвлевоигалопомпоехалпонаправлениюкковнопредшествуемыйзамиравшимиотсчастиявосторженнымигвардейскимиконнымиегерямирасчищаядорогуповойскамскакавшимвпередиегоподъехавкширокойрекевилиионостановилсяподлепольскогоуланскогополкастоявшегонаберегувиваттакжевосторженнокричалиполякирасстроиваяфронтидавядругдругадлятогочтобыувидатьегонаполеоносмотрелрекуслезслошадииселнабревнолежавшеенаберегупобессловесномузнакуемуподалитрубуонположилеенаспинуподбежавшегосчастливогопажаисталсмотретьнатусторонупотомонуглубилсяврассматриваньелистакартыразложенногомеждубревнаминеподнимаяголовыонсказалчтотоидвоеегоадъютантовпоскакаликпольскимуланамчточтоонсказалслышалосьврядахпольскихуланкогдаодинадъютантподскакалкнимбылоприказаноотыскавбродперейтинатусторонупольскийуланскийполковниккрасивыйстарыйчеловекраскрасневшисьипутаясьвсловахотволненияспросилуадъютантапозволенолиемубудетпереплытьссвоимиуланамирекунеотыскиваябродаонсочевиднымстрахомзаотказкакмальчиккоторыйпроситпозволениясестьналошадьпросилчтобыемупозволилипереплытьрекувглазахимператораадъютантсказалчтовероятноимператорнебудетнедоволенэтимизлишнимусердиемкактолькоадъютантсказалэтостарыйусатыйофицерссчастливымлицомиблестящимиглазамиподнявкверхусаблюпрокричалвиватискомандовавуланамследоватьзасобойдалшпорылошадииподскакалкрекеонзлобнотолкнулзамявшуюсяподсобойлошадьибухнулсявводунаправляясьвглубькбыстринетечениясотниулановпоскакализанимбылохолодноижутконасерединеинабыстринетеченьяуланыцеплялисьдругзадругасваливалисьслошадейлошадинекоторыетонулитонулиилюдиостальныестаралисьплытьктонаседлектодержасьзагривуонистаралисьплытьвпереднатусторонуинесмотрянаточтозаполверстыбылапереправагордилисьтемчтоониплывутитонутвэтойрекеподвзглядамичеловекасидевшегонабревнеидаженесмотревшегонаточтоониделаликогдавернувшийсяадъютантвыбравудобнуюминутупозволилсебеобратитьвниманиеимператоранапреданностьполяковкегоособемаленькийчеловеквсеромсюртукевсталиподозвавксебебертьесталходитьснимвзадивпередпоберегуотдаваяемуприказанияиизредканедовольновзглядываянатонувшихуланразвлекавшихеговниманиедлянегобылоненовоубеждениевтомчтоприсутствиеегонавсехконцахмираотафрикидостепеймосковииодинаковопоражаетиповергаетлюдейвбезумиесамозабвенияонвелелподатьсебелошадьипоехалвсвоюстоянкучеловексорокуланпотонуловрекенесмотрянавысланныенапомощьлодкибольшинствоприбилосьназадкэтомуберегуполковникинесколькочеловекпереплылирекуиструдомвылезлинатотберегнокактолькоонивылезливобшлепнувшемсянанихстекающемручьямимокромплатьеонизакричалививатвосторженноглядянатоместогдестоялнаполеонногдеегоуженебылоивтуминутусчиталисебясчастливымиввечерунаполеонмеждудвумяраспоряжениямиодноотомчтобыкакможноскореедоставитьзаготовленныефальшивыерусскиеассигнациидляввозавроссиюидругоеотомчтобырасстрелятьсаксонцавперехваченномписьмекоторогонайденысведенияораспоряженияхпофранцузскойармиисделалтретьераспоряжениеопричислениибросившегосябезнуждыврекупольскогополковникаккогортечестикоторойнаполеонбылглавоюгомаянаполеонвыехализдрезденагдеонпробылтринеделиокруженныйдворомсоставленнымизпринцевгерцоговкоролейидажеодногоимператоранаполеонпередотъездомобласкалпринцевкоролейиимператоракоторыетогозаслуживалипобранилкоролейипринцевкоторымионбылневполнедоволенодарилсвоимисобственнымитоестьвзятымиудругихкоролейжемчугамиибриллиантамиимператрицуавстрийскуюинежнообнявимператрицумариюлуизукакговоритегоисторикоставилееогорченноюразлукойкоторуюонаэтамариялуизасчитавшаясяегосупругойнесмотрянаточтовпарижеоставаласьдругаясупругаказалосьневсилахбылаперенестинесмотрянаточтодипломатыещетвердовериливвозможностьмираиусердноработалисэтойцельюнесмотрянаточтоимператорнаполеонсамписалписьмоимператоруалександруназываяегоиискренноуверяячтооннежелаетвойныичтовсегдабудетлюбитьиуважатьегоонехалкармиииотдавалнакаждойстанцииновыеприказанияимевшиецельюторопитьдвижениеармииотзападаквостокуонехалвдорожнойкаретезапряженнойшестерикомокруженныйпажамиадъютантамииконвоемпотрактунапозенторнданцигикенигсбергвкаждомизэтихгородовтысячилюдейстрепетомивосторгомвстречалиегоармияподвигаласьсзападанавостокипеременныешестернинеслиеготудажегоиюняондогналармиюиночевалввильковисскомлесувприготовленнойдлянегоквартиревимениипольскогографанадругойденьнаполеонобогнавармиювколяскеподъехалкнемануистемчтобыосмотретьместностьпереправыпереоделсявпольскиймундиривыехалнаберегувидавнатойсторонеказаковирасстилавшиесястепивсерединекоторыхбыластолицатогоподобногоскифскомугосударствакудаходилалександрмакедонскийнаполеоннеожиданнодлявсехипротивнокакстратегическимтакидипломатическимсоображениямприказалнаступлениеинадругойденьвойскаегосталипереходитьнемангочислараноутромонвышелизпалаткираскинутойвэтотденьнакрутомлевомберегунеманаисмотрелвзрительнуютрубунавыплывающиеизвильковисскоголесапотокисвоихвойскразливающихсяпотреммостамнаведеннымнанеманевойсказналиоприсутствииимператораискалиегоглазамиикогданаходилинагорепередпалаткойотделившуюсяотсвитыфигурувсюртукеишляпеоникидаливверхшапкикричалииоднизадругиминеистощаясьвытекаливсёвытекалиизогромногоскрывавшегоихдоселелесаирасстрояясьпотреммостампереходилинатусторонуговорилиголосастарыхимолодыхлюдейсамыхразнообразныххарактеровиположенийвобщественавсехлицахэтихлюдейбылооднообщеевыражениерадостионачаледавноожидаемогопоходаивосторгаипреданностикчеловекувсеромсюртукестоявшемунагорегоиюнянаполеонуподалинебольшуючистокровнуюарабскуюлошадьионселипоехалгалопомкодномуизмостовчерезнеманнепрестаннооглушаемыйвосторженнымикрикамикоторыеоночевиднопереносилтолькопотомучтонельзябылозапретитьимкрикамиэтимивыражатьсвоюлюбовькнемунокрикиэтисопутствующиеемувездетяготилиегоиотвлекалиегоотвоеннойзаботыохватившейегостоговременикаконприсоединилсяквойскуонпроехалпоодномуизкачавшихсяналодкахмостовнатусторонукрутоповернулвлевоигалопомпоехалпонаправлениюкковнопредшествуемыйзамиравшимиотсчастиявосторженнымигвардейскимиконнымиегерямирасчищаядорогуповойскамскакавшимвпередиегоподъехавкширокойрекевилиионостановилсяподлепольскогоуланскогополкастоявшегонаберегувиваттакжевосторженнокричалиполякирасстроиваяфронтидавядругдругадлятогочтобыувидатьегонаполеоносмотрелрекуслезслошадииселнабревнолежавшеенаберегупобессловесномузнакуемуподалитрубуонположилеенаспинуподбежавшегосчастливогопажаисталсмотретьнатусторонупотомонуглубилсяврассматриваньелистакартыразложенногомеждубревнаминеподнимаяголовыонсказалчтотоидвоеегоадъютантовпоскакаликпольскимуланамчточтоонсказалслышалосьврядахпольскихуланкогдаодинадъютантподскакалкнимбылоприказаноотыскавбродперейтинатусторонупольскийуланскийполковниккрасивыйстарыйчеловекраскрасневшисьипутаясьвсловахотволненияспросилуадъютантапозволенолиемубудетпереплытьссвоимиуланамирекунеотыскиваябродаонсочевиднымстрахомзаотказкакмальчиккоторыйпроситпозволениясестьналошадьпросилчтобыемупозволилипереплытьрекувглазахимператораадъютантсказалчтовероятноимператорнебудетнедоволенэтимизлишнимусердиемкактолькоадъютантсказалэтостарыйусатыйофицерссчастливымлицомиблестящимиглазамиподнявкверхусаблюпрокричалвиватискомандовавуланамследоватьзасобойдалшпорылошадииподскакалкрекеонзлобнотолкнулзамявшуюсяподсобойлошадьибухнулсявводунаправляясьвглубькбыстринетечениясотниулановпоскакализанимбылохолодноижутконасерединеинабыстринетеченьяуланыцеплялисьдругзадругасваливалисьслошадейлошадинекоторыетонулитонулиилюдиостальныестаралисьплытьктонаседлектодержасьзагривуонистаралисьплытьвпереднатусторонуинесмотрянаточтозаполверстыбылапереправагордилисьтемчтоониплывутитонутвэтойрекеподвзглядамичеловекасидевшегонабревнеидаженесмотревшегонаточтоониделаликогдавернувшийсяадъютантвыбравудобнуюминутупозволилсебеобратитьвниманиеимператоранапреданностьполяковкегоособемаленькийчеловеквсеромсюртукевсталиподозвавксебебертьесталходитьснимвзадивпередпоберегуотдаваяемуприказанияиизредканедовольновзглядываянатонувшихуланразвлекавшихеговниманиедлянегобылоненовоубеждениевтомчтоприсутствиеегонавсехконцахмираотафрикидостепеймосковииодинаковопоражаетиповергаетлюдейвбезумиесамозабвенияонвелелподатьсебелошадьипоехалвсвоюстоянкучеловексорокуланпотонуловрекенесмотрянавысланныенапомощьлодкибольшинствоприбилосьназадкэтомуберегуполковникинесколькочеловекпереплылирекуиструдомвылезлинатотберегнокактолькоонивылезливобшлепнувшемсянанихстекающемручьямимокромплатьеонизакричалививатвосторженноглядянатоместогдестоялнаполеонногдеегоуженебылоивтуминутусчиталисебясчастливымиввечерунаполеонмеждудвумяраспоряжениямиодноотомчтобыкакможноскореедоставитьзаготовленныефальшивыерусскиеассигнациидляввозавроссиюидругоеотомчтобырасстрелятьсаксонцавперехваченномписьмекоторогонайденысведенияораспоряженияхпофранцузскойармиисделалтретьераспоряжениеопричислениибросившегосябезнуждыврекупольскогополковникаккогортечестикоторойнаполеонбылглавоюгоиюнявдвачасаночигосударьпризвавксебебалашеваипрочтяемусвоеписьмокнаполеонуприказалемуотвезтиэтописьмоиличнопередатьфранцузскомуимператоруотправляябалашевагосударьвновьповторилемусловаотомчтооннепомиритсядотехпорпокаостанетсяхотяодинвооруженныйнеприятельнарусскойземлеиприказалнепременнопередатьэтислованаполеонугосударьненаписалэтихсловвписьмепотомучтоончувствовалссвоимтактомчтословаэтинеудобныдляпередачивтуминутукогдаделаетсяпоследняяпопыткапримирениянооннепременноприказалбалашевупередатьихличнонаполеонувыехаввночьсгонаеиюнябалашевсопутствуемыйтрубачомидвумяказакамикрассветуприехалвдеревнюрыконтынафранцузскиеаванпостыпосюсторонунеманаонбылостановленфранцузскимикавалерийскимичасовымифранцузскийгусарскийунтерофицервмалиновоммундиреимохнатойшапкекрикнулнаподъезжавшегобалашеваприказываяемуостановитьсябалашевнетотчасостановилсяапродолжалшагомподвигатьсяподорогеунтерофицернахмурившисьипроворчавкакоеторугательствонадвинулсягрудьюлошадинабалашевавзялсязасаблюигрубокрикнулнарусскогогенераласпрашиваяегоглухлиончтонеслышиттогочтоемуговорятбалашевназвалсебяунтерофицерпослалсолдатакофицерунеобращаянабалашевавниманияунтерофицерсталговоритьстоварищамиосвоемполковомделеинегляделнарусскогогенераланеобычайностраннобылобалашевупослеблизостиквысшейвластиимогуществупослеразговоратричасатомуназадсгосударемивообщепривыкшемупосвоейслужбекпочестямвидетьтутнарусскойземлеэтовраждебноеиглавноенепочтительноеотношениексебегрубойсилысолнцетольконачиналоподниматьсяиззатучввоздухебылосвежоиросистоподорогеиздеревнивыгонялистадовполяходинзаоднимкакпузырькивводевспырскивалисчувыканьемжаворонкибалашевоглядывалсявокругсебяожидаяприездаофицераиздеревнирусскиеказакиитрубачифранцузскиегусарымолчаизредкагляделидругнадругафранцузскийгусарскийполковниквидимотолькочтоспостеливыехализдеревнинакрасивойсытойсеройлошадисопутствуемыйдвумягусараминаофицеренасолдатахинаихлошадяхбылвиддовольстваищегольстваэтобылотопервоевремякампаниикогдавойскаещенаходилисьвисправностипочтиравнойсмотровоймирнойдеятельноститолькосоттенкомнаряднойвоинственностиводеждеиснравственнымоттенкомтоговесельяипредприимчивостикоторыевсегдасопутствуютначаламкампанийфранцузскийполковникструдомудерживалзевотунобылучтививидимопонималвсезначениебалашеваонпровелегомимосвоихсолдатзацепьисообщилчтожеланиеегобытьпредставленнуимператорубудетвероятнототчасжеисполненотаккакимператорскаяквартирасколькоонзнаетнаходитсянедалекоонипроехалидеревнюрыконтымимофранцузскихгусарскихконовязейчасовыхисолдатотдававшихчестьсвоемуполковникуислюбопытствомосматривавшихрусскиймундиривыехалинадругуюсторонуселапословамполковникавдвухкилометрахбылначальникдивизиикоторыйприметбалашеваипроводитегопоназначениюсолнцеужеподнялосьивеселоблестелонаяркойзеленитолькочтоонивыехализакорчмунагорукакнавстречуимизподгорыпоказаласькучкавсадниковвпередикоторойнаворонойлошадисблестящеюнасолнцесбруейехалвысокийростомчеловеквшляпесперьямиичернымизавитымипоплечиволосамивкрасноймантииисдлинныминогамивыпяченнымивпередкакездятфранцузычеловекэтотпоехалгалопомнавстречубалашевублестяиразвеваясьнаяркомиюньскомсолнцесвоимиперьямикаменьямиизолотымигалунамибалашевужебылнарасстояниидвухлошадейотскачущегоемунавстречусторжественнотеатральнымлицомвсадникавбраслетахперьяхожерельяхизолотекогдаюльнерфранцузскийполковникпочтительнопрошепталдействительноэтобылмюратназываемыйтеперьнеаполитанскимкоролемхотяибылосовершеннонепонятнопочемуонбылнеаполитанскийкорольноегоназывалитакионсамбылубежденвэтомипотомуимелболееторжественныйиважныйвидчемпреждеонтакбылуверенвтомчтоондействительнонеаполитанскийкорольчтокогданаканунеотъездаизнеаполявовремяегопрогулкисженоюпоулицамнеаполянесколькоитальянцевпрокричалиемуонсгрустнойулыбкойповернулсяксупругеисказалнонесмотрянаточтоонтвердоверилвточтоонбылнеаполитанскийкорольичтоонсожалелогорестисвоихпокидаемыхимподданныхвпоследнеевремяпослетогокакемувеленобылоопятьпоступитьнаслужбуиособеннопослесвиданияснаполеономвданцигекогдаавгустейшийшуринсказалемуонвеселопринялсязазнакомоеемуделоикакразъевшийсянонезажиревшийгодныйнаслужбуконьпочуявсебявупряжкезаигралвоглобляхиразрядившиськакможнопестрееидорожевеселыйидовольныйскакалсамнезнаякудаизачемподорогампольшиувидаврусскогогенералаонпокоролевскиторжественнооткинулназадголовусзавитымипоплечиволосамиивопросительнопогляделнафранцузскогополковникаполковникпочтительнопередалеговеличествузначениебалашевафамилиюкоторогооннемогвыговоритьсказалкорольсвоейрешительностьюпревозмогаятрудностьпредставлявшуюсяполковникуприбавилонскоролевскимилостивымжестомкактолькокорольначалговоритьгромкоибыстровсекоролевскоедостоинствомгновеннооставилоегоионсамнезамечаяперешелвсвойственныйемутондобродушнойфамильярностионположилсвоюрукунахолкулошадибалашевасказалонкакбудтосожалеяобобстоятельствеокоторомоннемогсудитьотвечалбалашевговорилбалашеввовсехпадежахупотребляяснеизбежнойаффектациейучащениятитулаобращаяськлицудлякотороготитулэтотещеновостьлицомюратасиялоглупымдовольствомвтовремякаконслушалноончувствовалнеобходимостьпереговоритьспосланникомалександраогосударственныхделахкаккорольисоюзниконслезслошадиивзявподрукубалашеваиотойдянанесколькошаговотпочтительнодожидавшейсясвитысталходитьснимвзадивпередстараясьговоритьзначительноонупомянулотомчтоимператорнаполеоноскорблентребованиямивыводавойскизпруссиивособенноститеперькогдаэтотребованиесделалосьвсемизвестноикогдаэтимоскорбленодостоинствофранциибалашевсказалчтовтребованииэтомнетничегооскорбительногопотомучтомюратперебилеготаквысчитаетезачинщикомнеимператораалександрасказалоннеожиданносдобродушноглупойулыбкойбалашевсказалпочемуондействительнополагалчтоначинателемвойныбылнаполеонопятьперебилегомюратсказалонтономразговораслугкоторыежелаютостатьсядобрымиприятеляминесмотрянассорумеждугосподамиионперешелкрасспросамовеликомкнязеоегоздоровьеиовоспоминанияхвеселоизабавнопроведенногоснимвременивнеаполепотомкакбудтовдругвспомнивосвоемкоролевскомдостоинствемюратторжественновыпрямилсясталвтужепозувкоторойонстоялнакоронацииипомахиваяправойрукойсказалиразвеваяськраснойшитоймантиейиперьямииблестядрагоценностямионпошелксвитепочтительноожидавшейегобалашевпоехалдальшепословаммюратапредполагаявесьмаскоробытьпредставленнымсамомунаполеонуновместоскоройвстречиснаполеономчасовыепехотногокорпусадавуопятьтакжезадержалиегоуследующегоселениякакивпередовойцепиивызванныйадъютанткомандиракорпусапроводилеговдеревнюкмаршалудавудавубыларакчеевимператоранаполеонааракчеевнетрусностольжеисправныйжестокийинеумеющийвыражатьсвоюпреданностьиначекакжестокостьювмеханизмегосударственногоорганизманужныэтилюдикакнужныволкиворганизмеприродыионивсегдаестьвсегдаявляютсяидержатсякакнинесообразнокажетсяихприсутствиеиблизостькглавеправительстватолькоэтойнеобходимостьюможнообъяснитьтокакмогжестокийличновыдиравшийусыгренадераминемогшийпослабостинервпереноситьопасностьнеобразованныйнепридворныйаракчеевдержатьсявтакойсилеприрыцарскиблагородноминежномхарактереалександрабалашевзасталмаршаладавувсараекрестьянскойизбысидящегонабочонкеизанятогописьменнымиработамионповерялсчетыадъютантстоялподленеговозможнобылонайтилучшеепомещениеномаршалдавубылодинизтехлюдейкоторыенарочноставятсебявсамыемрачныеусловияжизнидлятогочтобыиметьправобытьмрачнымионидлятогожевсегдапоспешноиупорнозанятыгдетутдуматьосчастливойсторонечеловеческойжизникогдавывидитеянабочкесижувгрязномсараеиработаюговориловыражениееголицаглавноеудовольствиеипотребностьэтихлюдейсостоитвтомчтобывстретивоживлениежизниброситьэтомуоживлениювглазасвоюмрачнуюупорнуюдеятельностьэтоудовольствиедоставилсебедавукогдакнемуввелибалашеваонещеболееуглубилсявсвоюработукогдавошелрусскийгенераливзглянувчерезочкинаоживленноеподвпечатлениемпрекрасногоутраибеседысмюратомлицобалашеваневсталнепошевелилсядажеаещебольшенахмурилсяизлобноусмехнулсязаметивналицебалашевапроизведенноеэтимприемомнеприятноевпечатлениедавуподнялголовуихолодноспросилчтоемунужнопредполагаячтотакойприеммогбытьсделанемутолькопотомучтодавунезнаетчтоонгенераладъютантимператораалександраидажепредставительегопереднаполеономбалашевпоспешилсообщитьсвоезваниеиназначениевпротивностьожиданияегодавувыслушавбалашевасталещесуровееигрубеегдежевашпакетсказалонбалашевсказалчтоонимеетприказаниеличнопередатьпакетсамомуимператоруприказаниявашегоимператораисполняютсяввашейармииаздесьсказалдавувыдолжныделатьточтовамговорятикакбудтодлятогочтобыещебольшедатьпочувствоватьрусскомугенералуегозависимостьотгрубойсилыдавупослаладъютантазадежурнымбалашеввынулпакетзаключавшийписьмогосударяиположилегонастолстолсостоявшийиздверинакоторойторчалиоторванныепетлиположеннойнадвабочонкадавувзялконвертипрочелнадписьвысовершенновправеоказыватьилинеоказыватьмнеуважениесказалбалашевнопозвольтевамзаметитьчтояимеючестьноситьзваниегенераладъютантаеговеличествадавувзглянулнанегомолчаинекотороеволнениеисмущениевыразившиесяналицебалашевавидимодоставилиемуудовольствиевамбудетоказанодолжноесказалониположивконвертвкарманвышелизсараячерезминутувошеладъютантмаршалагосподиндекастреипровелбалашевавприготовленноедлянегопомещениебалашевобедалвэтотденьсмаршаломвтомжесараенатойжедоскенабочкахнадругойденьдавувыехалраноутромипригласивксебебалашевавнушительносказалемучтоонпроситегооставатьсяздесьподвигатьсявместесбагажамиежелионибудутиметьнатоприказанияинеразговариватьнискемкромекаксгосподиномдекастропослечетырехдневногоуединенияскукисознанияподвластностииничтожестваособенноощутительногопослетойсредымогуществавкоторойонтакнедавнонаходилсяпосленесколькихпереходоввместесбагажамимаршаласфранцузскимивойскамизанимавшимивсюместностьбалашевпривезенбылввильнузанятуютеперьфранцузамивтужезаставунакоторойонвыехалчетыреднятомуназаднадругойденьимператорскийкамергерприехалкбалашевуипередалемужеланиеимператоранаполеонаудостоитьегоаудиенциичетыреднятомуназадутогодомаккоторомуподвезлибалашевастоялипреображенскогополкачасовыетеперьжестоялидвафранцузскихгренадеравраскрытыхнагрудисинихмундирахивмохнатыхшапкахконвойгусаровиуланиблестящаясвитаадъютантовпажейигенераловожидавшихвыходанаполеонавокругстоявшейукрыльцаверховойлошадииегомамелюкаруставанаполеонпринималбалашевавтомсамомдомеввильёеизкоторогоотправлялегоалександр\n"
     ]
    }
   ],
   "source": [
    "string_of_allowed_symbols=\"абвгдеёжзийклмнопрстуфхцчшщъыьэюяАБВГДЕЁЖЗИЙКЛМНОПРСТУФХЦЧШЩЪЫЬЭЮЯ\"\n",
    "file=\"Толстой - Оригинал.txt\"\n",
    "string=convert_file_to_string_v4(file,string_of_allowed_symbols)\n",
    "print(string)"
   ]
  },
  {
   "cell_type": "code",
   "execution_count": 126,
   "metadata": {},
   "outputs": [
    {
     "name": "stdout",
     "output_type": "stream",
     "text": [
      "сконцагогоданачалосьусиленноевооружениеисосредоточениесилзападнойевропыивгодусилыэтимиллионылюдейсчитаятехкоторыеперевозилиикормилиармиюдвинулисьсзападанавостоккграницамроссииккоторымточнотакжесгогодастягивалисьсилыроссиииюнясилызападнойевропыперешлиграницыроссиииначаласьвойнатоестьсовершилосьпротивноечеловеческомуразумуивсейчеловеческойприродесобытиемиллионылюдейсовершалидругпротивдругатакоебесчисленноеколичествозлодеянийобмановизменворовстваподделокивыпускафальшивыхассигнацийграбежейподжоговиубийствкотороговцелыевеканесоберетлетописьвсехсудовмираинакоторыевэтотпериодвременилюдисовершавшиеихнесмотреликакнапреступлениячтопроизвелоэтонеобычайноесобытиекакиебылипричиныегоисторикиснаивнойуверенностьюговорятчтопричинамиэтогособытиябылиобидананесеннаягерцогуольденбургскомунесоблюдениеконтинентальнойсистемывластолюбиенаполеонатвердостьалександраошибкидипломатовитпследовательностоилотолькометтернихурумянцевуилиталейранумеждувыходомираутомхорошенькопостаратьсяинаписатьпоискуснеебумажкуилинаполеонунаписатькалександруивойныбынебылопонятночтотакимпредставлялосьделосовременникампонятночтонаполеонуказалосьчтопричинойвойныбылиинтригианглиикакониговорилэтонаостровесвеленыпонятночточленаманглийскойпалатыказалосьчтопричинойвойныбыловластолюбиенаполеоначтопринцуольденбургскомуказалосьчтопричинойвойныбылосовершенноепротивнегонасилиечтокупцамказалосьчтопричинойвойныбылаконтинентальнаясистемаразорявшаяевропучтостарымсолдатамигенераламказалосьчтоглавнойпричинойбыланеобходимостьупотребитьихвделолегитимистамтоговремениточтонеобходимобыловосстановитьадипломатамтоговремениточтовсепроизошлооттогочтосоюзроссиисавстриейвгодунебылдостаточноискусноскрытотнаполеонаичтонеловкобылнаписанзапонятночтоэтииещебесчисленноебесконечноеколичествопричинколичествокоторыхзависитотбесчисленногоразличияточекзренияпредставлялосьсовременникамнодлянаспотомковсозерцающихвовсемегообъемегромадностьсовершившегосясобытияивникающихвегопростойистрашныйсмыслпричиныэтипредставляютсянедостаточнымидлянаснепонятночтобымиллионылюдейхристианубивалиимучилидругдругапотомучтонаполеонбылвластолюбивалександртвердполитикаанглиихитраигерцогольденбургскийобиженнельзяпонятькакуюсвязьимеютэтиобстоятельствассамымфактомубийстваинасилияпочемувследствиетогочтогерцогобижентысячилюдейсдругогокраяевропыубивалииразорялилюдейсмоленскойимосковскойгубернийибылиубиваемыимидлянаспотомковнеисториковнеувлеченныхпроцессомизысканияипотомуснезатемненнымздравымсмысломсозерцающихсобытиепричиныегопредставляютсявнеисчислимомколичествечембольшемыуглубляемсявизысканиепричинтембольшенамихоткрываетсяивсякаяотдельновзятаяпричинаилицелыйрядпричинпредставляютсянамодинаковосправедливымисамипосебеиодинаковоложнымипосвоейничтожностивсравнениисгромадностьюсобытияиодинаковоложнымипонедействительностисвоейбезучастиявсехдругихсовпавшихпричинпроизвестисовершившеесясобытиетакойжепричинойкакотказнаполеонаотвестисвоивойсказавислуиотдатьназадгерцогствоольденбургскоепредставляетсянамижеланиеилинежеланиепервогофранцузскогокапралапоступитьнавторичнуюслужбуибоежелибыоннезахотелидтинаслужбуинезахотелбыдругойитретийитысячныйкапралисолдатнастолькоменеелюдейбылобыввойскенаполеонаивойнынемоглобыбытьежелибынаполеоннеоскорбилсятребованиемотступитьзавислуиневелелнаступатьвойскамнебылобывойныноежелибывсесержантынепожелалипоступитьнавторичнуюслужбутожевойнынемоглобыбытьтоженемоглобыбытьвойныежелибынебылоинтриганглииинебылобыпринцаольденбургскогоичувстваоскорблениявалександреинебылобысамодержавнойвластивроссииинебылобыфранцузскойреволюцииипоследовавшихдиктаторстваиимперииивсеготогочтопроизвелофранцузскуюреволюциюитакдалеебезоднойизэтихпричинничегонемоглобыбытьсталобытьпричиныэтивсемиллиардыпричинсовпалидлятогочтобыпроизвеститочтобылоиследовательноничтонебылоисключительнойпричинойсобытияасобытиедолжнобылосовершитьсятолькопотомучтоонодолжнобылосовершитьсядолжныбылимиллионылюдейотрекшисьотсвоихчеловеческихчувствисвоегоразумаидтинавостоксзападаиубиватьсебеподобныхточнотакжекакнескольковековтомуназадсвостоканазападшлитолпылюдейубиваясебеподобныхдействиянаполеонаиалександраотсловакоторыхзависелоказалосьчтобысобытиесовершилосьилинесовершилосьбылитакжемалопроизвольныкакидействиекаждогосолдаташедшеговпоходпожребиюилипонаборуэтонемоглобытьиначепотомучтодлятогочтобыволянаполеонаиалександратехлюдейоткоторыхказалосьзависелособытиебылаисполненанеобходимобылосовпадениебесчисленныхобстоятельствбезодногоизкоторыхсобытиенемоглобысовершитьсянеобходимобылочтобымиллионылюдейврукахкоторыхбыладействительнаясиласолдатыкоторыестреляливезлипровиантипушкинадобылочтобыонисогласилисьисполнитьэтуволюединичныхислабыхлюдейибылиприведеныкэтомубесчисленнымколичествомсложныхразнообразныхпричинфатализмвисториинеизбежендляобъяснениянеразумныхявленийтоестьтехразумностькоторыхмынепонимаемчемболеемыстараемсяразумнообъяснитьэтиявлениявисториитемонистановятсядлянаснеразумнееинепонятнеекаждыйчеловекживетдлясебяпользуетсясвободойдлядостижениясвоихличныхцелейичувствуетвсемсуществомсвоимчтоонможетсейчассделатьилинесделатьтакоетодействиенокакскороонсделаетеготакдействиеэтосовершенноевизвестныймоментвременистановитсяневозвратимымиделаетсядостояниемисториивкоторойоноимеетнесвободноеапредопределенноезначениеестьдвестороныжизнивкаждомчеловекежизньличнаякотораятемболеесвободначемотвлеченнееееинтересыижизньстихийнаяроеваягдечеловекнеизбежноисполняетпредписанныеемузаконычеловексознательноживетдлясебянослужитбессознательныморудиемдлядостиженияисторическихобщечеловеческихцелейсовершенныйпоступокневозвратимидействиеегосовпадаявовременисмиллионамидействийдругихлюдейполучаетисторическоезначениечемвышестоитчеловекнаобщественнойлестницечемсбольшимилюдьмионсвязантембольшевластионимеетнадругихлюдейтемочевиднеепредопределенностьинеизбежностькаждогоегопоступкасердцецаревовруцебожьейцарьестьрабисторииисториятоестьбессознательнаяобщаяроеваяжизньчеловечествавсякойминутойжизницарейпользуетсядлясебякакорудиемдлясвоихцелейнаполеоннесмотрянаточтоемуболеечемкогданибудьтеперьвгодуказалосьчтоотнегозависелоилинекаквпоследнемписьмеписалемуалександрникогдаболеекактеперьнеподлежалтемнеизбежнымзаконамкоторыезаставлялиегодействуявотношениисебякакемуказалосьпосвоемупроизволуделатьдляобщегоделадляисторииточтодолжнобылосовершитьсялюдизапададвигалисьнавостокдлятогочтобыубиватьдругдругаипозаконусовпаденияпричинподделалисьсамисобоюисовпалисэтимсобытиемтысячимелкихпричиндляэтогодвиженияидлявойныукорызанесоблюдениеконтинентальнойсистемыигерцогольденбургскийидвижениевойсквпруссиюпредпринятоекакказалосьнаполеонудлятоготолькочтобыдостигнутьвооруженногомираилюбовьипривычкафранцузскогоимператораквойнесовпавшаясрасположениемегонародаувлечениеграндиозностьюприготовленийирасходыпоприготовлениюипотребностьприобретениятакихвыгодкоторыебыокупилиэтирасходыиодурманившиепочестивдрезденеидипломатическиепереговорыкоторыеповзглядусовременниковбыливеденысискреннимжеланиемдостижениямираикоторыетолькоуязвлялисамолюбиетойидругойстороныимиллионымиллионовдругихпричинподделавшихсяподимеющеесовершитьсясобытиесовпавшихснимкогдасозрелояблокоипадаетотчегоонопадаетоттоголичтотяготееткземлеоттоголичтозасыхаетстерженьоттоголичтосушитсясолнцемчтотяжелеетчтоветертрясетегооттоголичтостоящемувнизумальчикухочетсясъестьегоничтонепричинавсеэтотолькосовпадениетехусловийприкоторыхсовершаетсявсякоежизненноеорганическоестихийноесобытиеитотботаниккоторыйнайдетчтояблокопадаетоттогочтоклетчаткаразлагаетсяитомуподобноебудеттакжеправитакженеправкакитотребенокстоящийвнизукоторыйскажетчтояблокоупалооттогочтоемухотелосьсъестьегоичтоонмолилсяобэтомтакжеправинеправбудеттотктоскажетчтонаполеонпошелвмосквупотомучтоонзахотелэтогоиоттогопогибчтоалександрзахотелегопогибеликакправинеправбудеттотктоскажетчтозавалившаясявмиллионпудовподкопаннаягораупалаоттогочтопоследнийработникударилподнеепоследнийразкиркоювисторическихсобытияхтакназываемыевеликиелюдисутьярлыкидающиенаименованийсобытиюкоторыетакжекакярлыкименеевсегоимеютсвязиссамымсобытиемкаждоедействиеихкажущеесяимпроизвольнымдлясамихсебявисторическомсмысленепроизвольноанаходитсявсвязисовсемходомисториииопределенопредвечногомаянаполеонвыехализдрезденагдеонпробылтринеделиокруженныйдворомсоставленнымизпринцевгерцоговкоролейидажеодногоимператоранаполеонпередотъездомобласкалпринцевкоролейиимператоракоторыетогозаслуживалипобранилкоролейипринцевкоторымионбылневполнедоволенодарилсвоимисобственнымитоестьвзятымиудругихкоролейжемчугамиибриллиантамиимператрицуавстрийскуюинежнообнявимператрицумариюлуизукакговоритегоисторикоставилееогорченноюразлукойкоторуюонаэтамариялуизасчитавшаясяегосупругойнесмотрянаточтовпарижеоставаласьдругаясупругаказалосьневсилахбылаперенестинесмотрянаточтодипломатыещетвердовериливвозможностьмираиусердноработалисэтойцельюнесмотрянаточтоимператорнаполеонсамписалписьмоимператоруалександруназываяегоиискренноуверяячтооннежелаетвойныичтовсегдабудетлюбитьиуважатьегоонехалкармиииотдавалнакаждойстанцииновыеприказанияимевшиецельюторопитьдвижениеармииотзападаквостокуонехалвдорожнойкаретезапряженнойшестерикомокруженныйпажамиадъютантамииконвоемпотрактунапозенторнданцигикенигсбергвкаждомизэтихгородовтысячилюдейстрепетомивосторгомвстречалиегоармияподвигаласьсзападанавостокипеременныешестернинеслиеготудажегоиюняондогналармиюиночевалввильковисскомлесувприготовленнойдлянегоквартиревимениипольскогографанадругойденьнаполеонобогнавармиювколяскеподъехалкнемануистемчтобыосмотретьместностьпереправыпереоделсявпольскиймундиривыехалнаберегувидавнатойсторонеказаковирасстилавшиесястепивсерединекоторыхбыластолицатогоподобногоскифскомугосударствакудаходилалександрмакедонскийнаполеоннеожиданнодлявсехипротивнокакстратегическимтакидипломатическимсоображениямприказалнаступлениеинадругойденьвойскаегосталипереходитьнемангочислараноутромонвышелизпалаткираскинутойвэтотденьнакрутомлевомберегунеманаисмотрелвзрительнуютрубунавыплывающиеизвильковисскоголесапотокисвоихвойскразливающихсяпотреммостамнаведеннымнанеманевойсказналиоприсутствииимператораискалиегоглазамиикогданаходилинагорепередпалаткойотделившуюсяотсвитыфигурувсюртукеишляпеоникидаливверхшапкикричалииоднизадругиминеистощаясьвытекаливсёвытекалиизогромногоскрывавшегоихдоселелесаирасстрояясьпотреммостампереходилинатусторонуговорилиголосастарыхимолодыхлюдейсамыхразнообразныххарактеровиположенийвобщественавсехлицахэтихлюдейбылооднообщеевыражениерадостионачаледавноожидаемогопоходаивосторгаипреданностикчеловекувсеромсюртукестоявшемунагорегоиюнянаполеонуподалинебольшуючистокровнуюарабскуюлошадьионселипоехалгалопомкодномуизмостовчерезнеманнепрестаннооглушаемыйвосторженнымикрикамикоторыеоночевиднопереносилтолькопотомучтонельзябылозапретитьимкрикамиэтимивыражатьсвоюлюбовькнемунокрикиэтисопутствующиеемувездетяготилиегоиотвлекалиегоотвоеннойзаботыохватившейегостоговременикаконприсоединилсяквойскуонпроехалпоодномуизкачавшихсяналодкахмостовнатусторонукрутоповернулвлевоигалопомпоехалпонаправлениюкковнопредшествуемыйзамиравшимиотсчастиявосторженнымигвардейскимиконнымиегерямирасчищаядорогуповойскамскакавшимвпередиегоподъехавкширокойрекевилиионостановилсяподлепольскогоуланскогополкастоявшегонаберегувиваттакжевосторженнокричалиполякирасстроиваяфронтидавядругдругадлятогочтобыувидатьегонаполеоносмотрелрекуслезслошадииселнабревнолежавшеенаберегупобессловесномузнакуемуподалитрубуонположилеенаспинуподбежавшегосчастливогопажаисталсмотретьнатусторонупотомонуглубилсяврассматриваньелистакартыразложенногомеждубревнаминеподнимаяголовыонсказалчтотоидвоеегоадъютантовпоскакаликпольскимуланамчточтоонсказалслышалосьврядахпольскихуланкогдаодинадъютантподскакалкнимбылоприказаноотыскавбродперейтинатусторонупольскийуланскийполковниккрасивыйстарыйчеловекраскрасневшисьипутаясьвсловахотволненияспросилуадъютантапозволенолиемубудетпереплытьссвоимиуланамирекунеотыскиваябродаонсочевиднымстрахомзаотказкакмальчиккоторыйпроситпозволениясестьналошадьпросилчтобыемупозволилипереплытьрекувглазахимператораадъютантсказалчтовероятноимператорнебудетнедоволенэтимизлишнимусердиемкактолькоадъютантсказалэтостарыйусатыйофицерссчастливымлицомиблестящимиглазамиподнявкверхусаблюпрокричалвиватискомандовавуланамследоватьзасобойдалшпорылошадииподскакалкрекеонзлобнотолкнулзамявшуюсяподсобойлошадьибухнулсявводунаправляясьвглубькбыстринетечениясотниулановпоскакализанимбылохолодноижутконасерединеинабыстринетеченьяуланыцеплялисьдругзадругасваливалисьслошадейлошадинекоторыетонулитонулиилюдиостальныестаралисьплытьктонаседлектодержасьзагривуонистаралисьплытьвпереднатусторонуинесмотрянаточтозаполверстыбылапереправагордилисьтемчтоониплывутитонутвэтойрекеподвзглядамичеловекасидевшегонабревнеидаженесмотревшегонаточтоониделаликогдавернувшийсяадъютантвыбравудобнуюминутупозволилсебеобратитьвниманиеимператоранапреданностьполяковкегоособемаленькийчеловеквсеромсюртукевсталиподозвавксебебертьесталходитьснимвзадивпередпоберегуотдаваяемуприказанияиизредканедовольновзглядываянатонувшихуланразвлекавшихеговниманиедлянегобылоненовоубеждениевтомчтоприсутствиеегонавсехконцахмираотафрикидостепеймосковииодинаковопоражаетиповергаетлюдейвбезумиесамозабвенияонвелелподатьсебелошадьипоехалвсвоюстоянкучеловексорокуланпотонуловрекенесмотрянавысланныенапомощьлодкибольшинствоприбилосьназадкэтомуберегуполковникинесколькочеловекпереплылирекуиструдомвылезлинатотберегнокактолькоонивылезливобшлепнувшемсянанихстекающемручьямимокромплатьеонизакричалививатвосторженноглядянатоместогдестоялнаполеонногдеегоуженебылоивтуминутусчиталисебясчастливымиввечерунаполеонмеждудвумяраспоряжениямиодноотомчтобыкакможноскореедоставитьзаготовленныефальшивыерусскиеассигнациидляввозавроссиюидругоеотомчтобырасстрелятьсаксонцавперехваченномписьмекоторогонайденысведенияораспоряженияхпофранцузскойармиисделалтретьераспоряжениеопричислениибросившегосябезнуждыврекупольскогополковникаккогортечестикоторойнаполеонбылглавоюгомаянаполеонвыехализдрезденагдеонпробылтринеделиокруженныйдворомсоставленнымизпринцевгерцоговкоролейидажеодногоимператоранаполеонпередотъездомобласкалпринцевкоролейиимператоракоторыетогозаслуживалипобранилкоролейипринцевкоторымионбылневполнедоволенодарилсвоимисобственнымитоестьвзятымиудругихкоролейжемчугамиибриллиантамиимператрицуавстрийскуюинежнообнявимператрицумариюлуизукакговоритегоисторикоставилееогорченноюразлукойкоторуюонаэтамариялуизасчитавшаясяегосупругойнесмотрянаточтовпарижеоставаласьдругаясупругаказалосьневсилахбылаперенестинесмотрянаточтодипломатыещетвердовериливвозможностьмираиусердноработалисэтойцельюнесмотрянаточтоимператорнаполеонсамписалписьмоимператоруалександруназываяегоиискренноуверяячтооннежелаетвойныичтовсегдабудетлюбитьиуважатьегоонехалкармиииотдавалнакаждойстанцииновыеприказанияимевшиецельюторопитьдвижениеармииотзападаквостокуонехалвдорожнойкаретезапряженнойшестерикомокруженныйпажамиадъютантамииконвоемпотрактунапозенторнданцигикенигсбергвкаждомизэтихгородовтысячилюдейстрепетомивосторгомвстречалиегоармияподвигаласьсзападанавостокипеременныешестернинеслиеготудажегоиюняондогналармиюиночевалввильковисскомлесувприготовленнойдлянегоквартиревимениипольскогографанадругойденьнаполеонобогнавармиювколяскеподъехалкнемануистемчтобыосмотретьместностьпереправыпереоделсявпольскиймундиривыехалнаберегувидавнатойсторонеказаковирасстилавшиесястепивсерединекоторыхбыластолицатогоподобногоскифскомугосударствакудаходилалександрмакедонскийнаполеоннеожиданнодлявсехипротивнокакстратегическимтакидипломатическимсоображениямприказалнаступлениеинадругойденьвойскаегосталипереходитьнемангочислараноутромонвышелизпалаткираскинутойвэтотденьнакрутомлевомберегунеманаисмотрелвзрительнуютрубунавыплывающиеизвильковисскоголесапотокисвоихвойскразливающихсяпотреммостамнаведеннымнанеманевойсказналиоприсутствииимператораискалиегоглазамиикогданаходилинагорепередпалаткойотделившуюсяотсвитыфигурувсюртукеишляпеоникидаливверхшапкикричалииоднизадругиминеистощаясьвытекаливсёвытекалиизогромногоскрывавшегоихдоселелесаирасстрояясьпотреммостампереходилинатусторонуговорилиголосастарыхимолодыхлюдейсамыхразнообразныххарактеровиположенийвобщественавсехлицахэтихлюдейбылооднообщеевыражениерадостионачаледавноожидаемогопоходаивосторгаипреданностикчеловекувсеромсюртукестоявшемунагорегоиюнянаполеонуподалинебольшуючистокровнуюарабскуюлошадьионселипоехалгалопомкодномуизмостовчерезнеманнепрестаннооглушаемыйвосторженнымикрикамикоторыеоночевиднопереносилтолькопотомучтонельзябылозапретитьимкрикамиэтимивыражатьсвоюлюбовькнемунокрикиэтисопутствующиеемувездетяготилиегоиотвлекалиегоотвоеннойзаботыохватившейегостоговременикаконприсоединилсяквойскуонпроехалпоодномуизкачавшихсяналодкахмостовнатусторонукрутоповернулвлевоигалопомпоехалпонаправлениюкковнопредшествуемыйзамиравшимиотсчастиявосторженнымигвардейскимиконнымиегерямирасчищаядорогуповойскамскакавшимвпередиегоподъехавкширокойрекевилиионостановилсяподлепольскогоуланскогополкастоявшегонаберегувиваттакжевосторженнокричалиполякирасстроиваяфронтидавядругдругадлятогочтобыувидатьегонаполеоносмотрелрекуслезслошадииселнабревнолежавшеенаберегупобессловесномузнакуемуподалитрубуонположилеенаспинуподбежавшегосчастливогопажаисталсмотретьнатусторонупотомонуглубилсяврассматриваньелистакартыразложенногомеждубревнаминеподнимаяголовыонсказалчтотоидвоеегоадъютантовпоскакаликпольскимуланамчточтоонсказалслышалосьврядахпольскихуланкогдаодинадъютантподскакалкнимбылоприказаноотыскавбродперейтинатусторонупольскийуланскийполковниккрасивыйстарыйчеловекраскрасневшисьипутаясьвсловахотволненияспросилуадъютантапозволенолиемубудетпереплытьссвоимиуланамирекунеотыскиваябродаонсочевиднымстрахомзаотказкакмальчиккоторыйпроситпозволениясестьналошадьпросилчтобыемупозволилипереплытьрекувглазахимператораадъютантсказалчтовероятноимператорнебудетнедоволенэтимизлишнимусердиемкактолькоадъютантсказалэтостарыйусатыйофицерссчастливымлицомиблестящимиглазамиподнявкверхусаблюпрокричалвиватискомандовавуланамследоватьзасобойдалшпорылошадииподскакалкрекеонзлобнотолкнулзамявшуюсяподсобойлошадьибухнулсявводунаправляясьвглубькбыстринетечениясотниулановпоскакализанимбылохолодноижутконасерединеинабыстринетеченьяуланыцеплялисьдругзадругасваливалисьслошадейлошадинекоторыетонулитонулиилюдиостальныестаралисьплытьктонаседлектодержасьзагривуонистаралисьплытьвпереднатусторонуинесмотрянаточтозаполверстыбылапереправагордилисьтемчтоониплывутитонутвэтойрекеподвзглядамичеловекасидевшегонабревнеидаженесмотревшегонаточтоониделаликогдавернувшийсяадъютантвыбравудобнуюминутупозволилсебеобратитьвниманиеимператоранапреданностьполяковкегоособемаленькийчеловеквсеромсюртукевсталиподозвавксебебертьесталходитьснимвзадивпередпоберегуотдаваяемуприказанияиизредканедовольновзглядываянатонувшихуланразвлекавшихеговниманиедлянегобылоненовоубеждениевтомчтоприсутствиеегонавсехконцахмираотафрикидостепеймосковииодинаковопоражаетиповергаетлюдейвбезумиесамозабвенияонвелелподатьсебелошадьипоехалвсвоюстоянкучеловексорокуланпотонуловрекенесмотрянавысланныенапомощьлодкибольшинствоприбилосьназадкэтомуберегуполковникинесколькочеловекпереплылирекуиструдомвылезлинатотберегнокактолькоонивылезливобшлепнувшемсянанихстекающемручьямимокромплатьеонизакричалививатвосторженноглядянатоместогдестоялнаполеонногдеегоуженебылоивтуминутусчиталисебясчастливымиввечерунаполеонмеждудвумяраспоряжениямиодноотомчтобыкакможноскореедоставитьзаготовленныефальшивыерусскиеассигнациидляввозавроссиюидругоеотомчтобырасстрелятьсаксонцавперехваченномписьмекоторогонайденысведенияораспоряженияхпофранцузскойармиисделалтретьераспоряжениеопричислениибросившегосябезнуждыврекупольскогополковникаккогортечестикоторойнаполеонбылглавоюгоиюнявдвачасаночигосударьпризвавксебебалашеваипрочтяемусвоеписьмокнаполеонуприказалемуотвезтиэтописьмоиличнопередатьфранцузскомуимператоруотправляябалашевагосударьвновьповторилемусловаотомчтооннепомиритсядотехпорпокаостанетсяхотяодинвооруженныйнеприятельнарусскойземлеиприказалнепременнопередатьэтислованаполеонугосударьненаписалэтихсловвписьмепотомучтоончувствовалссвоимтактомчтословаэтинеудобныдляпередачивтуминутукогдаделаетсяпоследняяпопыткапримирениянооннепременноприказалбалашевупередатьихличнонаполеонувыехаввночьсгонаеиюнябалашевсопутствуемыйтрубачомидвумяказакамикрассветуприехалвдеревнюрыконтынафранцузскиеаванпостыпосюсторонунеманаонбылостановленфранцузскимикавалерийскимичасовымифранцузскийгусарскийунтерофицервмалиновоммундиреимохнатойшапкекрикнулнаподъезжавшегобалашеваприказываяемуостановитьсябалашевнетотчасостановилсяапродолжалшагомподвигатьсяподорогеунтерофицернахмурившисьипроворчавкакоеторугательствонадвинулсягрудьюлошадинабалашевавзялсязасаблюигрубокрикнулнарусскогогенераласпрашиваяегоглухлиончтонеслышиттогочтоемуговорятбалашевназвалсебяунтерофицерпослалсолдатакофицерунеобращаянабалашевавниманияунтерофицерсталговоритьстоварищамиосвоемполковомделеинегляделнарусскогогенераланеобычайностраннобылобалашевупослеблизостиквысшейвластиимогуществупослеразговоратричасатомуназадсгосударемивообщепривыкшемупосвоейслужбекпочестямвидетьтутнарусскойземлеэтовраждебноеиглавноенепочтительноеотношениексебегрубойсилысолнцетольконачиналоподниматьсяиззатучввоздухебылосвежоиросистоподорогеиздеревнивыгонялистадовполяходинзаоднимкакпузырькивводевспырскивалисчувыканьемжаворонкибалашевоглядывалсявокругсебяожидаяприездаофицераиздеревнирусскиеказакиитрубачифранцузскиегусарымолчаизредкагляделидругнадругафранцузскийгусарскийполковниквидимотолькочтоспостеливыехализдеревнинакрасивойсытойсеройлошадисопутствуемыйдвумягусараминаофицеренасолдатахинаихлошадяхбылвиддовольстваищегольстваэтобылотопервоевремякампаниикогдавойскаещенаходилисьвисправностипочтиравнойсмотровоймирнойдеятельноститолькосоттенкомнаряднойвоинственностиводеждеиснравственнымоттенкомтоговесельяипредприимчивостикоторыевсегдасопутствуютначаламкампанийфранцузскийполковникструдомудерживалзевотунобылучтививидимопонималвсезначениебалашеваонпровелегомимосвоихсолдатзацепьисообщилчтожеланиеегобытьпредставленнуимператорубудетвероятнототчасжеисполненотаккакимператорскаяквартирасколькоонзнаетнаходитсянедалекоонипроехалидеревнюрыконтымимофранцузскихгусарскихконовязейчасовыхисолдатотдававшихчестьсвоемуполковникуислюбопытствомосматривавшихрусскиймундиривыехалинадругуюсторонуселапословамполковникавдвухкилометрахбылначальникдивизиикоторыйприметбалашеваипроводитегопоназначениюсолнцеужеподнялосьивеселоблестелонаяркойзеленитолькочтоонивыехализакорчмунагорукакнавстречуимизподгорыпоказаласькучкавсадниковвпередикоторойнаворонойлошадисблестящеюнасолнцесбруейехалвысокийростомчеловеквшляпесперьямиичернымизавитымипоплечиволосамивкрасноймантииисдлинныминогамивыпяченнымивпередкакездятфранцузычеловекэтотпоехалгалопомнавстречубалашевублестяиразвеваясьнаяркомиюньскомсолнцесвоимиперьямикаменьямиизолотымигалунамибалашевужебылнарасстояниидвухлошадейотскачущегоемунавстречусторжественнотеатральнымлицомвсадникавбраслетахперьяхожерельяхизолотекогдаюльнерфранцузскийполковникпочтительнопрошепталдействительноэтобылмюратназываемыйтеперьнеаполитанскимкоролемхотяибылосовершеннонепонятнопочемуонбылнеаполитанскийкорольноегоназывалитакионсамбылубежденвэтомипотомуимелболееторжественныйиважныйвидчемпреждеонтакбылуверенвтомчтоондействительнонеаполитанскийкорольчтокогданаканунеотъездаизнеаполявовремяегопрогулкисженоюпоулицамнеаполянесколькоитальянцевпрокричалиемуонсгрустнойулыбкойповернулсяксупругеисказалнонесмотрянаточтоонтвердоверилвточтоонбылнеаполитанскийкорольичтоонсожалелогорестисвоихпокидаемыхимподданныхвпоследнеевремяпослетогокакемувеленобылоопятьпоступитьнаслужбуиособеннопослесвиданияснаполеономвданцигекогдаавгустейшийшуринсказалемуонвеселопринялсязазнакомоеемуделоикакразъевшийсянонезажиревшийгодныйнаслужбуконьпочуявсебявупряжкезаигралвоглобляхиразрядившиськакможнопестрееидорожевеселыйидовольныйскакалсамнезнаякудаизачемподорогампольшиувидаврусскогогенералаонпокоролевскиторжественнооткинулназадголовусзавитымипоплечиволосамиивопросительнопогляделнафранцузскогополковникаполковникпочтительнопередалеговеличествузначениебалашевафамилиюкоторогооннемогвыговоритьсказалкорольсвоейрешительностьюпревозмогаятрудностьпредставлявшуюсяполковникуприбавилонскоролевскимилостивымжестомкактолькокорольначалговоритьгромкоибыстровсекоролевскоедостоинствомгновеннооставилоегоионсамнезамечаяперешелвсвойственныйемутондобродушнойфамильярностионположилсвоюрукунахолкулошадибалашевасказалонкакбудтосожалеяобобстоятельствеокоторомоннемогсудитьотвечалбалашевговорилбалашеввовсехпадежахупотребляяснеизбежнойаффектациейучащениятитулаобращаяськлицудлякотороготитулэтотещеновостьлицомюратасиялоглупымдовольствомвтовремякаконслушалноончувствовалнеобходимостьпереговоритьспосланникомалександраогосударственныхделахкаккорольисоюзниконслезслошадиивзявподрукубалашеваиотойдянанесколькошаговотпочтительнодожидавшейсясвитысталходитьснимвзадивпередстараясьговоритьзначительноонупомянулотомчтоимператорнаполеоноскорблентребованиямивыводавойскизпруссиивособенноститеперькогдаэтотребованиесделалосьвсемизвестноикогдаэтимоскорбленодостоинствофранциибалашевсказалчтовтребованииэтомнетничегооскорбительногопотомучтомюратперебилеготаквысчитаетезачинщикомнеимператораалександрасказалоннеожиданносдобродушноглупойулыбкойбалашевсказалпочемуондействительнополагалчтоначинателемвойныбылнаполеонопятьперебилегомюратсказалонтономразговораслугкоторыежелаютостатьсядобрымиприятеляминесмотрянассорумеждугосподамиионперешелкрасспросамовеликомкнязеоегоздоровьеиовоспоминанияхвеселоизабавнопроведенногоснимвременивнеаполепотомкакбудтовдругвспомнивосвоемкоролевскомдостоинствемюратторжественновыпрямилсясталвтужепозувкоторойонстоялнакоронацииипомахиваяправойрукойсказалиразвеваяськраснойшитоймантиейиперьямииблестядрагоценностямионпошелксвитепочтительноожидавшейегобалашевпоехалдальшепословаммюратапредполагаявесьмаскоробытьпредставленнымсамомунаполеонуновместоскоройвстречиснаполеономчасовыепехотногокорпусадавуопятьтакжезадержалиегоуследующегоселениякакивпередовойцепиивызванныйадъютанткомандиракорпусапроводилеговдеревнюкмаршалудавудавубыларакчеевимператоранаполеонааракчеевнетрусностольжеисправныйжестокийинеумеющийвыражатьсвоюпреданностьиначекакжестокостьювмеханизмегосударственногоорганизманужныэтилюдикакнужныволкиворганизмеприродыионивсегдаестьвсегдаявляютсяидержатсякакнинесообразнокажетсяихприсутствиеиблизостькглавеправительстватолькоэтойнеобходимостьюможнообъяснитьтокакмогжестокийличновыдиравшийусыгренадераминемогшийпослабостинервпереноситьопасностьнеобразованныйнепридворныйаракчеевдержатьсявтакойсилеприрыцарскиблагородноминежномхарактереалександрабалашевзасталмаршаладавувсараекрестьянскойизбысидящегонабочонкеизанятогописьменнымиработамионповерялсчетыадъютантстоялподленеговозможнобылонайтилучшеепомещениеномаршалдавубылодинизтехлюдейкоторыенарочноставятсебявсамыемрачныеусловияжизнидлятогочтобыиметьправобытьмрачнымионидлятогожевсегдапоспешноиупорнозанятыгдетутдуматьосчастливойсторонечеловеческойжизникогдавывидитеянабочкесижувгрязномсараеиработаюговориловыражениееголицаглавноеудовольствиеипотребностьэтихлюдейсостоитвтомчтобывстретивоживлениежизниброситьэтомуоживлениювглазасвоюмрачнуюупорнуюдеятельностьэтоудовольствиедоставилсебедавукогдакнемуввелибалашеваонещеболееуглубилсявсвоюработукогдавошелрусскийгенераливзглянувчерезочкинаоживленноеподвпечатлениемпрекрасногоутраибеседысмюратомлицобалашеваневсталнепошевелилсядажеаещебольшенахмурилсяизлобноусмехнулсязаметивналицебалашевапроизведенноеэтимприемомнеприятноевпечатлениедавуподнялголовуихолодноспросилчтоемунужнопредполагаячтотакойприеммогбытьсделанемутолькопотомучтодавунезнаетчтоонгенераладъютантимператораалександраидажепредставительегопереднаполеономбалашевпоспешилсообщитьсвоезваниеиназначениевпротивностьожиданияегодавувыслушавбалашевасталещесуровееигрубеегдежевашпакетсказалонбалашевсказалчтоонимеетприказаниеличнопередатьпакетсамомуимператоруприказаниявашегоимператораисполняютсяввашейармииаздесьсказалдавувыдолжныделатьточтовамговорятикакбудтодлятогочтобыещебольшедатьпочувствоватьрусскомугенералуегозависимостьотгрубойсилыдавупослаладъютантазадежурнымбалашеввынулпакетзаключавшийписьмогосударяиположилегонастолстолсостоявшийиздверинакоторойторчалиоторванныепетлиположеннойнадвабочонкадавувзялконвертипрочелнадписьвысовершенновправеоказыватьилинеоказыватьмнеуважениесказалбалашевнопозвольтевамзаметитьчтояимеючестьноситьзваниегенераладъютантаеговеличествадавувзглянулнанегомолчаинекотороеволнениеисмущениевыразившиесяналицебалашевавидимодоставилиемуудовольствиевамбудетоказанодолжноесказалониположивконвертвкарманвышелизсараячерезминутувошеладъютантмаршалагосподиндекастреипровелбалашевавприготовленноедлянегопомещениебалашевобедалвэтотденьсмаршаломвтомжесараенатойжедоскенабочкахнадругойденьдавувыехалраноутромипригласивксебебалашевавнушительносказалемучтоонпроситегооставатьсяздесьподвигатьсявместесбагажамиежелионибудутиметьнатоприказанияинеразговариватьнискемкромекаксгосподиномдекастропослечетырехдневногоуединенияскукисознанияподвластностииничтожестваособенноощутительногопослетойсредымогуществавкоторойонтакнедавнонаходилсяпосленесколькихпереходоввместесбагажамимаршаласфранцузскимивойскамизанимавшимивсюместностьбалашевпривезенбылввильнузанятуютеперьфранцузамивтужезаставунакоторойонвыехалчетыреднятомуназаднадругойденьимператорскийкамергерприехалкбалашевуипередалемужеланиеимператоранаполеонаудостоитьегоаудиенциичетыреднятомуназадутогодомаккоторомуподвезлибалашевастоялипреображенскогополкачасовыетеперьжестоялидвафранцузскихгренадеравраскрытыхнагрудисинихмундирахивмохнатыхшапкахконвойгусаровиуланиблестящаясвитаадъютантовпажейигенераловожидавшихвыходанаполеонавокругстоявшейукрыльцаверховойлошадииегомамелюкаруставанаполеонпринималбалашевавтомсамомдомеввильёеизкоторогоотправлялегоалександр\n"
     ]
    }
   ],
   "source": [
    "#Then we save this variable into a text file\n",
    "\n",
    "input3 = string\n",
    "\n",
    "#We save the output as russian_alphabet_2.txt\n",
    "\n",
    "file = open(\"Tolstoy - String.txt\", \"w\")\n",
    "file.write(input3)\n",
    "\n",
    "f = open('Tolstoy - String.txt', 'r')\n",
    "if f.mode=='r':\n",
    "    contents= f.read()\n",
    "    print(contents)"
   ]
  },
  {
   "cell_type": "code",
   "execution_count": null,
   "metadata": {},
   "outputs": [],
   "source": []
  },
  {
   "cell_type": "code",
   "execution_count": null,
   "metadata": {},
   "outputs": [],
   "source": [
    "#Война и мир - Толстой"
   ]
  },
  {
   "cell_type": "code",
   "execution_count": 127,
   "metadata": {},
   "outputs": [],
   "source": [
    "def print_matrix_to_csv_file1(matrix): #Prints matrix matrix to file output_file_matrix.cvs; rows are separated by \\n's\n",
    "    f = open('hamming_matrix_11_war_and_peace.csv', 'w')\n",
    "    a=matrix\n",
    "    for item in a:\n",
    "        for i in range(len(item)):\n",
    "            if i == 0:\n",
    "                f.write(str(item[i]))\n",
    "            else:\n",
    "                f.write(',' + str(item[i]))\n",
    "        f.write('\\n')\n",
    "    f.close()"
   ]
  },
  {
   "cell_type": "code",
   "execution_count": 128,
   "metadata": {},
   "outputs": [],
   "source": [
    "def print_string_to_csv_file1(string): #Prints string string to file output_file_string.cvs\n",
    "    f = open('string_11_war_and_peace.csv', 'w')\n",
    "    a=string\n",
    "    for i in range(len(a)):\n",
    "        if i == 0:\n",
    "            f.write(str(a[i]))\n",
    "        else:\n",
    "            f.write(',' + str(a[i]))\n",
    "    f.close()"
   ]
  },
  {
   "cell_type": "code",
   "execution_count": 130,
   "metadata": {},
   "outputs": [],
   "source": [
    "n=1\n",
    "string_of_allowed_symbols=\"abcdefghijklmnopqrstuvwxyz'#ABCDEFGHIJKLMNOPQRSTUVWXYZ\"\n",
    "file=\"Tolstoy - Main transliteration.txt\"\n",
    "string=convert_file_to_string_v3(file,string_of_allowed_symbols)\n",
    "list_occ=combinations(string,n)[0]\n",
    "list_freq=combinations(string,n)[1]\n",
    "hamming_matrix=distance_matrix(list_occ)\n",
    "rescaled_hamming_matrix=prog_rescaled_hamming_matrix(hamming_matrix,list_freq)\n",
    "print_matrix_to_csv_file1(rescaled_hamming_matrix)\n",
    "print_string_to_csv_file1(list_freq)"
   ]
  },
  {
   "cell_type": "code",
   "execution_count": null,
   "metadata": {},
   "outputs": [],
   "source": []
  },
  {
   "cell_type": "code",
   "execution_count": 131,
   "metadata": {},
   "outputs": [],
   "source": [
    "def print_matrix_to_csv_file2(matrix): #Prints matrix matrix to file output_file_matrix.cvs; rows are separated by \\n's\n",
    "    f = open('hamming_matrix_22_war_and_peace.csv', 'w')\n",
    "    a=matrix\n",
    "    for item in a:\n",
    "        for i in range(len(item)):\n",
    "            if i == 0:\n",
    "                f.write(str(item[i]))\n",
    "            else:\n",
    "                f.write(',' + str(item[i]))\n",
    "        f.write('\\n')\n",
    "    f.close()"
   ]
  },
  {
   "cell_type": "code",
   "execution_count": 132,
   "metadata": {},
   "outputs": [],
   "source": [
    "def print_string_to_csv_file2(string): #Prints string string to file output_file_string.cvs\n",
    "    f = open('string_22_war_and_peace.csv', 'w')\n",
    "    a=string\n",
    "    for i in range(len(a)):\n",
    "        if i == 0:\n",
    "            f.write(str(a[i]))\n",
    "        else:\n",
    "            f.write(',' + str(a[i]))\n",
    "    f.close()"
   ]
  },
  {
   "cell_type": "code",
   "execution_count": 133,
   "metadata": {},
   "outputs": [],
   "source": [
    "n=2\n",
    "string_of_allowed_symbols=\"abcdefghijklmnopqrstuvwxyz'#ABCDEFGHIJKLMNOPQRSTUVWXYZ\"\n",
    "file=\"Tolstoy - Main transliteration.txt\"\n",
    "string=convert_file_to_string_v3(file,string_of_allowed_symbols)\n",
    "list_occ=combinations(string,n)[0]\n",
    "list_freq=combinations(string,n)[1]\n",
    "hamming_matrix=distance_matrix(list_occ)\n",
    "rescaled_hamming_matrix=prog_rescaled_hamming_matrix(hamming_matrix,list_freq)\n",
    "print_matrix_to_csv_file2(rescaled_hamming_matrix)\n",
    "print_string_to_csv_file2(list_freq)"
   ]
  },
  {
   "cell_type": "code",
   "execution_count": null,
   "metadata": {},
   "outputs": [],
   "source": []
  },
  {
   "cell_type": "code",
   "execution_count": 134,
   "metadata": {},
   "outputs": [],
   "source": [
    "def print_matrix_to_csv_file3(matrix): #Prints matrix matrix to file output_file_matrix.cvs; rows are separated by \\n's\n",
    "    f = open('hamming_matrix_32_war_and_peace.csv', 'w')\n",
    "    a=matrix\n",
    "    for item in a:\n",
    "        for i in range(len(item)):\n",
    "            if i == 0:\n",
    "                f.write(str(item[i]))\n",
    "            else:\n",
    "                f.write(',' + str(item[i]))\n",
    "        f.write('\\n')\n",
    "    f.close()"
   ]
  },
  {
   "cell_type": "code",
   "execution_count": 135,
   "metadata": {},
   "outputs": [],
   "source": [
    "def print_string_to_csv_file3(string): #Prints string string to file output_file_string.cvs\n",
    "    f = open('string_32_war_and_peace.csv', 'w')\n",
    "    a=string\n",
    "    for i in range(len(a)):\n",
    "        if i == 0:\n",
    "            f.write(str(a[i]))\n",
    "        else:\n",
    "            f.write(',' + str(a[i]))\n",
    "    f.close()"
   ]
  },
  {
   "cell_type": "code",
   "execution_count": 136,
   "metadata": {},
   "outputs": [],
   "source": [
    "n=3\n",
    "string_of_allowed_symbols=\"abcdefghijklmnopqrstuvwxyz'#ABCDEFGHIJKLMNOPQRSTUVWXYZ\"\n",
    "file=\"Tolstoy - Main transliteration.txt\"\n",
    "string=convert_file_to_string_v3(file,string_of_allowed_symbols)\n",
    "list_occ=combinations(string,n)[0]\n",
    "list_freq=combinations(string,n)[1]\n",
    "hamming_matrix=distance_matrix(list_occ)\n",
    "rescaled_hamming_matrix=prog_rescaled_hamming_matrix(hamming_matrix,list_freq)\n",
    "print_matrix_to_csv_file3(rescaled_hamming_matrix)\n",
    "print_string_to_csv_file3(list_freq)"
   ]
  },
  {
   "cell_type": "code",
   "execution_count": null,
   "metadata": {},
   "outputs": [],
   "source": []
  },
  {
   "cell_type": "code",
   "execution_count": null,
   "metadata": {},
   "outputs": [],
   "source": []
  },
  {
   "cell_type": "code",
   "execution_count": null,
   "metadata": {},
   "outputs": [],
   "source": [
    "#Путешествие из Петербурга в Москву - Радищев"
   ]
  },
  {
   "cell_type": "code",
   "execution_count": 137,
   "metadata": {},
   "outputs": [],
   "source": [
    "def print_matrix_to_csv_file1(matrix): #Prints matrix matrix to file output_file_matrix.cvs; rows are separated by \\n's\n",
    "    f = open('hamming_matrix_11_radishchev.csv', 'w')\n",
    "    a=matrix\n",
    "    for item in a:\n",
    "        for i in range(len(item)):\n",
    "            if i == 0:\n",
    "                f.write(str(item[i]))\n",
    "            else:\n",
    "                f.write(',' + str(item[i]))\n",
    "        f.write('\\n')\n",
    "    f.close()"
   ]
  },
  {
   "cell_type": "code",
   "execution_count": 138,
   "metadata": {},
   "outputs": [],
   "source": [
    "def print_string_to_csv_file1(string): #Prints string string to file output_file_string.cvs\n",
    "    f = open('string_11_radishchev.csv', 'w')\n",
    "    a=string\n",
    "    for i in range(len(a)):\n",
    "        if i == 0:\n",
    "            f.write(str(a[i]))\n",
    "        else:\n",
    "            f.write(',' + str(a[i]))\n",
    "    f.close()"
   ]
  },
  {
   "cell_type": "code",
   "execution_count": 139,
   "metadata": {},
   "outputs": [],
   "source": [
    "n=1\n",
    "string_of_allowed_symbols=\"abcdefghijklmnopqrstuvwxyz'#ABCDEFGHIJKLMNOPQRSTUVWXYZ\"\n",
    "file=\"Radishchev - Main transliteration.txt\"\n",
    "string=convert_file_to_string_v3(file,string_of_allowed_symbols)\n",
    "list_occ=combinations(string,n)[0]\n",
    "list_freq=combinations(string,n)[1]\n",
    "hamming_matrix=distance_matrix(list_occ)\n",
    "rescaled_hamming_matrix=prog_rescaled_hamming_matrix(hamming_matrix,list_freq)\n",
    "print_matrix_to_csv_file1(rescaled_hamming_matrix)\n",
    "print_string_to_csv_file1(list_freq)"
   ]
  },
  {
   "cell_type": "code",
   "execution_count": null,
   "metadata": {},
   "outputs": [],
   "source": []
  },
  {
   "cell_type": "code",
   "execution_count": 140,
   "metadata": {},
   "outputs": [],
   "source": [
    "def print_matrix_to_csv_file2(matrix): #Prints matrix matrix to file output_file_matrix.cvs; rows are separated by \\n's\n",
    "    f = open('hamming_matrix_22_radishchev.csv', 'w')\n",
    "    a=matrix\n",
    "    for item in a:\n",
    "        for i in range(len(item)):\n",
    "            if i == 0:\n",
    "                f.write(str(item[i]))\n",
    "            else:\n",
    "                f.write(',' + str(item[i]))\n",
    "        f.write('\\n')\n",
    "    f.close()"
   ]
  },
  {
   "cell_type": "code",
   "execution_count": 141,
   "metadata": {},
   "outputs": [],
   "source": [
    "def print_string_to_csv_file2(string): #Prints string string to file output_file_string.cvs\n",
    "    f = open('string_22_radishchev.csv', 'w')\n",
    "    a=string\n",
    "    for i in range(len(a)):\n",
    "        if i == 0:\n",
    "            f.write(str(a[i]))\n",
    "        else:\n",
    "            f.write(',' + str(a[i]))\n",
    "    f.close()"
   ]
  },
  {
   "cell_type": "code",
   "execution_count": 142,
   "metadata": {},
   "outputs": [],
   "source": [
    "n=2\n",
    "string_of_allowed_symbols=\"abcdefghijklmnopqrstuvwxyz'#ABCDEFGHIJKLMNOPQRSTUVWXYZ\"\n",
    "file=\"Radishchev - Main transliteration.txt\"\n",
    "string=convert_file_to_string_v3(file,string_of_allowed_symbols)\n",
    "list_occ=combinations(string,n)[0]\n",
    "list_freq=combinations(string,n)[1]\n",
    "hamming_matrix=distance_matrix(list_occ)\n",
    "rescaled_hamming_matrix=prog_rescaled_hamming_matrix(hamming_matrix,list_freq)\n",
    "print_matrix_to_csv_file2(rescaled_hamming_matrix)\n",
    "print_string_to_csv_file2(list_freq)"
   ]
  },
  {
   "cell_type": "code",
   "execution_count": null,
   "metadata": {},
   "outputs": [],
   "source": []
  },
  {
   "cell_type": "code",
   "execution_count": 143,
   "metadata": {},
   "outputs": [],
   "source": [
    "def print_matrix_to_csv_file3(matrix): #Prints matrix matrix to file output_file_matrix.cvs; rows are separated by \\n's\n",
    "    f = open('hamming_matrix_32_radishchev.csv', 'w')\n",
    "    a=matrix\n",
    "    for item in a:\n",
    "        for i in range(len(item)):\n",
    "            if i == 0:\n",
    "                f.write(str(item[i]))\n",
    "            else:\n",
    "                f.write(',' + str(item[i]))\n",
    "        f.write('\\n')\n",
    "    f.close()"
   ]
  },
  {
   "cell_type": "code",
   "execution_count": 144,
   "metadata": {},
   "outputs": [],
   "source": [
    "def print_string_to_csv_file3(string): #Prints string string to file output_file_string.cvs\n",
    "    f = open('string_32_radishchev.csv', 'w')\n",
    "    a=string\n",
    "    for i in range(len(a)):\n",
    "        if i == 0:\n",
    "            f.write(str(a[i]))\n",
    "        else:\n",
    "            f.write(',' + str(a[i]))\n",
    "    f.close()"
   ]
  },
  {
   "cell_type": "code",
   "execution_count": 145,
   "metadata": {},
   "outputs": [],
   "source": [
    "n=3\n",
    "string_of_allowed_symbols=\"abcdefghijklmnopqrstuvwxyz'#ABCDEFGHIJKLMNOPQRSTUVWXYZ\"\n",
    "file=\"Radishchev - Main transliteration.txt\"\n",
    "string=convert_file_to_string_v3(file,string_of_allowed_symbols)\n",
    "list_occ=combinations(string,n)[0]\n",
    "list_freq=combinations(string,n)[1]\n",
    "hamming_matrix=distance_matrix(list_occ)\n",
    "rescaled_hamming_matrix=prog_rescaled_hamming_matrix(hamming_matrix,list_freq)\n",
    "print_matrix_to_csv_file3(rescaled_hamming_matrix)\n",
    "print_string_to_csv_file3(list_freq)"
   ]
  },
  {
   "cell_type": "code",
   "execution_count": null,
   "metadata": {},
   "outputs": [],
   "source": []
  },
  {
   "cell_type": "code",
   "execution_count": null,
   "metadata": {},
   "outputs": [],
   "source": []
  },
  {
   "cell_type": "code",
   "execution_count": null,
   "metadata": {},
   "outputs": [],
   "source": [
    "#Мастер и Маргарита - Булгаков"
   ]
  },
  {
   "cell_type": "code",
   "execution_count": 146,
   "metadata": {},
   "outputs": [],
   "source": [
    "def print_matrix_to_csv_file1(matrix): #Prints matrix matrix to file output_file_matrix.cvs; rows are separated by \\n's\n",
    "    f = open('hamming_matrix_11_bulgakov.csv', 'w')\n",
    "    a=matrix\n",
    "    for item in a:\n",
    "        for i in range(len(item)):\n",
    "            if i == 0:\n",
    "                f.write(str(item[i]))\n",
    "            else:\n",
    "                f.write(',' + str(item[i]))\n",
    "        f.write('\\n')\n",
    "    f.close()"
   ]
  },
  {
   "cell_type": "code",
   "execution_count": 147,
   "metadata": {},
   "outputs": [],
   "source": [
    "def print_string_to_csv_file1(string): #Prints string string to file output_file_string.cvs\n",
    "    f = open('string_11_bulgakov.csv', 'w')\n",
    "    a=string\n",
    "    for i in range(len(a)):\n",
    "        if i == 0:\n",
    "            f.write(str(a[i]))\n",
    "        else:\n",
    "            f.write(',' + str(a[i]))\n",
    "    f.close()"
   ]
  },
  {
   "cell_type": "code",
   "execution_count": 148,
   "metadata": {},
   "outputs": [],
   "source": [
    "n=1\n",
    "string_of_allowed_symbols=\"abcdefghijklmnopqrstuvwxyz'#ABCDEFGHIJKLMNOPQRSTUVWXYZ\"\n",
    "file=\"Bulgakov - Main transliteration.txt\"\n",
    "string=convert_file_to_string_v3(file,string_of_allowed_symbols)\n",
    "list_occ=combinations(string,n)[0]\n",
    "list_freq=combinations(string,n)[1]\n",
    "hamming_matrix=distance_matrix(list_occ)\n",
    "rescaled_hamming_matrix=prog_rescaled_hamming_matrix(hamming_matrix,list_freq)\n",
    "print_matrix_to_csv_file1(rescaled_hamming_matrix)\n",
    "print_string_to_csv_file1(list_freq)"
   ]
  },
  {
   "cell_type": "code",
   "execution_count": null,
   "metadata": {},
   "outputs": [],
   "source": []
  },
  {
   "cell_type": "code",
   "execution_count": 149,
   "metadata": {},
   "outputs": [],
   "source": [
    "def print_matrix_to_csv_file2(matrix): #Prints matrix matrix to file output_file_matrix.cvs; rows are separated by \\n's\n",
    "    f = open('hamming_matrix_22_bulgakov.csv', 'w')\n",
    "    a=matrix\n",
    "    for item in a:\n",
    "        for i in range(len(item)):\n",
    "            if i == 0:\n",
    "                f.write(str(item[i]))\n",
    "            else:\n",
    "                f.write(',' + str(item[i]))\n",
    "        f.write('\\n')\n",
    "    f.close()"
   ]
  },
  {
   "cell_type": "code",
   "execution_count": 150,
   "metadata": {},
   "outputs": [],
   "source": [
    "def print_string_to_csv_file2(string): #Prints string string to file output_file_string.cvs\n",
    "    f = open('string_22_bulgakov.csv', 'w')\n",
    "    a=string\n",
    "    for i in range(len(a)):\n",
    "        if i == 0:\n",
    "            f.write(str(a[i]))\n",
    "        else:\n",
    "            f.write(',' + str(a[i]))\n",
    "    f.close()"
   ]
  },
  {
   "cell_type": "code",
   "execution_count": 151,
   "metadata": {},
   "outputs": [],
   "source": [
    "n=2\n",
    "string_of_allowed_symbols=\"abcdefghijklmnopqrstuvwxyz'#ABCDEFGHIJKLMNOPQRSTUVWXYZ\"\n",
    "file=\"Bulgakov - Main transliteration.txt\"\n",
    "string=convert_file_to_string_v3(file,string_of_allowed_symbols)\n",
    "list_occ=combinations(string,n)[0]\n",
    "list_freq=combinations(string,n)[1]\n",
    "hamming_matrix=distance_matrix(list_occ)\n",
    "rescaled_hamming_matrix=prog_rescaled_hamming_matrix(hamming_matrix,list_freq)\n",
    "print_matrix_to_csv_file2(rescaled_hamming_matrix)\n",
    "print_string_to_csv_file2(list_freq)"
   ]
  },
  {
   "cell_type": "code",
   "execution_count": null,
   "metadata": {},
   "outputs": [],
   "source": []
  },
  {
   "cell_type": "code",
   "execution_count": 152,
   "metadata": {},
   "outputs": [],
   "source": [
    "def print_matrix_to_csv_file3(matrix): #Prints matrix matrix to file output_file_matrix.cvs; rows are separated by \\n's\n",
    "    f = open('hamming_matrix_32_bulgakov.csv', 'w')\n",
    "    a=matrix\n",
    "    for item in a:\n",
    "        for i in range(len(item)):\n",
    "            if i == 0:\n",
    "                f.write(str(item[i]))\n",
    "            else:\n",
    "                f.write(',' + str(item[i]))\n",
    "        f.write('\\n')\n",
    "    f.close()"
   ]
  },
  {
   "cell_type": "code",
   "execution_count": 153,
   "metadata": {},
   "outputs": [],
   "source": [
    "def print_string_to_csv_file3(string): #Prints string string to file output_file_string.cvs\n",
    "    f = open('string_32_bulgakov.csv', 'w')\n",
    "    a=string\n",
    "    for i in range(len(a)):\n",
    "        if i == 0:\n",
    "            f.write(str(a[i]))\n",
    "        else:\n",
    "            f.write(',' + str(a[i]))\n",
    "    f.close()"
   ]
  },
  {
   "cell_type": "code",
   "execution_count": 154,
   "metadata": {},
   "outputs": [],
   "source": [
    "n=3\n",
    "string_of_allowed_symbols=\"abcdefghijklmnopqrstuvwxyz'#ABCDEFGHIJKLMNOPQRSTUVWXYZ\"\n",
    "file=\"Bulgakov - Main transliteration.txt\"\n",
    "string=convert_file_to_string_v3(file,string_of_allowed_symbols)\n",
    "list_occ=combinations(string,n)[0]\n",
    "list_freq=combinations(string,n)[1]\n",
    "hamming_matrix=distance_matrix(list_occ)\n",
    "rescaled_hamming_matrix=prog_rescaled_hamming_matrix(hamming_matrix,list_freq)\n",
    "print_matrix_to_csv_file3(rescaled_hamming_matrix)\n",
    "print_string_to_csv_file3(list_freq)"
   ]
  },
  {
   "cell_type": "code",
   "execution_count": null,
   "metadata": {},
   "outputs": [],
   "source": []
  },
  {
   "cell_type": "code",
   "execution_count": null,
   "metadata": {},
   "outputs": [],
   "source": []
  },
  {
   "cell_type": "code",
   "execution_count": null,
   "metadata": {},
   "outputs": [],
   "source": [
    "#Домбровский - Факультет ненужных вещей"
   ]
  },
  {
   "cell_type": "code",
   "execution_count": 155,
   "metadata": {},
   "outputs": [],
   "source": [
    "def print_matrix_to_csv_file1(matrix): #Prints matrix matrix to file output_file_matrix.cvs; rows are separated by \\n's\n",
    "    f = open('hamming_matrix_11_dombrovsky.csv', 'w')\n",
    "    a=matrix\n",
    "    for item in a:\n",
    "        for i in range(len(item)):\n",
    "            if i == 0:\n",
    "                f.write(str(item[i]))\n",
    "            else:\n",
    "                f.write(',' + str(item[i]))\n",
    "        f.write('\\n')\n",
    "    f.close()"
   ]
  },
  {
   "cell_type": "code",
   "execution_count": 156,
   "metadata": {},
   "outputs": [],
   "source": [
    "def print_string_to_csv_file1(string): #Prints string string to file output_file_string.cvs\n",
    "    f = open('string_11_dombrovsky.csv', 'w')\n",
    "    a=string\n",
    "    for i in range(len(a)):\n",
    "        if i == 0:\n",
    "            f.write(str(a[i]))\n",
    "        else:\n",
    "            f.write(',' + str(a[i]))\n",
    "    f.close()"
   ]
  },
  {
   "cell_type": "code",
   "execution_count": 157,
   "metadata": {},
   "outputs": [],
   "source": [
    "n=1\n",
    "string_of_allowed_symbols=\"abcdefghijklmnopqrstuvwxyz'#ABCDEFGHIJKLMNOPQRSTUVWXYZ\"\n",
    "file=\"Dombrovsky - Main transliteration.txt\"\n",
    "string=convert_file_to_string_v3(file,string_of_allowed_symbols)\n",
    "list_occ=combinations(string,n)[0]\n",
    "list_freq=combinations(string,n)[1]\n",
    "hamming_matrix=distance_matrix(list_occ)\n",
    "rescaled_hamming_matrix=prog_rescaled_hamming_matrix(hamming_matrix,list_freq)\n",
    "print_matrix_to_csv_file1(rescaled_hamming_matrix)\n",
    "print_string_to_csv_file1(list_freq)"
   ]
  },
  {
   "cell_type": "code",
   "execution_count": null,
   "metadata": {},
   "outputs": [],
   "source": []
  },
  {
   "cell_type": "code",
   "execution_count": 158,
   "metadata": {},
   "outputs": [],
   "source": [
    "def print_matrix_to_csv_file2(matrix): #Prints matrix matrix to file output_file_matrix.cvs; rows are separated by \\n's\n",
    "    f = open('hamming_matrix_22_dombrovsky.csv', 'w')\n",
    "    a=matrix\n",
    "    for item in a:\n",
    "        for i in range(len(item)):\n",
    "            if i == 0:\n",
    "                f.write(str(item[i]))\n",
    "            else:\n",
    "                f.write(',' + str(item[i]))\n",
    "        f.write('\\n')\n",
    "    f.close()"
   ]
  },
  {
   "cell_type": "code",
   "execution_count": 159,
   "metadata": {},
   "outputs": [],
   "source": [
    "def print_string_to_csv_file2(string): #Prints string string to file output_file_string.cvs\n",
    "    f = open('string_22_dombrovsky.csv', 'w')\n",
    "    a=string\n",
    "    for i in range(len(a)):\n",
    "        if i == 0:\n",
    "            f.write(str(a[i]))\n",
    "        else:\n",
    "            f.write(',' + str(a[i]))\n",
    "    f.close()"
   ]
  },
  {
   "cell_type": "code",
   "execution_count": 160,
   "metadata": {},
   "outputs": [],
   "source": [
    "n=2\n",
    "string_of_allowed_symbols=\"abcdefghijklmnopqrstuvwxyz'#ABCDEFGHIJKLMNOPQRSTUVWXYZ\"\n",
    "file=\"Dombrovsky - Main transliteration.txt\"\n",
    "string=convert_file_to_string_v3(file,string_of_allowed_symbols)\n",
    "list_occ=combinations(string,n)[0]\n",
    "list_freq=combinations(string,n)[1]\n",
    "hamming_matrix=distance_matrix(list_occ)\n",
    "rescaled_hamming_matrix=prog_rescaled_hamming_matrix(hamming_matrix,list_freq)\n",
    "print_matrix_to_csv_file2(rescaled_hamming_matrix)\n",
    "print_string_to_csv_file2(list_freq)"
   ]
  },
  {
   "cell_type": "code",
   "execution_count": null,
   "metadata": {},
   "outputs": [],
   "source": []
  },
  {
   "cell_type": "code",
   "execution_count": 161,
   "metadata": {},
   "outputs": [],
   "source": [
    "def print_matrix_to_csv_file3(matrix): #Prints matrix matrix to file output_file_matrix.cvs; rows are separated by \\n's\n",
    "    f = open('hamming_matrix_32_dombrovsky.csv', 'w')\n",
    "    a=matrix\n",
    "    for item in a:\n",
    "        for i in range(len(item)):\n",
    "            if i == 0:\n",
    "                f.write(str(item[i]))\n",
    "            else:\n",
    "                f.write(',' + str(item[i]))\n",
    "        f.write('\\n')\n",
    "    f.close()"
   ]
  },
  {
   "cell_type": "code",
   "execution_count": 162,
   "metadata": {},
   "outputs": [],
   "source": [
    "def print_string_to_csv_file3(string): #Prints string string to file output_file_string.cvs\n",
    "    f = open('string_32_dombrovsky.csv', 'w')\n",
    "    a=string\n",
    "    for i in range(len(a)):\n",
    "        if i == 0:\n",
    "            f.write(str(a[i]))\n",
    "        else:\n",
    "            f.write(',' + str(a[i]))\n",
    "    f.close()"
   ]
  },
  {
   "cell_type": "code",
   "execution_count": 163,
   "metadata": {},
   "outputs": [],
   "source": [
    "n=3\n",
    "string_of_allowed_symbols=\"abcdefghijklmnopqrstuvwxyz'#ABCDEFGHIJKLMNOPQRSTUVWXYZ\"\n",
    "file=\"Dombrovsky - Main transliteration.txt\"\n",
    "string=convert_file_to_string_v3(file,string_of_allowed_symbols)\n",
    "list_occ=combinations(string,n)[0]\n",
    "list_freq=combinations(string,n)[1]\n",
    "hamming_matrix=distance_matrix(list_occ)\n",
    "rescaled_hamming_matrix=prog_rescaled_hamming_matrix(hamming_matrix,list_freq)\n",
    "print_matrix_to_csv_file3(rescaled_hamming_matrix)\n",
    "print_string_to_csv_file3(list_freq)"
   ]
  },
  {
   "cell_type": "code",
   "execution_count": null,
   "metadata": {},
   "outputs": [],
   "source": []
  },
  {
   "cell_type": "code",
   "execution_count": null,
   "metadata": {},
   "outputs": [],
   "source": []
  },
  {
   "cell_type": "code",
   "execution_count": null,
   "metadata": {},
   "outputs": [],
   "source": [
    "#Достоевский - Преступление и наказание - 26 символов"
   ]
  },
  {
   "cell_type": "code",
   "execution_count": 164,
   "metadata": {},
   "outputs": [],
   "source": [
    "def print_matrix_to_csv_file1(matrix): #Prints matrix matrix to file output_file_matrix.cvs; rows are separated by \\n's\n",
    "    f = open('hamming_matrix_11_crime_and_punishment_transliteration_26.csv', 'w')\n",
    "    a=matrix\n",
    "    for item in a:\n",
    "        for i in range(len(item)):\n",
    "            if i == 0:\n",
    "                f.write(str(item[i]))\n",
    "            else:\n",
    "                f.write(',' + str(item[i]))\n",
    "        f.write('\\n')\n",
    "    f.close()"
   ]
  },
  {
   "cell_type": "code",
   "execution_count": 165,
   "metadata": {},
   "outputs": [],
   "source": [
    "def print_string_to_csv_file1(string): #Prints string string to file output_file_string.cvs\n",
    "    f = open('string_11_crime_and_punishment_transliteration_26.csv', 'w')\n",
    "    a=string\n",
    "    for i in range(len(a)):\n",
    "        if i == 0:\n",
    "            f.write(str(a[i]))\n",
    "        else:\n",
    "            f.write(',' + str(a[i]))\n",
    "    f.close()"
   ]
  },
  {
   "cell_type": "code",
   "execution_count": 166,
   "metadata": {},
   "outputs": [],
   "source": [
    "n=1\n",
    "string_of_allowed_symbols=\"abcdefghijklmnopqrstuvwxyzABCDEFGHIJKLMNOPQRSTUVWXYZ\"\n",
    "file=\"Преступление и наказание - 10 страниц - Транслитерация - 26.txt\"\n",
    "string=convert_file_to_string_v3(file,string_of_allowed_symbols)\n",
    "list_occ=combinations(string,n)[0]\n",
    "list_freq=combinations(string,n)[1]\n",
    "hamming_matrix=distance_matrix(list_occ)\n",
    "rescaled_hamming_matrix=prog_rescaled_hamming_matrix(hamming_matrix,list_freq)\n",
    "print_matrix_to_csv_file1(rescaled_hamming_matrix)\n",
    "print_string_to_csv_file1(list_freq)"
   ]
  },
  {
   "cell_type": "code",
   "execution_count": null,
   "metadata": {},
   "outputs": [],
   "source": []
  },
  {
   "cell_type": "code",
   "execution_count": 167,
   "metadata": {},
   "outputs": [],
   "source": [
    "def print_matrix_to_csv_file2(matrix): #Prints matrix matrix to file output_file_matrix.cvs; rows are separated by \\n's\n",
    "    f = open('hamming_matrix_22_crime_and_punishment_transliteration_26.csv', 'w')\n",
    "    a=matrix\n",
    "    for item in a:\n",
    "        for i in range(len(item)):\n",
    "            if i == 0:\n",
    "                f.write(str(item[i]))\n",
    "            else:\n",
    "                f.write(',' + str(item[i]))\n",
    "        f.write('\\n')\n",
    "    f.close()"
   ]
  },
  {
   "cell_type": "code",
   "execution_count": 168,
   "metadata": {},
   "outputs": [],
   "source": [
    "def print_string_to_csv_file2(string): #Prints string string to file output_file_string.cvs\n",
    "    f = open('string_22_crime_and_punishment_transliteration_26.csv', 'w')\n",
    "    a=string\n",
    "    for i in range(len(a)):\n",
    "        if i == 0:\n",
    "            f.write(str(a[i]))\n",
    "        else:\n",
    "            f.write(',' + str(a[i]))\n",
    "    f.close()"
   ]
  },
  {
   "cell_type": "code",
   "execution_count": 169,
   "metadata": {},
   "outputs": [],
   "source": [
    "n=2\n",
    "string_of_allowed_symbols=\"abcdefghijklmnopqrstuvwxyzABCDEFGHIJKLMNOPQRSTUVWXYZ\"\n",
    "file=\"Преступление и наказание - 10 страниц - Транслитерация - 26.txt\"\n",
    "string=convert_file_to_string_v3(file,string_of_allowed_symbols)\n",
    "list_occ=combinations(string,n)[0]\n",
    "list_freq=combinations(string,n)[1]\n",
    "hamming_matrix=distance_matrix(list_occ)\n",
    "rescaled_hamming_matrix=prog_rescaled_hamming_matrix(hamming_matrix,list_freq)\n",
    "print_matrix_to_csv_file2(rescaled_hamming_matrix)\n",
    "print_string_to_csv_file2(list_freq)"
   ]
  },
  {
   "cell_type": "code",
   "execution_count": null,
   "metadata": {},
   "outputs": [],
   "source": []
  },
  {
   "cell_type": "code",
   "execution_count": 170,
   "metadata": {},
   "outputs": [],
   "source": [
    "def print_matrix_to_csv_file3(matrix): #Prints matrix matrix to file output_file_matrix.cvs; rows are separated by \\n's\n",
    "    f = open('hamming_matrix_32_crime_and_punishment_transliteration_26.csv', 'w')\n",
    "    a=matrix\n",
    "    for item in a:\n",
    "        for i in range(len(item)):\n",
    "            if i == 0:\n",
    "                f.write(str(item[i]))\n",
    "            else:\n",
    "                f.write(',' + str(item[i]))\n",
    "        f.write('\\n')\n",
    "    f.close()"
   ]
  },
  {
   "cell_type": "code",
   "execution_count": 171,
   "metadata": {},
   "outputs": [],
   "source": [
    "def print_string_to_csv_file3(string): #Prints string string to file output_file_string.cvs\n",
    "    f = open('string_32_crime_and_punishment_transliteration_26.csv', 'w')\n",
    "    a=string\n",
    "    for i in range(len(a)):\n",
    "        if i == 0:\n",
    "            f.write(str(a[i]))\n",
    "        else:\n",
    "            f.write(',' + str(a[i]))\n",
    "    f.close()"
   ]
  },
  {
   "cell_type": "code",
   "execution_count": 172,
   "metadata": {},
   "outputs": [],
   "source": [
    "n=3\n",
    "string_of_allowed_symbols=\"abcdefghijklmnopqrstuvwxyzABCDEFGHIJKLMNOPQRSTUVWXYZ\"\n",
    "file=\"Преступление и наказание - 10 страниц - Транслитерация - 26.txt\"\n",
    "string=convert_file_to_string_v3(file,string_of_allowed_symbols)\n",
    "list_occ=combinations(string,n)[0]\n",
    "list_freq=combinations(string,n)[1]\n",
    "hamming_matrix=distance_matrix(list_occ)\n",
    "rescaled_hamming_matrix=prog_rescaled_hamming_matrix(hamming_matrix,list_freq)\n",
    "print_matrix_to_csv_file3(rescaled_hamming_matrix)\n",
    "print_string_to_csv_file3(list_freq)"
   ]
  },
  {
   "cell_type": "code",
   "execution_count": null,
   "metadata": {},
   "outputs": [],
   "source": []
  },
  {
   "cell_type": "code",
   "execution_count": null,
   "metadata": {},
   "outputs": [],
   "source": []
  },
  {
   "cell_type": "code",
   "execution_count": null,
   "metadata": {},
   "outputs": [],
   "source": [
    "#Defoe - Robinson Crusoe"
   ]
  },
  {
   "cell_type": "code",
   "execution_count": 173,
   "metadata": {},
   "outputs": [],
   "source": [
    "def print_matrix_to_csv_file1(matrix): #Prints matrix matrix to file output_file_matrix.cvs; rows are separated by \\n's\n",
    "    f = open('hamming_matrix_11_defoe.csv', 'w')\n",
    "    a=matrix\n",
    "    for item in a:\n",
    "        for i in range(len(item)):\n",
    "            if i == 0:\n",
    "                f.write(str(item[i]))\n",
    "            else:\n",
    "                f.write(',' + str(item[i]))\n",
    "        f.write('\\n')\n",
    "    f.close()"
   ]
  },
  {
   "cell_type": "code",
   "execution_count": 174,
   "metadata": {},
   "outputs": [],
   "source": [
    "def print_string_to_csv_file1(string): #Prints string string to file output_file_string.cvs\n",
    "    f = open('string_11_defoe.csv', 'w')\n",
    "    a=string\n",
    "    for i in range(len(a)):\n",
    "        if i == 0:\n",
    "            f.write(str(a[i]))\n",
    "        else:\n",
    "            f.write(',' + str(a[i]))\n",
    "    f.close()"
   ]
  },
  {
   "cell_type": "code",
   "execution_count": 175,
   "metadata": {},
   "outputs": [],
   "source": [
    "n=1\n",
    "string_of_allowed_symbols=\"abcdefghijklmnopqrstuvwxyzABCDEFGHIJKLMNOPQRSTUVWXYZ\"\n",
    "file=\"Defoe.txt\"\n",
    "string=convert_file_to_string_v3(file,string_of_allowed_symbols)\n",
    "list_occ=combinations(string,n)[0]\n",
    "list_freq=combinations(string,n)[1]\n",
    "hamming_matrix=distance_matrix(list_occ)\n",
    "rescaled_hamming_matrix=prog_rescaled_hamming_matrix(hamming_matrix,list_freq)\n",
    "print_matrix_to_csv_file1(rescaled_hamming_matrix)\n",
    "print_string_to_csv_file1(list_freq)"
   ]
  },
  {
   "cell_type": "code",
   "execution_count": null,
   "metadata": {},
   "outputs": [],
   "source": []
  },
  {
   "cell_type": "code",
   "execution_count": 176,
   "metadata": {},
   "outputs": [],
   "source": [
    "def print_matrix_to_csv_file2(matrix): #Prints matrix matrix to file output_file_matrix.cvs; rows are separated by \\n's\n",
    "    f = open('hamming_matrix_22_defoe.csv', 'w')\n",
    "    a=matrix\n",
    "    for item in a:\n",
    "        for i in range(len(item)):\n",
    "            if i == 0:\n",
    "                f.write(str(item[i]))\n",
    "            else:\n",
    "                f.write(',' + str(item[i]))\n",
    "        f.write('\\n')\n",
    "    f.close()"
   ]
  },
  {
   "cell_type": "code",
   "execution_count": 177,
   "metadata": {},
   "outputs": [],
   "source": [
    "def print_string_to_csv_file2(string): #Prints string string to file output_file_string.cvs\n",
    "    f = open('string_22_defoe.csv', 'w')\n",
    "    a=string\n",
    "    for i in range(len(a)):\n",
    "        if i == 0:\n",
    "            f.write(str(a[i]))\n",
    "        else:\n",
    "            f.write(',' + str(a[i]))\n",
    "    f.close()"
   ]
  },
  {
   "cell_type": "code",
   "execution_count": 178,
   "metadata": {},
   "outputs": [],
   "source": [
    "n=2\n",
    "string_of_allowed_symbols=\"abcdefghijklmnopqrstuvwxyzABCDEFGHIJKLMNOPQRSTUVWXYZ\"\n",
    "file=\"Defoe.txt\"\n",
    "string=convert_file_to_string_v3(file,string_of_allowed_symbols)\n",
    "list_occ=combinations(string,n)[0]\n",
    "list_freq=combinations(string,n)[1]\n",
    "hamming_matrix=distance_matrix(list_occ)\n",
    "rescaled_hamming_matrix=prog_rescaled_hamming_matrix(hamming_matrix,list_freq)\n",
    "print_matrix_to_csv_file2(rescaled_hamming_matrix)\n",
    "print_string_to_csv_file2(list_freq)"
   ]
  },
  {
   "cell_type": "code",
   "execution_count": null,
   "metadata": {},
   "outputs": [],
   "source": []
  },
  {
   "cell_type": "code",
   "execution_count": 179,
   "metadata": {},
   "outputs": [],
   "source": [
    "def print_matrix_to_csv_file3(matrix): #Prints matrix matrix to file output_file_matrix.cvs; rows are separated by \\n's\n",
    "    f = open('hamming_matrix_32_defoe.csv', 'w')\n",
    "    a=matrix\n",
    "    for item in a:\n",
    "        for i in range(len(item)):\n",
    "            if i == 0:\n",
    "                f.write(str(item[i]))\n",
    "            else:\n",
    "                f.write(',' + str(item[i]))\n",
    "        f.write('\\n')\n",
    "    f.close()"
   ]
  },
  {
   "cell_type": "code",
   "execution_count": 180,
   "metadata": {},
   "outputs": [],
   "source": [
    "def print_string_to_csv_file3(string): #Prints string string to file output_file_string.cvs\n",
    "    f = open('string_32_defoe.csv', 'w')\n",
    "    a=string\n",
    "    for i in range(len(a)):\n",
    "        if i == 0:\n",
    "            f.write(str(a[i]))\n",
    "        else:\n",
    "            f.write(',' + str(a[i]))\n",
    "    f.close()"
   ]
  },
  {
   "cell_type": "code",
   "execution_count": 181,
   "metadata": {},
   "outputs": [],
   "source": [
    "n=3\n",
    "string_of_allowed_symbols=\"abcdefghijklmnopqrstuvwxyzABCDEFGHIJKLMNOPQRSTUVWXYZ\"\n",
    "file=\"Defoe.txt\"\n",
    "string=convert_file_to_string_v3(file,string_of_allowed_symbols)\n",
    "list_occ=combinations(string,n)[0]\n",
    "list_freq=combinations(string,n)[1]\n",
    "hamming_matrix=distance_matrix(list_occ)\n",
    "rescaled_hamming_matrix=prog_rescaled_hamming_matrix(hamming_matrix,list_freq)\n",
    "print_matrix_to_csv_file3(rescaled_hamming_matrix)\n",
    "print_string_to_csv_file3(list_freq)"
   ]
  },
  {
   "cell_type": "code",
   "execution_count": null,
   "metadata": {},
   "outputs": [],
   "source": []
  },
  {
   "cell_type": "code",
   "execution_count": null,
   "metadata": {},
   "outputs": [],
   "source": []
  },
  {
   "cell_type": "code",
   "execution_count": null,
   "metadata": {},
   "outputs": [],
   "source": [
    "#Golding - Lord of the Flies"
   ]
  },
  {
   "cell_type": "code",
   "execution_count": 182,
   "metadata": {},
   "outputs": [],
   "source": [
    "def print_matrix_to_csv_file1(matrix): #Prints matrix matrix to file output_file_matrix.cvs; rows are separated by \\n's\n",
    "    f = open('hamming_matrix_11_golding.csv', 'w')\n",
    "    a=matrix\n",
    "    for item in a:\n",
    "        for i in range(len(item)):\n",
    "            if i == 0:\n",
    "                f.write(str(item[i]))\n",
    "            else:\n",
    "                f.write(',' + str(item[i]))\n",
    "        f.write('\\n')\n",
    "    f.close()"
   ]
  },
  {
   "cell_type": "code",
   "execution_count": 183,
   "metadata": {},
   "outputs": [],
   "source": [
    "def print_string_to_csv_file1(string): #Prints string string to file output_file_string.cvs\n",
    "    f = open('string_11_golding.csv', 'w')\n",
    "    a=string\n",
    "    for i in range(len(a)):\n",
    "        if i == 0:\n",
    "            f.write(str(a[i]))\n",
    "        else:\n",
    "            f.write(',' + str(a[i]))\n",
    "    f.close()"
   ]
  },
  {
   "cell_type": "code",
   "execution_count": 184,
   "metadata": {},
   "outputs": [],
   "source": [
    "n=1\n",
    "string_of_allowed_symbols=\"abcdefghijklmnopqrstuvwxyzABCDEFGHIJKLMNOPQRSTUVWXYZ\"\n",
    "file=\"Golding.txt\"\n",
    "string=convert_file_to_string_v3(file,string_of_allowed_symbols)\n",
    "list_occ=combinations(string,n)[0]\n",
    "list_freq=combinations(string,n)[1]\n",
    "hamming_matrix=distance_matrix(list_occ)\n",
    "rescaled_hamming_matrix=prog_rescaled_hamming_matrix(hamming_matrix,list_freq)\n",
    "print_matrix_to_csv_file1(rescaled_hamming_matrix)\n",
    "print_string_to_csv_file1(list_freq)"
   ]
  },
  {
   "cell_type": "code",
   "execution_count": null,
   "metadata": {},
   "outputs": [],
   "source": []
  },
  {
   "cell_type": "code",
   "execution_count": 185,
   "metadata": {},
   "outputs": [],
   "source": [
    "def print_matrix_to_csv_file2(matrix): #Prints matrix matrix to file output_file_matrix.cvs; rows are separated by \\n's\n",
    "    f = open('hamming_matrix_22_golding.csv', 'w')\n",
    "    a=matrix\n",
    "    for item in a:\n",
    "        for i in range(len(item)):\n",
    "            if i == 0:\n",
    "                f.write(str(item[i]))\n",
    "            else:\n",
    "                f.write(',' + str(item[i]))\n",
    "        f.write('\\n')\n",
    "    f.close()"
   ]
  },
  {
   "cell_type": "code",
   "execution_count": 186,
   "metadata": {},
   "outputs": [],
   "source": [
    "def print_string_to_csv_file2(string): #Prints string string to file output_file_string.cvs\n",
    "    f = open('string_22_golding.csv', 'w')\n",
    "    a=string\n",
    "    for i in range(len(a)):\n",
    "        if i == 0:\n",
    "            f.write(str(a[i]))\n",
    "        else:\n",
    "            f.write(',' + str(a[i]))\n",
    "    f.close()"
   ]
  },
  {
   "cell_type": "code",
   "execution_count": 187,
   "metadata": {},
   "outputs": [],
   "source": [
    "n=2\n",
    "string_of_allowed_symbols=\"abcdefghijklmnopqrstuvwxyzABCDEFGHIJKLMNOPQRSTUVWXYZ\"\n",
    "file=\"Golding.txt\"\n",
    "string=convert_file_to_string_v3(file,string_of_allowed_symbols)\n",
    "list_occ=combinations(string,n)[0]\n",
    "list_freq=combinations(string,n)[1]\n",
    "hamming_matrix=distance_matrix(list_occ)\n",
    "rescaled_hamming_matrix=prog_rescaled_hamming_matrix(hamming_matrix,list_freq)\n",
    "print_matrix_to_csv_file2(rescaled_hamming_matrix)\n",
    "print_string_to_csv_file2(list_freq)"
   ]
  },
  {
   "cell_type": "code",
   "execution_count": null,
   "metadata": {},
   "outputs": [],
   "source": []
  },
  {
   "cell_type": "code",
   "execution_count": 188,
   "metadata": {},
   "outputs": [],
   "source": [
    "def print_matrix_to_csv_file3(matrix): #Prints matrix matrix to file output_file_matrix.cvs; rows are separated by \\n's\n",
    "    f = open('hamming_matrix_32_golding.csv', 'w')\n",
    "    a=matrix\n",
    "    for item in a:\n",
    "        for i in range(len(item)):\n",
    "            if i == 0:\n",
    "                f.write(str(item[i]))\n",
    "            else:\n",
    "                f.write(',' + str(item[i]))\n",
    "        f.write('\\n')\n",
    "    f.close()"
   ]
  },
  {
   "cell_type": "code",
   "execution_count": 189,
   "metadata": {},
   "outputs": [],
   "source": [
    "def print_string_to_csv_file3(string): #Prints string string to file output_file_string.cvs\n",
    "    f = open('string_32_golding.csv', 'w')\n",
    "    a=string\n",
    "    for i in range(len(a)):\n",
    "        if i == 0:\n",
    "            f.write(str(a[i]))\n",
    "        else:\n",
    "            f.write(',' + str(a[i]))\n",
    "    f.close()"
   ]
  },
  {
   "cell_type": "code",
   "execution_count": 190,
   "metadata": {},
   "outputs": [],
   "source": [
    "n=3\n",
    "string_of_allowed_symbols=\"abcdefghijklmnopqrstuvwxyzABCDEFGHIJKLMNOPQRSTUVWXYZ\"\n",
    "file=\"Golding.txt\"\n",
    "string=convert_file_to_string_v3(file,string_of_allowed_symbols)\n",
    "list_occ=combinations(string,n)[0]\n",
    "list_freq=combinations(string,n)[1]\n",
    "hamming_matrix=distance_matrix(list_occ)\n",
    "rescaled_hamming_matrix=prog_rescaled_hamming_matrix(hamming_matrix,list_freq)\n",
    "print_matrix_to_csv_file3(rescaled_hamming_matrix)\n",
    "print_string_to_csv_file3(list_freq)"
   ]
  },
  {
   "cell_type": "code",
   "execution_count": null,
   "metadata": {},
   "outputs": [],
   "source": []
  },
  {
   "cell_type": "code",
   "execution_count": null,
   "metadata": {},
   "outputs": [],
   "source": []
  },
  {
   "cell_type": "code",
   "execution_count": null,
   "metadata": {},
   "outputs": [],
   "source": [
    "#Rowling - Harry Potter and the Sorcerer's Stone"
   ]
  },
  {
   "cell_type": "code",
   "execution_count": 191,
   "metadata": {},
   "outputs": [],
   "source": [
    "def print_matrix_to_csv_file1(matrix): #Prints matrix matrix to file output_file_matrix.cvs; rows are separated by \\n's\n",
    "    f = open('hamming_matrix_11_rowling.csv', 'w')\n",
    "    a=matrix\n",
    "    for item in a:\n",
    "        for i in range(len(item)):\n",
    "            if i == 0:\n",
    "                f.write(str(item[i]))\n",
    "            else:\n",
    "                f.write(',' + str(item[i]))\n",
    "        f.write('\\n')\n",
    "    f.close()"
   ]
  },
  {
   "cell_type": "code",
   "execution_count": 192,
   "metadata": {},
   "outputs": [],
   "source": [
    "def print_string_to_csv_file1(string): #Prints string string to file output_file_string.cvs\n",
    "    f = open('string_11_rowling.csv', 'w')\n",
    "    a=string\n",
    "    for i in range(len(a)):\n",
    "        if i == 0:\n",
    "            f.write(str(a[i]))\n",
    "        else:\n",
    "            f.write(',' + str(a[i]))\n",
    "    f.close()"
   ]
  },
  {
   "cell_type": "code",
   "execution_count": 193,
   "metadata": {},
   "outputs": [],
   "source": [
    "n=1\n",
    "string_of_allowed_symbols=\"abcdefghijklmnopqrstuvwxyzABCDEFGHIJKLMNOPQRSTUVWXYZ\"\n",
    "file=\"Rowling.txt\"\n",
    "string=convert_file_to_string_v3(file,string_of_allowed_symbols)\n",
    "list_occ=combinations(string,n)[0]\n",
    "list_freq=combinations(string,n)[1]\n",
    "hamming_matrix=distance_matrix(list_occ)\n",
    "rescaled_hamming_matrix=prog_rescaled_hamming_matrix(hamming_matrix,list_freq)\n",
    "print_matrix_to_csv_file1(rescaled_hamming_matrix)\n",
    "print_string_to_csv_file1(list_freq)"
   ]
  },
  {
   "cell_type": "code",
   "execution_count": null,
   "metadata": {},
   "outputs": [],
   "source": []
  },
  {
   "cell_type": "code",
   "execution_count": 194,
   "metadata": {},
   "outputs": [],
   "source": [
    "def print_matrix_to_csv_file2(matrix): #Prints matrix matrix to file output_file_matrix.cvs; rows are separated by \\n's\n",
    "    f = open('hamming_matrix_22_rowling.csv', 'w')\n",
    "    a=matrix\n",
    "    for item in a:\n",
    "        for i in range(len(item)):\n",
    "            if i == 0:\n",
    "                f.write(str(item[i]))\n",
    "            else:\n",
    "                f.write(',' + str(item[i]))\n",
    "        f.write('\\n')\n",
    "    f.close()"
   ]
  },
  {
   "cell_type": "code",
   "execution_count": 195,
   "metadata": {},
   "outputs": [],
   "source": [
    "def print_string_to_csv_file2(string): #Prints string string to file output_file_string.cvs\n",
    "    f = open('string_22_rowling.csv', 'w')\n",
    "    a=string\n",
    "    for i in range(len(a)):\n",
    "        if i == 0:\n",
    "            f.write(str(a[i]))\n",
    "        else:\n",
    "            f.write(',' + str(a[i]))\n",
    "    f.close()"
   ]
  },
  {
   "cell_type": "code",
   "execution_count": 196,
   "metadata": {},
   "outputs": [],
   "source": [
    "n=2\n",
    "string_of_allowed_symbols=\"abcdefghijklmnopqrstuvwxyzABCDEFGHIJKLMNOPQRSTUVWXYZ\"\n",
    "file=\"Rowling.txt\"\n",
    "string=convert_file_to_string_v3(file,string_of_allowed_symbols)\n",
    "list_occ=combinations(string,n)[0]\n",
    "list_freq=combinations(string,n)[1]\n",
    "hamming_matrix=distance_matrix(list_occ)\n",
    "rescaled_hamming_matrix=prog_rescaled_hamming_matrix(hamming_matrix,list_freq)\n",
    "print_matrix_to_csv_file2(rescaled_hamming_matrix)\n",
    "print_string_to_csv_file2(list_freq)"
   ]
  },
  {
   "cell_type": "code",
   "execution_count": null,
   "metadata": {},
   "outputs": [],
   "source": []
  },
  {
   "cell_type": "code",
   "execution_count": 197,
   "metadata": {},
   "outputs": [],
   "source": [
    "def print_matrix_to_csv_file3(matrix): #Prints matrix matrix to file output_file_matrix.cvs; rows are separated by \\n's\n",
    "    f = open('hamming_matrix_32_rowling.csv', 'w')\n",
    "    a=matrix\n",
    "    for item in a:\n",
    "        for i in range(len(item)):\n",
    "            if i == 0:\n",
    "                f.write(str(item[i]))\n",
    "            else:\n",
    "                f.write(',' + str(item[i]))\n",
    "        f.write('\\n')\n",
    "    f.close()"
   ]
  },
  {
   "cell_type": "code",
   "execution_count": 198,
   "metadata": {},
   "outputs": [],
   "source": [
    "def print_string_to_csv_file3(string): #Prints string string to file output_file_string.cvs\n",
    "    f = open('string_32_rowling.csv', 'w')\n",
    "    a=string\n",
    "    for i in range(len(a)):\n",
    "        if i == 0:\n",
    "            f.write(str(a[i]))\n",
    "        else:\n",
    "            f.write(',' + str(a[i]))\n",
    "    f.close()"
   ]
  },
  {
   "cell_type": "code",
   "execution_count": 199,
   "metadata": {},
   "outputs": [],
   "source": [
    "n=3\n",
    "string_of_allowed_symbols=\"abcdefghijklmnopqrstuvwxyzABCDEFGHIJKLMNOPQRSTUVWXYZ\"\n",
    "file=\"Rowling.txt\"\n",
    "string=convert_file_to_string_v3(file,string_of_allowed_symbols)\n",
    "list_occ=combinations(string,n)[0]\n",
    "list_freq=combinations(string,n)[1]\n",
    "hamming_matrix=distance_matrix(list_occ)\n",
    "rescaled_hamming_matrix=prog_rescaled_hamming_matrix(hamming_matrix,list_freq)\n",
    "print_matrix_to_csv_file3(rescaled_hamming_matrix)\n",
    "print_string_to_csv_file3(list_freq)"
   ]
  },
  {
   "cell_type": "code",
   "execution_count": null,
   "metadata": {},
   "outputs": [],
   "source": []
  },
  {
   "cell_type": "code",
   "execution_count": null,
   "metadata": {},
   "outputs": [],
   "source": []
  },
  {
   "cell_type": "code",
   "execution_count": null,
   "metadata": {},
   "outputs": [],
   "source": [
    "#Mann - Zauberberg"
   ]
  },
  {
   "cell_type": "code",
   "execution_count": 200,
   "metadata": {},
   "outputs": [],
   "source": [
    "def print_matrix_to_csv_file1(matrix): #Prints matrix matrix to file output_file_matrix.cvs; rows are separated by \\n's\n",
    "    f = open('hamming_matrix_11_mann.csv', 'w')\n",
    "    a=matrix\n",
    "    for item in a:\n",
    "        for i in range(len(item)):\n",
    "            if i == 0:\n",
    "                f.write(str(item[i]))\n",
    "            else:\n",
    "                f.write(',' + str(item[i]))\n",
    "        f.write('\\n')\n",
    "    f.close()"
   ]
  },
  {
   "cell_type": "code",
   "execution_count": 201,
   "metadata": {},
   "outputs": [],
   "source": [
    "def print_string_to_csv_file1(string): #Prints string string to file output_file_string.cvs\n",
    "    f = open('string_11_mann.csv', 'w')\n",
    "    a=string\n",
    "    for i in range(len(a)):\n",
    "        if i == 0:\n",
    "            f.write(str(a[i]))\n",
    "        else:\n",
    "            f.write(',' + str(a[i]))\n",
    "    f.close()"
   ]
  },
  {
   "cell_type": "code",
   "execution_count": 202,
   "metadata": {},
   "outputs": [],
   "source": [
    "n=1\n",
    "string_of_allowed_symbols=\"abcdefghijklmnopqrstuvwxyzABCDEFGHIJKLMNOPQRSTUVWXYZ\"\n",
    "file=\"Mann.txt\"\n",
    "string=convert_file_to_string_v3(file,string_of_allowed_symbols)\n",
    "list_occ=combinations(string,n)[0]\n",
    "list_freq=combinations(string,n)[1]\n",
    "hamming_matrix=distance_matrix(list_occ)\n",
    "rescaled_hamming_matrix=prog_rescaled_hamming_matrix(hamming_matrix,list_freq)\n",
    "print_matrix_to_csv_file1(rescaled_hamming_matrix)\n",
    "print_string_to_csv_file1(list_freq)"
   ]
  },
  {
   "cell_type": "code",
   "execution_count": null,
   "metadata": {},
   "outputs": [],
   "source": []
  },
  {
   "cell_type": "code",
   "execution_count": 203,
   "metadata": {},
   "outputs": [],
   "source": [
    "def print_matrix_to_csv_file2(matrix): #Prints matrix matrix to file output_file_matrix.cvs; rows are separated by \\n's\n",
    "    f = open('hamming_matrix_22_mann.csv', 'w')\n",
    "    a=matrix\n",
    "    for item in a:\n",
    "        for i in range(len(item)):\n",
    "            if i == 0:\n",
    "                f.write(str(item[i]))\n",
    "            else:\n",
    "                f.write(',' + str(item[i]))\n",
    "        f.write('\\n')\n",
    "    f.close()"
   ]
  },
  {
   "cell_type": "code",
   "execution_count": 204,
   "metadata": {},
   "outputs": [],
   "source": [
    "def print_string_to_csv_file2(string): #Prints string string to file output_file_string.cvs\n",
    "    f = open('string_22_mann.csv', 'w')\n",
    "    a=string\n",
    "    for i in range(len(a)):\n",
    "        if i == 0:\n",
    "            f.write(str(a[i]))\n",
    "        else:\n",
    "            f.write(',' + str(a[i]))\n",
    "    f.close()"
   ]
  },
  {
   "cell_type": "code",
   "execution_count": 205,
   "metadata": {},
   "outputs": [],
   "source": [
    "n=2\n",
    "string_of_allowed_symbols=\"abcdefghijklmnopqrstuvwxyzABCDEFGHIJKLMNOPQRSTUVWXYZ\"\n",
    "file=\"Mann.txt\"\n",
    "string=convert_file_to_string_v3(file,string_of_allowed_symbols)\n",
    "list_occ=combinations(string,n)[0]\n",
    "list_freq=combinations(string,n)[1]\n",
    "hamming_matrix=distance_matrix(list_occ)\n",
    "rescaled_hamming_matrix=prog_rescaled_hamming_matrix(hamming_matrix,list_freq)\n",
    "print_matrix_to_csv_file2(rescaled_hamming_matrix)\n",
    "print_string_to_csv_file2(list_freq)"
   ]
  },
  {
   "cell_type": "code",
   "execution_count": null,
   "metadata": {},
   "outputs": [],
   "source": []
  },
  {
   "cell_type": "code",
   "execution_count": 206,
   "metadata": {},
   "outputs": [],
   "source": [
    "def print_matrix_to_csv_file3(matrix): #Prints matrix matrix to file output_file_matrix.cvs; rows are separated by \\n's\n",
    "    f = open('hamming_matrix_32_mann.csv', 'w')\n",
    "    a=matrix\n",
    "    for item in a:\n",
    "        for i in range(len(item)):\n",
    "            if i == 0:\n",
    "                f.write(str(item[i]))\n",
    "            else:\n",
    "                f.write(',' + str(item[i]))\n",
    "        f.write('\\n')\n",
    "    f.close()"
   ]
  },
  {
   "cell_type": "code",
   "execution_count": 207,
   "metadata": {},
   "outputs": [],
   "source": [
    "def print_string_to_csv_file3(string): #Prints string string to file output_file_string.cvs\n",
    "    f = open('string_32_mann.csv', 'w')\n",
    "    a=string\n",
    "    for i in range(len(a)):\n",
    "        if i == 0:\n",
    "            f.write(str(a[i]))\n",
    "        else:\n",
    "            f.write(',' + str(a[i]))\n",
    "    f.close()"
   ]
  },
  {
   "cell_type": "code",
   "execution_count": 208,
   "metadata": {},
   "outputs": [],
   "source": [
    "n=3\n",
    "string_of_allowed_symbols=\"abcdefghijklmnopqrstuvwxyzABCDEFGHIJKLMNOPQRSTUVWXYZ\"\n",
    "file=\"Mann.txt\"\n",
    "string=convert_file_to_string_v3(file,string_of_allowed_symbols)\n",
    "list_occ=combinations(string,n)[0]\n",
    "list_freq=combinations(string,n)[1]\n",
    "hamming_matrix=distance_matrix(list_occ)\n",
    "rescaled_hamming_matrix=prog_rescaled_hamming_matrix(hamming_matrix,list_freq)\n",
    "print_matrix_to_csv_file3(rescaled_hamming_matrix)\n",
    "print_string_to_csv_file3(list_freq)"
   ]
  },
  {
   "cell_type": "code",
   "execution_count": null,
   "metadata": {},
   "outputs": [],
   "source": []
  },
  {
   "cell_type": "code",
   "execution_count": null,
   "metadata": {},
   "outputs": [],
   "source": []
  },
  {
   "cell_type": "code",
   "execution_count": null,
   "metadata": {},
   "outputs": [],
   "source": [
    "#Hašek - Osudy dobrého vojáka Švejka za světové války"
   ]
  },
  {
   "cell_type": "code",
   "execution_count": 209,
   "metadata": {},
   "outputs": [],
   "source": [
    "def print_matrix_to_csv_file1(matrix): #Prints matrix matrix to file output_file_matrix.cvs; rows are separated by \\n's\n",
    "    f = open('hamming_matrix_11_hašek.csv', 'w')\n",
    "    a=matrix\n",
    "    for item in a:\n",
    "        for i in range(len(item)):\n",
    "            if i == 0:\n",
    "                f.write(str(item[i]))\n",
    "            else:\n",
    "                f.write(',' + str(item[i]))\n",
    "        f.write('\\n')\n",
    "    f.close()"
   ]
  },
  {
   "cell_type": "code",
   "execution_count": 210,
   "metadata": {},
   "outputs": [],
   "source": [
    "def print_string_to_csv_file1(string): #Prints string string to file output_file_string.cvs\n",
    "    f = open('string_11_hašek.csv', 'w')\n",
    "    a=string\n",
    "    for i in range(len(a)):\n",
    "        if i == 0:\n",
    "            f.write(str(a[i]))\n",
    "        else:\n",
    "            f.write(',' + str(a[i]))\n",
    "    f.close()"
   ]
  },
  {
   "cell_type": "code",
   "execution_count": 211,
   "metadata": {},
   "outputs": [],
   "source": [
    "n=1\n",
    "string_of_allowed_symbols=\"abcdefghijklmnopqrstuvwxyzABCDEFGHIJKLMNOPQRSTUVWXYZ\"\n",
    "file=\"Hašek.txt\"\n",
    "string=convert_file_to_string_v3(file,string_of_allowed_symbols)\n",
    "list_occ=combinations(string,n)[0]\n",
    "list_freq=combinations(string,n)[1]\n",
    "hamming_matrix=distance_matrix(list_occ)\n",
    "rescaled_hamming_matrix=prog_rescaled_hamming_matrix(hamming_matrix,list_freq)\n",
    "print_matrix_to_csv_file1(rescaled_hamming_matrix)\n",
    "print_string_to_csv_file1(list_freq)"
   ]
  },
  {
   "cell_type": "code",
   "execution_count": null,
   "metadata": {},
   "outputs": [],
   "source": []
  },
  {
   "cell_type": "code",
   "execution_count": 212,
   "metadata": {},
   "outputs": [],
   "source": [
    "def print_matrix_to_csv_file2(matrix): #Prints matrix matrix to file output_file_matrix.cvs; rows are separated by \\n's\n",
    "    f = open('hamming_matrix_22_hašek.csv', 'w')\n",
    "    a=matrix\n",
    "    for item in a:\n",
    "        for i in range(len(item)):\n",
    "            if i == 0:\n",
    "                f.write(str(item[i]))\n",
    "            else:\n",
    "                f.write(',' + str(item[i]))\n",
    "        f.write('\\n')\n",
    "    f.close()"
   ]
  },
  {
   "cell_type": "code",
   "execution_count": 213,
   "metadata": {},
   "outputs": [],
   "source": [
    "def print_string_to_csv_file2(string): #Prints string string to file output_file_string.cvs\n",
    "    f = open('string_22_hašek.csv', 'w')\n",
    "    a=string\n",
    "    for i in range(len(a)):\n",
    "        if i == 0:\n",
    "            f.write(str(a[i]))\n",
    "        else:\n",
    "            f.write(',' + str(a[i]))\n",
    "    f.close()"
   ]
  },
  {
   "cell_type": "code",
   "execution_count": 214,
   "metadata": {},
   "outputs": [],
   "source": [
    "n=2\n",
    "string_of_allowed_symbols=\"abcdefghijklmnopqrstuvwxyzABCDEFGHIJKLMNOPQRSTUVWXYZ\"\n",
    "file=\"Hašek.txt\"\n",
    "string=convert_file_to_string_v3(file,string_of_allowed_symbols)\n",
    "list_occ=combinations(string,n)[0]\n",
    "list_freq=combinations(string,n)[1]\n",
    "hamming_matrix=distance_matrix(list_occ)\n",
    "rescaled_hamming_matrix=prog_rescaled_hamming_matrix(hamming_matrix,list_freq)\n",
    "print_matrix_to_csv_file2(rescaled_hamming_matrix)\n",
    "print_string_to_csv_file2(list_freq)"
   ]
  },
  {
   "cell_type": "code",
   "execution_count": null,
   "metadata": {},
   "outputs": [],
   "source": []
  },
  {
   "cell_type": "code",
   "execution_count": 215,
   "metadata": {},
   "outputs": [],
   "source": [
    "def print_matrix_to_csv_file3(matrix): #Prints matrix matrix to file output_file_matrix.cvs; rows are separated by \\n's\n",
    "    f = open('hamming_matrix_32_hašek.csv', 'w')\n",
    "    a=matrix\n",
    "    for item in a:\n",
    "        for i in range(len(item)):\n",
    "            if i == 0:\n",
    "                f.write(str(item[i]))\n",
    "            else:\n",
    "                f.write(',' + str(item[i]))\n",
    "        f.write('\\n')\n",
    "    f.close()"
   ]
  },
  {
   "cell_type": "code",
   "execution_count": 216,
   "metadata": {},
   "outputs": [],
   "source": [
    "def print_string_to_csv_file3(string): #Prints string string to file output_file_string.cvs\n",
    "    f = open('string_32_hašek.csv', 'w')\n",
    "    a=string\n",
    "    for i in range(len(a)):\n",
    "        if i == 0:\n",
    "            f.write(str(a[i]))\n",
    "        else:\n",
    "            f.write(',' + str(a[i]))\n",
    "    f.close()"
   ]
  },
  {
   "cell_type": "code",
   "execution_count": 217,
   "metadata": {},
   "outputs": [],
   "source": [
    "n=3\n",
    "string_of_allowed_symbols=\"abcdefghijklmnopqrstuvwxyzABCDEFGHIJKLMNOPQRSTUVWXYZ\"\n",
    "file=\"Hašek.txt\"\n",
    "string=convert_file_to_string_v3(file,string_of_allowed_symbols)\n",
    "list_occ=combinations(string,n)[0]\n",
    "list_freq=combinations(string,n)[1]\n",
    "hamming_matrix=distance_matrix(list_occ)\n",
    "rescaled_hamming_matrix=prog_rescaled_hamming_matrix(hamming_matrix,list_freq)\n",
    "print_matrix_to_csv_file3(rescaled_hamming_matrix)\n",
    "print_string_to_csv_file3(list_freq)"
   ]
  },
  {
   "cell_type": "code",
   "execution_count": null,
   "metadata": {},
   "outputs": [],
   "source": []
  },
  {
   "cell_type": "code",
   "execution_count": null,
   "metadata": {},
   "outputs": [],
   "source": []
  },
  {
   "cell_type": "code",
   "execution_count": null,
   "metadata": {},
   "outputs": [],
   "source": [
    "#Korean constitution"
   ]
  },
  {
   "cell_type": "code",
   "execution_count": 218,
   "metadata": {},
   "outputs": [],
   "source": [
    "def print_matrix_to_csv_file1(matrix): #Prints matrix matrix to file output_file_matrix.cvs; rows are separated by \\n's\n",
    "    f = open('hamming_matrix_11_korean.csv', 'w')\n",
    "    a=matrix\n",
    "    for item in a:\n",
    "        for i in range(len(item)):\n",
    "            if i == 0:\n",
    "                f.write(str(item[i]))\n",
    "            else:\n",
    "                f.write(',' + str(item[i]))\n",
    "        f.write('\\n')\n",
    "    f.close()"
   ]
  },
  {
   "cell_type": "code",
   "execution_count": 219,
   "metadata": {},
   "outputs": [],
   "source": [
    "def print_string_to_csv_file1(string): #Prints string string to file output_file_string.cvs\n",
    "    f = open('string_11_korean.csv', 'w')\n",
    "    a=string\n",
    "    for i in range(len(a)):\n",
    "        if i == 0:\n",
    "            f.write(str(a[i]))\n",
    "        else:\n",
    "            f.write(',' + str(a[i]))\n",
    "    f.close()"
   ]
  },
  {
   "cell_type": "code",
   "execution_count": 220,
   "metadata": {},
   "outputs": [],
   "source": [
    "n=1\n",
    "string_of_allowed_symbols=\"abcdefghijklmnopqrstuvwxyzABCDEFGHIJKLMNOPQRSTUVWXYZ\"\n",
    "file=\"Korean constitution.txt\"\n",
    "string=convert_file_to_string_v3(file,string_of_allowed_symbols)\n",
    "list_occ=combinations(string,n)[0]\n",
    "list_freq=combinations(string,n)[1]\n",
    "hamming_matrix=distance_matrix(list_occ)\n",
    "rescaled_hamming_matrix=prog_rescaled_hamming_matrix(hamming_matrix,list_freq)\n",
    "print_matrix_to_csv_file1(rescaled_hamming_matrix)\n",
    "print_string_to_csv_file1(list_freq)"
   ]
  },
  {
   "cell_type": "code",
   "execution_count": null,
   "metadata": {},
   "outputs": [],
   "source": []
  },
  {
   "cell_type": "code",
   "execution_count": 221,
   "metadata": {},
   "outputs": [],
   "source": [
    "def print_matrix_to_csv_file2(matrix): #Prints matrix matrix to file output_file_matrix.cvs; rows are separated by \\n's\n",
    "    f = open('hamming_matrix_22_korean.csv', 'w')\n",
    "    a=matrix\n",
    "    for item in a:\n",
    "        for i in range(len(item)):\n",
    "            if i == 0:\n",
    "                f.write(str(item[i]))\n",
    "            else:\n",
    "                f.write(',' + str(item[i]))\n",
    "        f.write('\\n')\n",
    "    f.close()"
   ]
  },
  {
   "cell_type": "code",
   "execution_count": 222,
   "metadata": {},
   "outputs": [],
   "source": [
    "def print_string_to_csv_file2(string): #Prints string string to file output_file_string.cvs\n",
    "    f = open('string_22_korean.csv', 'w')\n",
    "    a=string\n",
    "    for i in range(len(a)):\n",
    "        if i == 0:\n",
    "            f.write(str(a[i]))\n",
    "        else:\n",
    "            f.write(',' + str(a[i]))\n",
    "    f.close()"
   ]
  },
  {
   "cell_type": "code",
   "execution_count": 223,
   "metadata": {},
   "outputs": [],
   "source": [
    "n=2\n",
    "string_of_allowed_symbols=\"abcdefghijklmnopqrstuvwxyzABCDEFGHIJKLMNOPQRSTUVWXYZ\"\n",
    "file=\"Korean constitution.txt\"\n",
    "string=convert_file_to_string_v3(file,string_of_allowed_symbols)\n",
    "list_occ=combinations(string,n)[0]\n",
    "list_freq=combinations(string,n)[1]\n",
    "hamming_matrix=distance_matrix(list_occ)\n",
    "rescaled_hamming_matrix=prog_rescaled_hamming_matrix(hamming_matrix,list_freq)\n",
    "print_matrix_to_csv_file2(rescaled_hamming_matrix)\n",
    "print_string_to_csv_file2(list_freq)"
   ]
  },
  {
   "cell_type": "code",
   "execution_count": null,
   "metadata": {},
   "outputs": [],
   "source": []
  },
  {
   "cell_type": "code",
   "execution_count": 224,
   "metadata": {},
   "outputs": [],
   "source": [
    "def print_matrix_to_csv_file3(matrix): #Prints matrix matrix to file output_file_matrix.cvs; rows are separated by \\n's\n",
    "    f = open('hamming_matrix_32_korean.csv', 'w')\n",
    "    a=matrix\n",
    "    for item in a:\n",
    "        for i in range(len(item)):\n",
    "            if i == 0:\n",
    "                f.write(str(item[i]))\n",
    "            else:\n",
    "                f.write(',' + str(item[i]))\n",
    "        f.write('\\n')\n",
    "    f.close()"
   ]
  },
  {
   "cell_type": "code",
   "execution_count": 225,
   "metadata": {},
   "outputs": [],
   "source": [
    "def print_string_to_csv_file3(string): #Prints string string to file output_file_string.cvs\n",
    "    f = open('string_32_korean.csv', 'w')\n",
    "    a=string\n",
    "    for i in range(len(a)):\n",
    "        if i == 0:\n",
    "            f.write(str(a[i]))\n",
    "        else:\n",
    "            f.write(',' + str(a[i]))\n",
    "    f.close()"
   ]
  },
  {
   "cell_type": "code",
   "execution_count": 226,
   "metadata": {},
   "outputs": [],
   "source": [
    "n=3\n",
    "string_of_allowed_symbols=\"abcdefghijklmnopqrstuvwxyzABCDEFGHIJKLMNOPQRSTUVWXYZ\"\n",
    "file=\"Korean constitution.txt\"\n",
    "string=convert_file_to_string_v3(file,string_of_allowed_symbols)\n",
    "list_occ=combinations(string,n)[0]\n",
    "list_freq=combinations(string,n)[1]\n",
    "hamming_matrix=distance_matrix(list_occ)\n",
    "rescaled_hamming_matrix=prog_rescaled_hamming_matrix(hamming_matrix,list_freq)\n",
    "print_matrix_to_csv_file3(rescaled_hamming_matrix)\n",
    "print_string_to_csv_file3(list_freq)"
   ]
  },
  {
   "cell_type": "code",
   "execution_count": null,
   "metadata": {},
   "outputs": [],
   "source": []
  },
  {
   "cell_type": "code",
   "execution_count": null,
   "metadata": {},
   "outputs": [],
   "source": []
  },
  {
   "cell_type": "code",
   "execution_count": null,
   "metadata": {},
   "outputs": [],
   "source": [
    "\"\"\"\n",
    "Радищев.txt\n",
    "Преступление и наказание - 10 страниц - Оригинал.txt\n",
    "Толстой - Оригинал.txt\n",
    "Булгаков.txt\n",
    "Домбровский.txt\n",
    "\n",
    "\"\"\""
   ]
  },
  {
   "cell_type": "code",
   "execution_count": null,
   "metadata": {},
   "outputs": [],
   "source": [
    "#Радищев - оригинал"
   ]
  },
  {
   "cell_type": "code",
   "execution_count": 8,
   "metadata": {},
   "outputs": [],
   "source": [
    "def print_matrix_to_csv_file1(matrix): #Prints matrix matrix to file output_file_matrix.cvs; rows are separated by \\n's\n",
    "    f = open('hamming_matrix_11_radishchev_original.csv', 'w')\n",
    "    a=matrix\n",
    "    for item in a:\n",
    "        for i in range(len(item)):\n",
    "            if i == 0:\n",
    "                f.write(str(item[i]))\n",
    "            else:\n",
    "                f.write(',' + str(item[i]))\n",
    "        f.write('\\n')\n",
    "    f.close()"
   ]
  },
  {
   "cell_type": "code",
   "execution_count": 10,
   "metadata": {},
   "outputs": [],
   "source": [
    "def print_string_to_csv_file1(string): #Prints string string to file output_file_string.cvs\n",
    "    f = open('string_11_radishchev_original.csv', 'w')\n",
    "    a=string\n",
    "    for i in range(len(a)):\n",
    "        if i == 0:\n",
    "            f.write(str(a[i]))\n",
    "        else:\n",
    "            f.write(',' + str(a[i]))\n",
    "    f.close()"
   ]
  },
  {
   "cell_type": "code",
   "execution_count": 11,
   "metadata": {},
   "outputs": [],
   "source": [
    "n=1\n",
    "string_of_allowed_symbols=\"абвгдеёжзийклмнопрстуфхцчшщъыьэюяАБВГДЕЁЖЗИЙКЛМНОПРСТУФХЦЧШЩЪЫЬЭЮЯ\"\n",
    "file=\"Радищев.txt\"\n",
    "string=convert_file_to_string_v3(file,string_of_allowed_symbols)\n",
    "list_occ=combinations(string,n)[0]\n",
    "list_freq=combinations(string,n)[1]\n",
    "hamming_matrix=distance_matrix(list_occ)\n",
    "rescaled_hamming_matrix=prog_rescaled_hamming_matrix(hamming_matrix,list_freq)\n",
    "print_matrix_to_csv_file1(rescaled_hamming_matrix)\n",
    "print_string_to_csv_file1(list_freq)"
   ]
  },
  {
   "cell_type": "code",
   "execution_count": null,
   "metadata": {},
   "outputs": [],
   "source": []
  },
  {
   "cell_type": "code",
   "execution_count": 12,
   "metadata": {},
   "outputs": [],
   "source": [
    "def print_matrix_to_csv_file2(matrix): #Prints matrix matrix to file output_file_matrix.cvs; rows are separated by \\n's\n",
    "    f = open('hamming_matrix_22_radishchev_original.csv', 'w')\n",
    "    a=matrix\n",
    "    for item in a:\n",
    "        for i in range(len(item)):\n",
    "            if i == 0:\n",
    "                f.write(str(item[i]))\n",
    "            else:\n",
    "                f.write(',' + str(item[i]))\n",
    "        f.write('\\n')\n",
    "    f.close()"
   ]
  },
  {
   "cell_type": "code",
   "execution_count": 13,
   "metadata": {},
   "outputs": [],
   "source": [
    "def print_string_to_csv_file2(string): #Prints string string to file output_file_string.cvs\n",
    "    f = open('string_22_radishchev_original.csv', 'w')\n",
    "    a=string\n",
    "    for i in range(len(a)):\n",
    "        if i == 0:\n",
    "            f.write(str(a[i]))\n",
    "        else:\n",
    "            f.write(',' + str(a[i]))\n",
    "    f.close()"
   ]
  },
  {
   "cell_type": "code",
   "execution_count": 14,
   "metadata": {},
   "outputs": [],
   "source": [
    "n=2\n",
    "string_of_allowed_symbols=\"абвгдеёжзийклмнопрстуфхцчшщъыьэюяАБВГДЕЁЖЗИЙКЛМНОПРСТУФХЦЧШЩЪЫЬЭЮЯ\"\n",
    "file=\"Радищев.txt\"\n",
    "string=convert_file_to_string_v3(file,string_of_allowed_symbols)\n",
    "list_occ=combinations(string,n)[0]\n",
    "list_freq=combinations(string,n)[1]\n",
    "hamming_matrix=distance_matrix(list_occ)\n",
    "rescaled_hamming_matrix=prog_rescaled_hamming_matrix(hamming_matrix,list_freq)\n",
    "print_matrix_to_csv_file2(rescaled_hamming_matrix)\n",
    "print_string_to_csv_file2(list_freq)"
   ]
  },
  {
   "cell_type": "code",
   "execution_count": null,
   "metadata": {},
   "outputs": [],
   "source": []
  },
  {
   "cell_type": "code",
   "execution_count": 15,
   "metadata": {},
   "outputs": [],
   "source": [
    "def print_matrix_to_csv_file3(matrix): #Prints matrix matrix to file output_file_matrix.cvs; rows are separated by \\n's\n",
    "    f = open('hamming_matrix_32_radishchev_original.csv', 'w')\n",
    "    a=matrix\n",
    "    for item in a:\n",
    "        for i in range(len(item)):\n",
    "            if i == 0:\n",
    "                f.write(str(item[i]))\n",
    "            else:\n",
    "                f.write(',' + str(item[i]))\n",
    "        f.write('\\n')\n",
    "    f.close()"
   ]
  },
  {
   "cell_type": "code",
   "execution_count": 16,
   "metadata": {},
   "outputs": [],
   "source": [
    "def print_string_to_csv_file3(string): #Prints string string to file output_file_string.cvs\n",
    "    f = open('string_32_radishchev_original.csv', 'w')\n",
    "    a=string\n",
    "    for i in range(len(a)):\n",
    "        if i == 0:\n",
    "            f.write(str(a[i]))\n",
    "        else:\n",
    "            f.write(',' + str(a[i]))\n",
    "    f.close()"
   ]
  },
  {
   "cell_type": "code",
   "execution_count": 17,
   "metadata": {},
   "outputs": [],
   "source": [
    "n=3\n",
    "string_of_allowed_symbols=\"абвгдеёжзийклмнопрстуфхцчшщъыьэюяАБВГДЕЁЖЗИЙКЛМНОПРСТУФХЦЧШЩЪЫЬЭЮЯ\"\n",
    "file=\"Радищев.txt\"\n",
    "string=convert_file_to_string_v3(file,string_of_allowed_symbols)\n",
    "list_occ=combinations(string,n)[0]\n",
    "list_freq=combinations(string,n)[1]\n",
    "hamming_matrix=distance_matrix(list_occ)\n",
    "rescaled_hamming_matrix=prog_rescaled_hamming_matrix(hamming_matrix,list_freq)\n",
    "print_matrix_to_csv_file3(rescaled_hamming_matrix)\n",
    "print_string_to_csv_file3(list_freq)"
   ]
  },
  {
   "cell_type": "code",
   "execution_count": null,
   "metadata": {},
   "outputs": [],
   "source": []
  },
  {
   "cell_type": "code",
   "execution_count": null,
   "metadata": {},
   "outputs": [],
   "source": []
  },
  {
   "cell_type": "code",
   "execution_count": 18,
   "metadata": {},
   "outputs": [],
   "source": [
    "#Преступление и наказание - Оригинал"
   ]
  },
  {
   "cell_type": "code",
   "execution_count": 19,
   "metadata": {},
   "outputs": [],
   "source": [
    "def print_matrix_to_csv_file1(matrix): #Prints matrix matrix to file output_file_matrix.cvs; rows are separated by \\n's\n",
    "    f = open('hamming_matrix_11_dostoevsky_original.csv', 'w')\n",
    "    a=matrix\n",
    "    for item in a:\n",
    "        for i in range(len(item)):\n",
    "            if i == 0:\n",
    "                f.write(str(item[i]))\n",
    "            else:\n",
    "                f.write(',' + str(item[i]))\n",
    "        f.write('\\n')\n",
    "    f.close()"
   ]
  },
  {
   "cell_type": "code",
   "execution_count": 20,
   "metadata": {},
   "outputs": [],
   "source": [
    "def print_string_to_csv_file1(string): #Prints string string to file output_file_string.cvs\n",
    "    f = open('string_11_dostoevsky_original.csv', 'w')\n",
    "    a=string\n",
    "    for i in range(len(a)):\n",
    "        if i == 0:\n",
    "            f.write(str(a[i]))\n",
    "        else:\n",
    "            f.write(',' + str(a[i]))\n",
    "    f.close()"
   ]
  },
  {
   "cell_type": "code",
   "execution_count": 21,
   "metadata": {},
   "outputs": [],
   "source": [
    "n=1\n",
    "string_of_allowed_symbols=\"абвгдеёжзийклмнопрстуфхцчшщъыьэюяАБВГДЕЁЖЗИЙКЛМНОПРСТУФХЦЧШЩЪЫЬЭЮЯ\"\n",
    "file=\"Преступление и наказание - 10 страниц - Оригинал.txt\"\n",
    "string=convert_file_to_string_v3(file,string_of_allowed_symbols)\n",
    "list_occ=combinations(string,n)[0]\n",
    "list_freq=combinations(string,n)[1]\n",
    "hamming_matrix=distance_matrix(list_occ)\n",
    "rescaled_hamming_matrix=prog_rescaled_hamming_matrix(hamming_matrix,list_freq)\n",
    "print_matrix_to_csv_file1(rescaled_hamming_matrix)\n",
    "print_string_to_csv_file1(list_freq)"
   ]
  },
  {
   "cell_type": "code",
   "execution_count": null,
   "metadata": {},
   "outputs": [],
   "source": []
  },
  {
   "cell_type": "code",
   "execution_count": 22,
   "metadata": {},
   "outputs": [],
   "source": [
    "def print_matrix_to_csv_file2(matrix): #Prints matrix matrix to file output_file_matrix.cvs; rows are separated by \\n's\n",
    "    f = open('hamming_matrix_22_dostoevsky_original.csv', 'w')\n",
    "    a=matrix\n",
    "    for item in a:\n",
    "        for i in range(len(item)):\n",
    "            if i == 0:\n",
    "                f.write(str(item[i]))\n",
    "            else:\n",
    "                f.write(',' + str(item[i]))\n",
    "        f.write('\\n')\n",
    "    f.close()"
   ]
  },
  {
   "cell_type": "code",
   "execution_count": 23,
   "metadata": {},
   "outputs": [],
   "source": [
    "def print_string_to_csv_file2(string): #Prints string string to file output_file_string.cvs\n",
    "    f = open('string_22_dostoevsky_original.csv', 'w')\n",
    "    a=string\n",
    "    for i in range(len(a)):\n",
    "        if i == 0:\n",
    "            f.write(str(a[i]))\n",
    "        else:\n",
    "            f.write(',' + str(a[i]))\n",
    "    f.close()"
   ]
  },
  {
   "cell_type": "code",
   "execution_count": 24,
   "metadata": {},
   "outputs": [],
   "source": [
    "n=2\n",
    "string_of_allowed_symbols=\"абвгдеёжзийклмнопрстуфхцчшщъыьэюяАБВГДЕЁЖЗИЙКЛМНОПРСТУФХЦЧШЩЪЫЬЭЮЯ\"\n",
    "file=\"Преступление и наказание - 10 страниц - Оригинал.txt\"\n",
    "string=convert_file_to_string_v3(file,string_of_allowed_symbols)\n",
    "list_occ=combinations(string,n)[0]\n",
    "list_freq=combinations(string,n)[1]\n",
    "hamming_matrix=distance_matrix(list_occ)\n",
    "rescaled_hamming_matrix=prog_rescaled_hamming_matrix(hamming_matrix,list_freq)\n",
    "print_matrix_to_csv_file2(rescaled_hamming_matrix)\n",
    "print_string_to_csv_file2(list_freq)"
   ]
  },
  {
   "cell_type": "code",
   "execution_count": null,
   "metadata": {},
   "outputs": [],
   "source": []
  },
  {
   "cell_type": "code",
   "execution_count": 25,
   "metadata": {},
   "outputs": [],
   "source": [
    "def print_matrix_to_csv_file3(matrix): #Prints matrix matrix to file output_file_matrix.cvs; rows are separated by \\n's\n",
    "    f = open('hamming_matrix_32_dostoevsky_original.csv', 'w')\n",
    "    a=matrix\n",
    "    for item in a:\n",
    "        for i in range(len(item)):\n",
    "            if i == 0:\n",
    "                f.write(str(item[i]))\n",
    "            else:\n",
    "                f.write(',' + str(item[i]))\n",
    "        f.write('\\n')\n",
    "    f.close()"
   ]
  },
  {
   "cell_type": "code",
   "execution_count": 26,
   "metadata": {},
   "outputs": [],
   "source": [
    "def print_string_to_csv_file3(string): #Prints string string to file output_file_string.cvs\n",
    "    f = open('string_32_dostoevsky_original.csv', 'w')\n",
    "    a=string\n",
    "    for i in range(len(a)):\n",
    "        if i == 0:\n",
    "            f.write(str(a[i]))\n",
    "        else:\n",
    "            f.write(',' + str(a[i]))\n",
    "    f.close()"
   ]
  },
  {
   "cell_type": "code",
   "execution_count": 27,
   "metadata": {},
   "outputs": [],
   "source": [
    "n=3\n",
    "string_of_allowed_symbols=\"абвгдеёжзийклмнопрстуфхцчшщъыьэюяАБВГДЕЁЖЗИЙКЛМНОПРСТУФХЦЧШЩЪЫЬЭЮЯ\"\n",
    "file=\"Преступление и наказание - 10 страниц - Оригинал.txt\"\n",
    "string=convert_file_to_string_v3(file,string_of_allowed_symbols)\n",
    "list_occ=combinations(string,n)[0]\n",
    "list_freq=combinations(string,n)[1]\n",
    "hamming_matrix=distance_matrix(list_occ)\n",
    "rescaled_hamming_matrix=prog_rescaled_hamming_matrix(hamming_matrix,list_freq)\n",
    "print_matrix_to_csv_file3(rescaled_hamming_matrix)\n",
    "print_string_to_csv_file3(list_freq)"
   ]
  },
  {
   "cell_type": "code",
   "execution_count": null,
   "metadata": {},
   "outputs": [],
   "source": []
  },
  {
   "cell_type": "code",
   "execution_count": null,
   "metadata": {},
   "outputs": [],
   "source": []
  },
  {
   "cell_type": "code",
   "execution_count": 28,
   "metadata": {},
   "outputs": [],
   "source": [
    "#Толстой - Оригинал"
   ]
  },
  {
   "cell_type": "code",
   "execution_count": 29,
   "metadata": {},
   "outputs": [],
   "source": [
    "def print_matrix_to_csv_file1(matrix): #Prints matrix matrix to file output_file_matrix.cvs; rows are separated by \\n's\n",
    "    f = open('hamming_matrix_11_tolstoy_original.csv', 'w')\n",
    "    a=matrix\n",
    "    for item in a:\n",
    "        for i in range(len(item)):\n",
    "            if i == 0:\n",
    "                f.write(str(item[i]))\n",
    "            else:\n",
    "                f.write(',' + str(item[i]))\n",
    "        f.write('\\n')\n",
    "    f.close()"
   ]
  },
  {
   "cell_type": "code",
   "execution_count": 30,
   "metadata": {},
   "outputs": [],
   "source": [
    "def print_string_to_csv_file1(string): #Prints string string to file output_file_string.cvs\n",
    "    f = open('string_11_tolstoy_original.csv', 'w')\n",
    "    a=string\n",
    "    for i in range(len(a)):\n",
    "        if i == 0:\n",
    "            f.write(str(a[i]))\n",
    "        else:\n",
    "            f.write(',' + str(a[i]))\n",
    "    f.close()"
   ]
  },
  {
   "cell_type": "code",
   "execution_count": 31,
   "metadata": {},
   "outputs": [],
   "source": [
    "n=1\n",
    "string_of_allowed_symbols=\"абвгдеёжзийклмнопрстуфхцчшщъыьэюяАБВГДЕЁЖЗИЙКЛМНОПРСТУФХЦЧШЩЪЫЬЭЮЯ\"\n",
    "file=\"Толстой - Оригинал.txt\"\n",
    "string=convert_file_to_string_v3(file,string_of_allowed_symbols)\n",
    "list_occ=combinations(string,n)[0]\n",
    "list_freq=combinations(string,n)[1]\n",
    "hamming_matrix=distance_matrix(list_occ)\n",
    "rescaled_hamming_matrix=prog_rescaled_hamming_matrix(hamming_matrix,list_freq)\n",
    "print_matrix_to_csv_file1(rescaled_hamming_matrix)\n",
    "print_string_to_csv_file1(list_freq)"
   ]
  },
  {
   "cell_type": "code",
   "execution_count": null,
   "metadata": {},
   "outputs": [],
   "source": []
  },
  {
   "cell_type": "code",
   "execution_count": 32,
   "metadata": {},
   "outputs": [],
   "source": [
    "def print_matrix_to_csv_file2(matrix): #Prints matrix matrix to file output_file_matrix.cvs; rows are separated by \\n's\n",
    "    f = open('hamming_matrix_22_tolstoy_original.csv', 'w')\n",
    "    a=matrix\n",
    "    for item in a:\n",
    "        for i in range(len(item)):\n",
    "            if i == 0:\n",
    "                f.write(str(item[i]))\n",
    "            else:\n",
    "                f.write(',' + str(item[i]))\n",
    "        f.write('\\n')\n",
    "    f.close()"
   ]
  },
  {
   "cell_type": "code",
   "execution_count": 33,
   "metadata": {},
   "outputs": [],
   "source": [
    "def print_string_to_csv_file2(string): #Prints string string to file output_file_string.cvs\n",
    "    f = open('string_22_tolstoy_original.csv', 'w')\n",
    "    a=string\n",
    "    for i in range(len(a)):\n",
    "        if i == 0:\n",
    "            f.write(str(a[i]))\n",
    "        else:\n",
    "            f.write(',' + str(a[i]))\n",
    "    f.close()"
   ]
  },
  {
   "cell_type": "code",
   "execution_count": 34,
   "metadata": {},
   "outputs": [],
   "source": [
    "n=2\n",
    "string_of_allowed_symbols=\"абвгдеёжзийклмнопрстуфхцчшщъыьэюяАБВГДЕЁЖЗИЙКЛМНОПРСТУФХЦЧШЩЪЫЬЭЮЯ\"\n",
    "file=\"Толстой - Оригинал.txt\"\n",
    "string=convert_file_to_string_v3(file,string_of_allowed_symbols)\n",
    "list_occ=combinations(string,n)[0]\n",
    "list_freq=combinations(string,n)[1]\n",
    "hamming_matrix=distance_matrix(list_occ)\n",
    "rescaled_hamming_matrix=prog_rescaled_hamming_matrix(hamming_matrix,list_freq)\n",
    "print_matrix_to_csv_file2(rescaled_hamming_matrix)\n",
    "print_string_to_csv_file2(list_freq)"
   ]
  },
  {
   "cell_type": "code",
   "execution_count": null,
   "metadata": {},
   "outputs": [],
   "source": []
  },
  {
   "cell_type": "code",
   "execution_count": 35,
   "metadata": {},
   "outputs": [],
   "source": [
    "def print_matrix_to_csv_file3(matrix): #Prints matrix matrix to file output_file_matrix.cvs; rows are separated by \\n's\n",
    "    f = open('hamming_matrix_32_tolstoy_original.csv', 'w')\n",
    "    a=matrix\n",
    "    for item in a:\n",
    "        for i in range(len(item)):\n",
    "            if i == 0:\n",
    "                f.write(str(item[i]))\n",
    "            else:\n",
    "                f.write(',' + str(item[i]))\n",
    "        f.write('\\n')\n",
    "    f.close()"
   ]
  },
  {
   "cell_type": "code",
   "execution_count": 36,
   "metadata": {},
   "outputs": [],
   "source": [
    "def print_string_to_csv_file3(string): #Prints string string to file output_file_string.cvs\n",
    "    f = open('string_32_tolstoy_original.csv', 'w')\n",
    "    a=string\n",
    "    for i in range(len(a)):\n",
    "        if i == 0:\n",
    "            f.write(str(a[i]))\n",
    "        else:\n",
    "            f.write(',' + str(a[i]))\n",
    "    f.close()"
   ]
  },
  {
   "cell_type": "code",
   "execution_count": 37,
   "metadata": {},
   "outputs": [],
   "source": [
    "n=3\n",
    "string_of_allowed_symbols=\"абвгдеёжзийклмнопрстуфхцчшщъыьэюяАБВГДЕЁЖЗИЙКЛМНОПРСТУФХЦЧШЩЪЫЬЭЮЯ\"\n",
    "file=\"Толстой - Оригинал.txt\"\n",
    "string=convert_file_to_string_v3(file,string_of_allowed_symbols)\n",
    "list_occ=combinations(string,n)[0]\n",
    "list_freq=combinations(string,n)[1]\n",
    "hamming_matrix=distance_matrix(list_occ)\n",
    "rescaled_hamming_matrix=prog_rescaled_hamming_matrix(hamming_matrix,list_freq)\n",
    "print_matrix_to_csv_file3(rescaled_hamming_matrix)\n",
    "print_string_to_csv_file3(list_freq)"
   ]
  },
  {
   "cell_type": "code",
   "execution_count": null,
   "metadata": {},
   "outputs": [],
   "source": []
  },
  {
   "cell_type": "code",
   "execution_count": null,
   "metadata": {},
   "outputs": [],
   "source": []
  },
  {
   "cell_type": "code",
   "execution_count": 38,
   "metadata": {},
   "outputs": [],
   "source": [
    "#Булгаков - Оригинал"
   ]
  },
  {
   "cell_type": "code",
   "execution_count": 39,
   "metadata": {},
   "outputs": [],
   "source": [
    "def print_matrix_to_csv_file1(matrix): #Prints matrix matrix to file output_file_matrix.cvs; rows are separated by \\n's\n",
    "    f = open('hamming_matrix_11_bulgakov_original.csv', 'w')\n",
    "    a=matrix\n",
    "    for item in a:\n",
    "        for i in range(len(item)):\n",
    "            if i == 0:\n",
    "                f.write(str(item[i]))\n",
    "            else:\n",
    "                f.write(',' + str(item[i]))\n",
    "        f.write('\\n')\n",
    "    f.close()"
   ]
  },
  {
   "cell_type": "code",
   "execution_count": 40,
   "metadata": {},
   "outputs": [],
   "source": [
    "def print_string_to_csv_file1(string): #Prints string string to file output_file_string.cvs\n",
    "    f = open('string_11_bulgakov_original.csv', 'w')\n",
    "    a=string\n",
    "    for i in range(len(a)):\n",
    "        if i == 0:\n",
    "            f.write(str(a[i]))\n",
    "        else:\n",
    "            f.write(',' + str(a[i]))\n",
    "    f.close()"
   ]
  },
  {
   "cell_type": "code",
   "execution_count": 41,
   "metadata": {},
   "outputs": [],
   "source": [
    "n=1\n",
    "string_of_allowed_symbols=\"абвгдеёжзийклмнопрстуфхцчшщъыьэюяАБВГДЕЁЖЗИЙКЛМНОПРСТУФХЦЧШЩЪЫЬЭЮЯ\"\n",
    "file=\"Булгаков.txt\"\n",
    "string=convert_file_to_string_v3(file,string_of_allowed_symbols)\n",
    "list_occ=combinations(string,n)[0]\n",
    "list_freq=combinations(string,n)[1]\n",
    "hamming_matrix=distance_matrix(list_occ)\n",
    "rescaled_hamming_matrix=prog_rescaled_hamming_matrix(hamming_matrix,list_freq)\n",
    "print_matrix_to_csv_file1(rescaled_hamming_matrix)\n",
    "print_string_to_csv_file1(list_freq)"
   ]
  },
  {
   "cell_type": "code",
   "execution_count": null,
   "metadata": {},
   "outputs": [],
   "source": []
  },
  {
   "cell_type": "code",
   "execution_count": 42,
   "metadata": {},
   "outputs": [],
   "source": [
    "def print_matrix_to_csv_file2(matrix): #Prints matrix matrix to file output_file_matrix.cvs; rows are separated by \\n's\n",
    "    f = open('hamming_matrix_22_bulgakov_original.csv', 'w')\n",
    "    a=matrix\n",
    "    for item in a:\n",
    "        for i in range(len(item)):\n",
    "            if i == 0:\n",
    "                f.write(str(item[i]))\n",
    "            else:\n",
    "                f.write(',' + str(item[i]))\n",
    "        f.write('\\n')\n",
    "    f.close()"
   ]
  },
  {
   "cell_type": "code",
   "execution_count": 43,
   "metadata": {},
   "outputs": [],
   "source": [
    "def print_string_to_csv_file2(string): #Prints string string to file output_file_string.cvs\n",
    "    f = open('string_22_bulgakov_original.csv', 'w')\n",
    "    a=string\n",
    "    for i in range(len(a)):\n",
    "        if i == 0:\n",
    "            f.write(str(a[i]))\n",
    "        else:\n",
    "            f.write(',' + str(a[i]))\n",
    "    f.close()"
   ]
  },
  {
   "cell_type": "code",
   "execution_count": 44,
   "metadata": {},
   "outputs": [],
   "source": [
    "n=2\n",
    "string_of_allowed_symbols=\"абвгдеёжзийклмнопрстуфхцчшщъыьэюяАБВГДЕЁЖЗИЙКЛМНОПРСТУФХЦЧШЩЪЫЬЭЮЯ\"\n",
    "file=\"Булгаков.txt\"\n",
    "string=convert_file_to_string_v3(file,string_of_allowed_symbols)\n",
    "list_occ=combinations(string,n)[0]\n",
    "list_freq=combinations(string,n)[1]\n",
    "hamming_matrix=distance_matrix(list_occ)\n",
    "rescaled_hamming_matrix=prog_rescaled_hamming_matrix(hamming_matrix,list_freq)\n",
    "print_matrix_to_csv_file2(rescaled_hamming_matrix)\n",
    "print_string_to_csv_file2(list_freq)"
   ]
  },
  {
   "cell_type": "code",
   "execution_count": null,
   "metadata": {},
   "outputs": [],
   "source": []
  },
  {
   "cell_type": "code",
   "execution_count": 45,
   "metadata": {},
   "outputs": [],
   "source": [
    "def print_matrix_to_csv_file3(matrix): #Prints matrix matrix to file output_file_matrix.cvs; rows are separated by \\n's\n",
    "    f = open('hamming_matrix_32_bulgakov_original.csv', 'w')\n",
    "    a=matrix\n",
    "    for item in a:\n",
    "        for i in range(len(item)):\n",
    "            if i == 0:\n",
    "                f.write(str(item[i]))\n",
    "            else:\n",
    "                f.write(',' + str(item[i]))\n",
    "        f.write('\\n')\n",
    "    f.close()"
   ]
  },
  {
   "cell_type": "code",
   "execution_count": 46,
   "metadata": {},
   "outputs": [],
   "source": [
    "def print_string_to_csv_file3(string): #Prints string string to file output_file_string.cvs\n",
    "    f = open('string_32_bulgakov_original.csv', 'w')\n",
    "    a=string\n",
    "    for i in range(len(a)):\n",
    "        if i == 0:\n",
    "            f.write(str(a[i]))\n",
    "        else:\n",
    "            f.write(',' + str(a[i]))\n",
    "    f.close()"
   ]
  },
  {
   "cell_type": "code",
   "execution_count": 47,
   "metadata": {},
   "outputs": [],
   "source": [
    "n=3\n",
    "string_of_allowed_symbols=\"абвгдеёжзийклмнопрстуфхцчшщъыьэюяАБВГДЕЁЖЗИЙКЛМНОПРСТУФХЦЧШЩЪЫЬЭЮЯ\"\n",
    "file=\"Булгаков.txt\"\n",
    "string=convert_file_to_string_v3(file,string_of_allowed_symbols)\n",
    "list_occ=combinations(string,n)[0]\n",
    "list_freq=combinations(string,n)[1]\n",
    "hamming_matrix=distance_matrix(list_occ)\n",
    "rescaled_hamming_matrix=prog_rescaled_hamming_matrix(hamming_matrix,list_freq)\n",
    "print_matrix_to_csv_file3(rescaled_hamming_matrix)\n",
    "print_string_to_csv_file3(list_freq)"
   ]
  },
  {
   "cell_type": "code",
   "execution_count": null,
   "metadata": {},
   "outputs": [],
   "source": []
  },
  {
   "cell_type": "code",
   "execution_count": null,
   "metadata": {},
   "outputs": [],
   "source": []
  },
  {
   "cell_type": "code",
   "execution_count": 48,
   "metadata": {},
   "outputs": [],
   "source": [
    "#Домбровский - Оригинал"
   ]
  },
  {
   "cell_type": "code",
   "execution_count": 49,
   "metadata": {},
   "outputs": [],
   "source": [
    "def print_matrix_to_csv_file1(matrix): #Prints matrix matrix to file output_file_matrix.cvs; rows are separated by \\n's\n",
    "    f = open('hamming_matrix_11_dombrovsky_original.csv', 'w')\n",
    "    a=matrix\n",
    "    for item in a:\n",
    "        for i in range(len(item)):\n",
    "            if i == 0:\n",
    "                f.write(str(item[i]))\n",
    "            else:\n",
    "                f.write(',' + str(item[i]))\n",
    "        f.write('\\n')\n",
    "    f.close()"
   ]
  },
  {
   "cell_type": "code",
   "execution_count": 50,
   "metadata": {},
   "outputs": [],
   "source": [
    "def print_string_to_csv_file1(string): #Prints string string to file output_file_string.cvs\n",
    "    f = open('string_11_dombrovsky_original.csv', 'w')\n",
    "    a=string\n",
    "    for i in range(len(a)):\n",
    "        if i == 0:\n",
    "            f.write(str(a[i]))\n",
    "        else:\n",
    "            f.write(',' + str(a[i]))\n",
    "    f.close()"
   ]
  },
  {
   "cell_type": "code",
   "execution_count": 51,
   "metadata": {},
   "outputs": [],
   "source": [
    "n=1\n",
    "string_of_allowed_symbols=\"абвгдеёжзийклмнопрстуфхцчшщъыьэюяАБВГДЕЁЖЗИЙКЛМНОПРСТУФХЦЧШЩЪЫЬЭЮЯ\"\n",
    "file=\"Домбровский.txt\"\n",
    "string=convert_file_to_string_v3(file,string_of_allowed_symbols)\n",
    "list_occ=combinations(string,n)[0]\n",
    "list_freq=combinations(string,n)[1]\n",
    "hamming_matrix=distance_matrix(list_occ)\n",
    "rescaled_hamming_matrix=prog_rescaled_hamming_matrix(hamming_matrix,list_freq)\n",
    "print_matrix_to_csv_file1(rescaled_hamming_matrix)\n",
    "print_string_to_csv_file1(list_freq)"
   ]
  },
  {
   "cell_type": "code",
   "execution_count": null,
   "metadata": {},
   "outputs": [],
   "source": []
  },
  {
   "cell_type": "code",
   "execution_count": 52,
   "metadata": {},
   "outputs": [],
   "source": [
    "def print_matrix_to_csv_file2(matrix): #Prints matrix matrix to file output_file_matrix.cvs; rows are separated by \\n's\n",
    "    f = open('hamming_matrix_22_dombrovsky_original.csv', 'w')\n",
    "    a=matrix\n",
    "    for item in a:\n",
    "        for i in range(len(item)):\n",
    "            if i == 0:\n",
    "                f.write(str(item[i]))\n",
    "            else:\n",
    "                f.write(',' + str(item[i]))\n",
    "        f.write('\\n')\n",
    "    f.close()"
   ]
  },
  {
   "cell_type": "code",
   "execution_count": 53,
   "metadata": {},
   "outputs": [],
   "source": [
    "def print_string_to_csv_file2(string): #Prints string string to file output_file_string.cvs\n",
    "    f = open('string_22_dombrovsky_original.csv', 'w')\n",
    "    a=string\n",
    "    for i in range(len(a)):\n",
    "        if i == 0:\n",
    "            f.write(str(a[i]))\n",
    "        else:\n",
    "            f.write(',' + str(a[i]))\n",
    "    f.close()"
   ]
  },
  {
   "cell_type": "code",
   "execution_count": 54,
   "metadata": {},
   "outputs": [],
   "source": [
    "n=2\n",
    "string_of_allowed_symbols=\"абвгдеёжзийклмнопрстуфхцчшщъыьэюяАБВГДЕЁЖЗИЙКЛМНОПРСТУФХЦЧШЩЪЫЬЭЮЯ\"\n",
    "file=\"Домбровский.txt\"\n",
    "string=convert_file_to_string_v3(file,string_of_allowed_symbols)\n",
    "list_occ=combinations(string,n)[0]\n",
    "list_freq=combinations(string,n)[1]\n",
    "hamming_matrix=distance_matrix(list_occ)\n",
    "rescaled_hamming_matrix=prog_rescaled_hamming_matrix(hamming_matrix,list_freq)\n",
    "print_matrix_to_csv_file2(rescaled_hamming_matrix)\n",
    "print_string_to_csv_file2(list_freq)"
   ]
  },
  {
   "cell_type": "code",
   "execution_count": null,
   "metadata": {},
   "outputs": [],
   "source": []
  },
  {
   "cell_type": "code",
   "execution_count": 55,
   "metadata": {},
   "outputs": [],
   "source": [
    "def print_matrix_to_csv_file3(matrix): #Prints matrix matrix to file output_file_matrix.cvs; rows are separated by \\n's\n",
    "    f = open('hamming_matrix_32_dombrovsky_original.csv', 'w')\n",
    "    a=matrix\n",
    "    for item in a:\n",
    "        for i in range(len(item)):\n",
    "            if i == 0:\n",
    "                f.write(str(item[i]))\n",
    "            else:\n",
    "                f.write(',' + str(item[i]))\n",
    "        f.write('\\n')\n",
    "    f.close()"
   ]
  },
  {
   "cell_type": "code",
   "execution_count": 56,
   "metadata": {},
   "outputs": [],
   "source": [
    "def print_string_to_csv_file3(string): #Prints string string to file output_file_string.cvs\n",
    "    f = open('string_32_dombrovsky_original.csv', 'w')\n",
    "    a=string\n",
    "    for i in range(len(a)):\n",
    "        if i == 0:\n",
    "            f.write(str(a[i]))\n",
    "        else:\n",
    "            f.write(',' + str(a[i]))\n",
    "    f.close()"
   ]
  },
  {
   "cell_type": "code",
   "execution_count": 57,
   "metadata": {},
   "outputs": [],
   "source": [
    "n=3\n",
    "string_of_allowed_symbols=\"абвгдеёжзийклмнопрстуфхцчшщъыьэюяАБВГДЕЁЖЗИЙКЛМНОПРСТУФХЦЧШЩЪЫЬЭЮЯ\"\n",
    "file=\"Домбровский.txt\"\n",
    "string=convert_file_to_string_v3(file,string_of_allowed_symbols)\n",
    "list_occ=combinations(string,n)[0]\n",
    "list_freq=combinations(string,n)[1]\n",
    "hamming_matrix=distance_matrix(list_occ)\n",
    "rescaled_hamming_matrix=prog_rescaled_hamming_matrix(hamming_matrix,list_freq)\n",
    "print_matrix_to_csv_file3(rescaled_hamming_matrix)\n",
    "print_string_to_csv_file3(list_freq)"
   ]
  },
  {
   "cell_type": "code",
   "execution_count": null,
   "metadata": {},
   "outputs": [],
   "source": []
  },
  {
   "cell_type": "code",
   "execution_count": null,
   "metadata": {},
   "outputs": [],
   "source": []
  },
  {
   "cell_type": "code",
   "execution_count": null,
   "metadata": {},
   "outputs": [],
   "source": []
  },
  {
   "cell_type": "code",
   "execution_count": 1,
   "metadata": {},
   "outputs": [],
   "source": [
    "#Siregar"
   ]
  },
  {
   "cell_type": "code",
   "execution_count": 2,
   "metadata": {},
   "outputs": [],
   "source": [
    "def print_matrix_to_csv_file1(matrix): #Prints matrix matrix to file output_file_matrix.cvs; rows are separated by \\n's\n",
    "    f = open('hamming_matrix_11_siregar.csv', 'w')\n",
    "    a=matrix\n",
    "    for item in a:\n",
    "        for i in range(len(item)):\n",
    "            if i == 0:\n",
    "                f.write(str(item[i]))\n",
    "            else:\n",
    "                f.write(',' + str(item[i]))\n",
    "        f.write('\\n')\n",
    "    f.close()"
   ]
  },
  {
   "cell_type": "code",
   "execution_count": 3,
   "metadata": {},
   "outputs": [],
   "source": [
    "def print_string_to_csv_file1(string): #Prints string string to file output_file_string.cvs\n",
    "    f = open('string_11_siregar.csv', 'w')\n",
    "    a=string\n",
    "    for i in range(len(a)):\n",
    "        if i == 0:\n",
    "            f.write(str(a[i]))\n",
    "        else:\n",
    "            f.write(',' + str(a[i]))\n",
    "    f.close()"
   ]
  },
  {
   "cell_type": "code",
   "execution_count": 13,
   "metadata": {},
   "outputs": [],
   "source": [
    "n=1\n",
    "string_of_allowed_symbols=\"abcdefghijklmnopqrstuvwxyzABCDEFGHIJKLMNOPQRSTUVWXYZ\"\n",
    "file=\"Siregar.txt\"\n",
    "string=convert_file_to_string_v3(file,string_of_allowed_symbols)\n",
    "list_occ=combinations(string,n)[0]\n",
    "list_freq=combinations(string,n)[1]\n",
    "hamming_matrix=distance_matrix(list_occ)\n",
    "rescaled_hamming_matrix=prog_rescaled_hamming_matrix(hamming_matrix,list_freq)\n",
    "print_matrix_to_csv_file1(rescaled_hamming_matrix)\n",
    "print_string_to_csv_file1(list_freq)"
   ]
  },
  {
   "cell_type": "code",
   "execution_count": null,
   "metadata": {},
   "outputs": [],
   "source": []
  },
  {
   "cell_type": "code",
   "execution_count": 14,
   "metadata": {},
   "outputs": [],
   "source": [
    "def print_matrix_to_csv_file2(matrix): #Prints matrix matrix to file output_file_matrix.cvs; rows are separated by \\n's\n",
    "    f = open('hamming_matrix_22_siregar.csv', 'w')\n",
    "    a=matrix\n",
    "    for item in a:\n",
    "        for i in range(len(item)):\n",
    "            if i == 0:\n",
    "                f.write(str(item[i]))\n",
    "            else:\n",
    "                f.write(',' + str(item[i]))\n",
    "        f.write('\\n')\n",
    "    f.close()"
   ]
  },
  {
   "cell_type": "code",
   "execution_count": 15,
   "metadata": {},
   "outputs": [],
   "source": [
    "def print_string_to_csv_file2(string): #Prints string string to file output_file_string.cvs\n",
    "    f = open('string_22_siregar.csv', 'w')\n",
    "    a=string\n",
    "    for i in range(len(a)):\n",
    "        if i == 0:\n",
    "            f.write(str(a[i]))\n",
    "        else:\n",
    "            f.write(',' + str(a[i]))\n",
    "    f.close()"
   ]
  },
  {
   "cell_type": "code",
   "execution_count": 16,
   "metadata": {},
   "outputs": [],
   "source": [
    "n=2\n",
    "string_of_allowed_symbols=\"abcdefghijklmnopqrstuvwxyzABCDEFGHIJKLMNOPQRSTUVWXYZ\"\n",
    "file=\"Siregar.txt\"\n",
    "string=convert_file_to_string_v3(file,string_of_allowed_symbols)\n",
    "list_occ=combinations(string,n)[0]\n",
    "list_freq=combinations(string,n)[1]\n",
    "hamming_matrix=distance_matrix(list_occ)\n",
    "rescaled_hamming_matrix=prog_rescaled_hamming_matrix(hamming_matrix,list_freq)\n",
    "print_matrix_to_csv_file2(rescaled_hamming_matrix)\n",
    "print_string_to_csv_file2(list_freq)"
   ]
  },
  {
   "cell_type": "code",
   "execution_count": null,
   "metadata": {},
   "outputs": [],
   "source": []
  },
  {
   "cell_type": "code",
   "execution_count": 17,
   "metadata": {},
   "outputs": [],
   "source": [
    "def print_matrix_to_csv_file3(matrix): #Prints matrix matrix to file output_file_matrix.cvs; rows are separated by \\n's\n",
    "    f = open('hamming_matrix_32_siregar.csv', 'w')\n",
    "    a=matrix\n",
    "    for item in a:\n",
    "        for i in range(len(item)):\n",
    "            if i == 0:\n",
    "                f.write(str(item[i]))\n",
    "            else:\n",
    "                f.write(',' + str(item[i]))\n",
    "        f.write('\\n')\n",
    "    f.close()"
   ]
  },
  {
   "cell_type": "code",
   "execution_count": 18,
   "metadata": {},
   "outputs": [],
   "source": [
    "def print_string_to_csv_file3(string): #Prints string string to file output_file_string.cvs\n",
    "    f = open('string_32_siregar.csv', 'w')\n",
    "    a=string\n",
    "    for i in range(len(a)):\n",
    "        if i == 0:\n",
    "            f.write(str(a[i]))\n",
    "        else:\n",
    "            f.write(',' + str(a[i]))\n",
    "    f.close()"
   ]
  },
  {
   "cell_type": "code",
   "execution_count": 19,
   "metadata": {},
   "outputs": [],
   "source": [
    "n=3\n",
    "string_of_allowed_symbols=\"abcdefghijklmnopqrstuvwxyzABCDEFGHIJKLMNOPQRSTUVWXYZ\"\n",
    "file=\"Siregar.txt\"\n",
    "string=convert_file_to_string_v3(file,string_of_allowed_symbols)\n",
    "list_occ=combinations(string,n)[0]\n",
    "list_freq=combinations(string,n)[1]\n",
    "hamming_matrix=distance_matrix(list_occ)\n",
    "rescaled_hamming_matrix=prog_rescaled_hamming_matrix(hamming_matrix,list_freq)\n",
    "print_matrix_to_csv_file3(rescaled_hamming_matrix)\n",
    "print_string_to_csv_file3(list_freq)"
   ]
  },
  {
   "cell_type": "code",
   "execution_count": null,
   "metadata": {},
   "outputs": [],
   "source": []
  },
  {
   "cell_type": "code",
   "execution_count": null,
   "metadata": {},
   "outputs": [],
   "source": []
  },
  {
   "cell_type": "code",
   "execution_count": 20,
   "metadata": {},
   "outputs": [],
   "source": [
    "#Lawah-Lawah Merah"
   ]
  },
  {
   "cell_type": "code",
   "execution_count": 21,
   "metadata": {},
   "outputs": [],
   "source": [
    "def print_matrix_to_csv_file1(matrix): #Prints matrix matrix to file output_file_matrix.cvs; rows are separated by \\n's\n",
    "    f = open('hamming_matrix_11_lawah_Lawah_merah.csv', 'w')\n",
    "    a=matrix\n",
    "    for item in a:\n",
    "        for i in range(len(item)):\n",
    "            if i == 0:\n",
    "                f.write(str(item[i]))\n",
    "            else:\n",
    "                f.write(',' + str(item[i]))\n",
    "        f.write('\\n')\n",
    "    f.close()"
   ]
  },
  {
   "cell_type": "code",
   "execution_count": 22,
   "metadata": {},
   "outputs": [],
   "source": [
    "def print_string_to_csv_file1(string): #Prints string string to file output_file_string.cvs\n",
    "    f = open('string_11_lawah_Lawah_merah.csv', 'w')\n",
    "    a=string\n",
    "    for i in range(len(a)):\n",
    "        if i == 0:\n",
    "            f.write(str(a[i]))\n",
    "        else:\n",
    "            f.write(',' + str(a[i]))\n",
    "    f.close()"
   ]
  },
  {
   "cell_type": "code",
   "execution_count": 23,
   "metadata": {},
   "outputs": [],
   "source": [
    "n=1\n",
    "string_of_allowed_symbols=\"abcdefghijklmnopqrstuvwxyzABCDEFGHIJKLMNOPQRSTUVWXYZ\"\n",
    "file=\"Lawah-Lawah Merah.txt\"\n",
    "string=convert_file_to_string_v3(file,string_of_allowed_symbols)\n",
    "list_occ=combinations(string,n)[0]\n",
    "list_freq=combinations(string,n)[1]\n",
    "hamming_matrix=distance_matrix(list_occ)\n",
    "rescaled_hamming_matrix=prog_rescaled_hamming_matrix(hamming_matrix,list_freq)\n",
    "print_matrix_to_csv_file1(rescaled_hamming_matrix)\n",
    "print_string_to_csv_file1(list_freq)"
   ]
  },
  {
   "cell_type": "code",
   "execution_count": null,
   "metadata": {},
   "outputs": [],
   "source": []
  },
  {
   "cell_type": "code",
   "execution_count": 24,
   "metadata": {},
   "outputs": [],
   "source": [
    "def print_matrix_to_csv_file2(matrix): #Prints matrix matrix to file output_file_matrix.cvs; rows are separated by \\n's\n",
    "    f = open('hamming_matrix_22_lawah_Lawah_merah.csv', 'w')\n",
    "    a=matrix\n",
    "    for item in a:\n",
    "        for i in range(len(item)):\n",
    "            if i == 0:\n",
    "                f.write(str(item[i]))\n",
    "            else:\n",
    "                f.write(',' + str(item[i]))\n",
    "        f.write('\\n')\n",
    "    f.close()"
   ]
  },
  {
   "cell_type": "code",
   "execution_count": 25,
   "metadata": {},
   "outputs": [],
   "source": [
    "def print_string_to_csv_file2(string): #Prints string string to file output_file_string.cvs\n",
    "    f = open('string_22_lawah_Lawah_merah.csv', 'w')\n",
    "    a=string\n",
    "    for i in range(len(a)):\n",
    "        if i == 0:\n",
    "            f.write(str(a[i]))\n",
    "        else:\n",
    "            f.write(',' + str(a[i]))\n",
    "    f.close()"
   ]
  },
  {
   "cell_type": "code",
   "execution_count": 26,
   "metadata": {},
   "outputs": [],
   "source": [
    "n=2\n",
    "string_of_allowed_symbols=\"abcdefghijklmnopqrstuvwxyzABCDEFGHIJKLMNOPQRSTUVWXYZ\"\n",
    "file=\"Lawah-Lawah Merah.txt\"\n",
    "string=convert_file_to_string_v3(file,string_of_allowed_symbols)\n",
    "list_occ=combinations(string,n)[0]\n",
    "list_freq=combinations(string,n)[1]\n",
    "hamming_matrix=distance_matrix(list_occ)\n",
    "rescaled_hamming_matrix=prog_rescaled_hamming_matrix(hamming_matrix,list_freq)\n",
    "print_matrix_to_csv_file2(rescaled_hamming_matrix)\n",
    "print_string_to_csv_file2(list_freq)"
   ]
  },
  {
   "cell_type": "code",
   "execution_count": null,
   "metadata": {},
   "outputs": [],
   "source": []
  },
  {
   "cell_type": "code",
   "execution_count": 27,
   "metadata": {},
   "outputs": [],
   "source": [
    "def print_matrix_to_csv_file3(matrix): #Prints matrix matrix to file output_file_matrix.cvs; rows are separated by \\n's\n",
    "    f = open('hamming_matrix_32_lawah_Lawah_merah.csv', 'w')\n",
    "    a=matrix\n",
    "    for item in a:\n",
    "        for i in range(len(item)):\n",
    "            if i == 0:\n",
    "                f.write(str(item[i]))\n",
    "            else:\n",
    "                f.write(',' + str(item[i]))\n",
    "        f.write('\\n')\n",
    "    f.close()"
   ]
  },
  {
   "cell_type": "code",
   "execution_count": 28,
   "metadata": {},
   "outputs": [],
   "source": [
    "def print_string_to_csv_file3(string): #Prints string string to file output_file_string.cvs\n",
    "    f = open('string_32_lawah_Lawah_merah.csv', 'w')\n",
    "    a=string\n",
    "    for i in range(len(a)):\n",
    "        if i == 0:\n",
    "            f.write(str(a[i]))\n",
    "        else:\n",
    "            f.write(',' + str(a[i]))\n",
    "    f.close()"
   ]
  },
  {
   "cell_type": "code",
   "execution_count": 29,
   "metadata": {},
   "outputs": [],
   "source": [
    "n=3\n",
    "string_of_allowed_symbols=\"abcdefghijklmnopqrstuvwxyzABCDEFGHIJKLMNOPQRSTUVWXYZ\"\n",
    "file=\"Lawah-Lawah Merah.txt\"\n",
    "string=convert_file_to_string_v3(file,string_of_allowed_symbols)\n",
    "list_occ=combinations(string,n)[0]\n",
    "list_freq=combinations(string,n)[1]\n",
    "hamming_matrix=distance_matrix(list_occ)\n",
    "rescaled_hamming_matrix=prog_rescaled_hamming_matrix(hamming_matrix,list_freq)\n",
    "print_matrix_to_csv_file3(rescaled_hamming_matrix)\n",
    "print_string_to_csv_file3(list_freq)"
   ]
  },
  {
   "cell_type": "code",
   "execution_count": null,
   "metadata": {},
   "outputs": [],
   "source": []
  },
  {
   "cell_type": "code",
   "execution_count": null,
   "metadata": {},
   "outputs": [],
   "source": []
  },
  {
   "cell_type": "code",
   "execution_count": 30,
   "metadata": {},
   "outputs": [],
   "source": [
    "#Malaka"
   ]
  },
  {
   "cell_type": "code",
   "execution_count": 31,
   "metadata": {},
   "outputs": [],
   "source": [
    "def print_matrix_to_csv_file1(matrix): #Prints matrix matrix to file output_file_matrix.cvs; rows are separated by \\n's\n",
    "    f = open('hamming_matrix_11_malaka.csv', 'w')\n",
    "    a=matrix\n",
    "    for item in a:\n",
    "        for i in range(len(item)):\n",
    "            if i == 0:\n",
    "                f.write(str(item[i]))\n",
    "            else:\n",
    "                f.write(',' + str(item[i]))\n",
    "        f.write('\\n')\n",
    "    f.close()"
   ]
  },
  {
   "cell_type": "code",
   "execution_count": 32,
   "metadata": {},
   "outputs": [],
   "source": [
    "def print_string_to_csv_file1(string): #Prints string string to file output_file_string.cvs\n",
    "    f = open('string_11_malaka.csv', 'w')\n",
    "    a=string\n",
    "    for i in range(len(a)):\n",
    "        if i == 0:\n",
    "            f.write(str(a[i]))\n",
    "        else:\n",
    "            f.write(',' + str(a[i]))\n",
    "    f.close()"
   ]
  },
  {
   "cell_type": "code",
   "execution_count": 33,
   "metadata": {},
   "outputs": [],
   "source": [
    "n=1\n",
    "string_of_allowed_symbols=\"abcdefghijklmnopqrstuvwxyzABCDEFGHIJKLMNOPQRSTUVWXYZ\"\n",
    "file=\"Malaka.txt\"\n",
    "string=convert_file_to_string_v3(file,string_of_allowed_symbols)\n",
    "list_occ=combinations(string,n)[0]\n",
    "list_freq=combinations(string,n)[1]\n",
    "hamming_matrix=distance_matrix(list_occ)\n",
    "rescaled_hamming_matrix=prog_rescaled_hamming_matrix(hamming_matrix,list_freq)\n",
    "print_matrix_to_csv_file1(rescaled_hamming_matrix)\n",
    "print_string_to_csv_file1(list_freq)"
   ]
  },
  {
   "cell_type": "code",
   "execution_count": null,
   "metadata": {},
   "outputs": [],
   "source": []
  },
  {
   "cell_type": "code",
   "execution_count": 34,
   "metadata": {},
   "outputs": [],
   "source": [
    "def print_matrix_to_csv_file2(matrix): #Prints matrix matrix to file output_file_matrix.cvs; rows are separated by \\n's\n",
    "    f = open('hamming_matrix_22_malaka.csv', 'w')\n",
    "    a=matrix\n",
    "    for item in a:\n",
    "        for i in range(len(item)):\n",
    "            if i == 0:\n",
    "                f.write(str(item[i]))\n",
    "            else:\n",
    "                f.write(',' + str(item[i]))\n",
    "        f.write('\\n')\n",
    "    f.close()"
   ]
  },
  {
   "cell_type": "code",
   "execution_count": 35,
   "metadata": {},
   "outputs": [],
   "source": [
    "def print_string_to_csv_file2(string): #Prints string string to file output_file_string.cvs\n",
    "    f = open('string_22_malaka.csv', 'w')\n",
    "    a=string\n",
    "    for i in range(len(a)):\n",
    "        if i == 0:\n",
    "            f.write(str(a[i]))\n",
    "        else:\n",
    "            f.write(',' + str(a[i]))\n",
    "    f.close()"
   ]
  },
  {
   "cell_type": "code",
   "execution_count": 36,
   "metadata": {},
   "outputs": [],
   "source": [
    "n=2\n",
    "string_of_allowed_symbols=\"abcdefghijklmnopqrstuvwxyzABCDEFGHIJKLMNOPQRSTUVWXYZ\"\n",
    "file=\"Malaka.txt\"\n",
    "string=convert_file_to_string_v3(file,string_of_allowed_symbols)\n",
    "list_occ=combinations(string,n)[0]\n",
    "list_freq=combinations(string,n)[1]\n",
    "hamming_matrix=distance_matrix(list_occ)\n",
    "rescaled_hamming_matrix=prog_rescaled_hamming_matrix(hamming_matrix,list_freq)\n",
    "print_matrix_to_csv_file2(rescaled_hamming_matrix)\n",
    "print_string_to_csv_file2(list_freq)"
   ]
  },
  {
   "cell_type": "code",
   "execution_count": null,
   "metadata": {},
   "outputs": [],
   "source": []
  },
  {
   "cell_type": "code",
   "execution_count": 37,
   "metadata": {},
   "outputs": [],
   "source": [
    "def print_matrix_to_csv_file3(matrix): #Prints matrix matrix to file output_file_matrix.cvs; rows are separated by \\n's\n",
    "    f = open('hamming_matrix_32_malaka.csv', 'w')\n",
    "    a=matrix\n",
    "    for item in a:\n",
    "        for i in range(len(item)):\n",
    "            if i == 0:\n",
    "                f.write(str(item[i]))\n",
    "            else:\n",
    "                f.write(',' + str(item[i]))\n",
    "        f.write('\\n')\n",
    "    f.close()"
   ]
  },
  {
   "cell_type": "code",
   "execution_count": 38,
   "metadata": {},
   "outputs": [],
   "source": [
    "def print_string_to_csv_file3(string): #Prints string string to file output_file_string.cvs\n",
    "    f = open('string_32_malaka.csv', 'w')\n",
    "    a=string\n",
    "    for i in range(len(a)):\n",
    "        if i == 0:\n",
    "            f.write(str(a[i]))\n",
    "        else:\n",
    "            f.write(',' + str(a[i]))\n",
    "    f.close()"
   ]
  },
  {
   "cell_type": "code",
   "execution_count": 39,
   "metadata": {},
   "outputs": [],
   "source": [
    "n=3\n",
    "string_of_allowed_symbols=\"abcdefghijklmnopqrstuvwxyzABCDEFGHIJKLMNOPQRSTUVWXYZ\"\n",
    "file=\"Malaka.txt\"\n",
    "string=convert_file_to_string_v3(file,string_of_allowed_symbols)\n",
    "list_occ=combinations(string,n)[0]\n",
    "list_freq=combinations(string,n)[1]\n",
    "hamming_matrix=distance_matrix(list_occ)\n",
    "rescaled_hamming_matrix=prog_rescaled_hamming_matrix(hamming_matrix,list_freq)\n",
    "print_matrix_to_csv_file3(rescaled_hamming_matrix)\n",
    "print_string_to_csv_file3(list_freq)"
   ]
  },
  {
   "cell_type": "code",
   "execution_count": null,
   "metadata": {},
   "outputs": [],
   "source": []
  },
  {
   "cell_type": "code",
   "execution_count": null,
   "metadata": {},
   "outputs": [],
   "source": []
  },
  {
   "cell_type": "code",
   "execution_count": 40,
   "metadata": {},
   "outputs": [],
   "source": [
    "#Damhoeri"
   ]
  },
  {
   "cell_type": "code",
   "execution_count": 41,
   "metadata": {},
   "outputs": [],
   "source": [
    "def print_matrix_to_csv_file1(matrix): #Prints matrix matrix to file output_file_matrix.cvs; rows are separated by \\n's\n",
    "    f = open('hamming_matrix_11_damhoeri.csv', 'w')\n",
    "    a=matrix\n",
    "    for item in a:\n",
    "        for i in range(len(item)):\n",
    "            if i == 0:\n",
    "                f.write(str(item[i]))\n",
    "            else:\n",
    "                f.write(',' + str(item[i]))\n",
    "        f.write('\\n')\n",
    "    f.close()"
   ]
  },
  {
   "cell_type": "code",
   "execution_count": 42,
   "metadata": {},
   "outputs": [],
   "source": [
    "def print_string_to_csv_file1(string): #Prints string string to file output_file_string.cvs\n",
    "    f = open('string_11_damhoeri.csv', 'w')\n",
    "    a=string\n",
    "    for i in range(len(a)):\n",
    "        if i == 0:\n",
    "            f.write(str(a[i]))\n",
    "        else:\n",
    "            f.write(',' + str(a[i]))\n",
    "    f.close()"
   ]
  },
  {
   "cell_type": "code",
   "execution_count": 43,
   "metadata": {},
   "outputs": [],
   "source": [
    "n=1\n",
    "string_of_allowed_symbols=\"abcdefghijklmnopqrstuvwxyzABCDEFGHIJKLMNOPQRSTUVWXYZ\"\n",
    "file=\"Damhoeri.txt\"\n",
    "string=convert_file_to_string_v3(file,string_of_allowed_symbols)\n",
    "list_occ=combinations(string,n)[0]\n",
    "list_freq=combinations(string,n)[1]\n",
    "hamming_matrix=distance_matrix(list_occ)\n",
    "rescaled_hamming_matrix=prog_rescaled_hamming_matrix(hamming_matrix,list_freq)\n",
    "print_matrix_to_csv_file1(rescaled_hamming_matrix)\n",
    "print_string_to_csv_file1(list_freq)"
   ]
  },
  {
   "cell_type": "code",
   "execution_count": null,
   "metadata": {},
   "outputs": [],
   "source": []
  },
  {
   "cell_type": "code",
   "execution_count": 44,
   "metadata": {},
   "outputs": [],
   "source": [
    "def print_matrix_to_csv_file2(matrix): #Prints matrix matrix to file output_file_matrix.cvs; rows are separated by \\n's\n",
    "    f = open('hamming_matrix_22_damhoeri.csv', 'w')\n",
    "    a=matrix\n",
    "    for item in a:\n",
    "        for i in range(len(item)):\n",
    "            if i == 0:\n",
    "                f.write(str(item[i]))\n",
    "            else:\n",
    "                f.write(',' + str(item[i]))\n",
    "        f.write('\\n')\n",
    "    f.close()"
   ]
  },
  {
   "cell_type": "code",
   "execution_count": 45,
   "metadata": {},
   "outputs": [],
   "source": [
    "def print_string_to_csv_file2(string): #Prints string string to file output_file_string.cvs\n",
    "    f = open('string_22_damhoeri.csv', 'w')\n",
    "    a=string\n",
    "    for i in range(len(a)):\n",
    "        if i == 0:\n",
    "            f.write(str(a[i]))\n",
    "        else:\n",
    "            f.write(',' + str(a[i]))\n",
    "    f.close()"
   ]
  },
  {
   "cell_type": "code",
   "execution_count": 46,
   "metadata": {},
   "outputs": [],
   "source": [
    "n=2\n",
    "string_of_allowed_symbols=\"abcdefghijklmnopqrstuvwxyzABCDEFGHIJKLMNOPQRSTUVWXYZ\"\n",
    "file=\"Damhoeri.txt\"\n",
    "string=convert_file_to_string_v3(file,string_of_allowed_symbols)\n",
    "list_occ=combinations(string,n)[0]\n",
    "list_freq=combinations(string,n)[1]\n",
    "hamming_matrix=distance_matrix(list_occ)\n",
    "rescaled_hamming_matrix=prog_rescaled_hamming_matrix(hamming_matrix,list_freq)\n",
    "print_matrix_to_csv_file2(rescaled_hamming_matrix)\n",
    "print_string_to_csv_file2(list_freq)"
   ]
  },
  {
   "cell_type": "code",
   "execution_count": null,
   "metadata": {},
   "outputs": [],
   "source": []
  },
  {
   "cell_type": "code",
   "execution_count": 47,
   "metadata": {},
   "outputs": [],
   "source": [
    "def print_matrix_to_csv_file3(matrix): #Prints matrix matrix to file output_file_matrix.cvs; rows are separated by \\n's\n",
    "    f = open('hamming_matrix_32_damhoeri.csv', 'w')\n",
    "    a=matrix\n",
    "    for item in a:\n",
    "        for i in range(len(item)):\n",
    "            if i == 0:\n",
    "                f.write(str(item[i]))\n",
    "            else:\n",
    "                f.write(',' + str(item[i]))\n",
    "        f.write('\\n')\n",
    "    f.close()"
   ]
  },
  {
   "cell_type": "code",
   "execution_count": 48,
   "metadata": {},
   "outputs": [],
   "source": [
    "def print_string_to_csv_file3(string): #Prints string string to file output_file_string.cvs\n",
    "    f = open('string_32_damhoeri.csv', 'w')\n",
    "    a=string\n",
    "    for i in range(len(a)):\n",
    "        if i == 0:\n",
    "            f.write(str(a[i]))\n",
    "        else:\n",
    "            f.write(',' + str(a[i]))\n",
    "    f.close()"
   ]
  },
  {
   "cell_type": "code",
   "execution_count": 49,
   "metadata": {},
   "outputs": [],
   "source": [
    "n=3\n",
    "string_of_allowed_symbols=\"abcdefghijklmnopqrstuvwxyzABCDEFGHIJKLMNOPQRSTUVWXYZ\"\n",
    "file=\"Damhoeri.txt\"\n",
    "string=convert_file_to_string_v3(file,string_of_allowed_symbols)\n",
    "list_occ=combinations(string,n)[0]\n",
    "list_freq=combinations(string,n)[1]\n",
    "hamming_matrix=distance_matrix(list_occ)\n",
    "rescaled_hamming_matrix=prog_rescaled_hamming_matrix(hamming_matrix,list_freq)\n",
    "print_matrix_to_csv_file3(rescaled_hamming_matrix)\n",
    "print_string_to_csv_file3(list_freq)"
   ]
  },
  {
   "cell_type": "code",
   "execution_count": null,
   "metadata": {},
   "outputs": [],
   "source": []
  },
  {
   "cell_type": "code",
   "execution_count": null,
   "metadata": {},
   "outputs": [],
   "source": []
  },
  {
   "cell_type": "code",
   "execution_count": 69,
   "metadata": {},
   "outputs": [],
   "source": [
    "def convert_file_to_string_v4(filename,string_of_allowed_symbols): \n",
    "#Converts file filename to string, removes all non-alphabetic characters and make the\n",
    "#result lower case; string_of_allowed_symbols is the string of non-alphabetic symbols which are allowed, \n",
    "#e.g. if string_of_allowed_symbols=\"@#\", we allow @ and #\n",
    "    file = open(filename,mode='r', encoding = 'utf-8')\n",
    "    s = file.read()\n",
    "    file.close()\n",
    "    diacritics=[\"ä\",\"Ä\",\"ü\",\"Ü\",\"ß\",\"ö\",\"Ö\"]\n",
    "    replacement_sequences=[\"ae\",\"Ae\",\"ue\",\"Ue\",\"ss\",\"oe\",\"Oe\"]\n",
    "    for i in range(len(diacritics)):\n",
    "        s=s.replace(diacritics[i],replacement_sequences[i])\n",
    "    alphabet=\"abcdefghijklmnopqrstuvwxyzABCDEFGHIJKLMNOPQRSTUVWXYZ\"\n",
    "    remove_non_alpha = ''.join(c for c in s if c in alphabet or c in string_of_allowed_symbols)\n",
    "    lower_case=remove_non_alpha.lower()\n",
    "    return(lower_case)"
   ]
  },
  {
   "cell_type": "code",
   "execution_count": null,
   "metadata": {},
   "outputs": [],
   "source": []
  },
  {
   "cell_type": "code",
   "execution_count": null,
   "metadata": {},
   "outputs": [],
   "source": []
  },
  {
   "cell_type": "code",
   "execution_count": null,
   "metadata": {},
   "outputs": [],
   "source": [
    "#Mann - Zauberberb - New Transliteration"
   ]
  },
  {
   "cell_type": "code",
   "execution_count": 60,
   "metadata": {},
   "outputs": [],
   "source": [
    "def print_matrix_to_csv_file1(matrix): #Prints matrix matrix to file output_file_matrix.cvs; rows are separated by \\n's\n",
    "    f = open('hamming_matrix_11_mann_new.csv', 'w')\n",
    "    a=matrix\n",
    "    for item in a:\n",
    "        for i in range(len(item)):\n",
    "            if i == 0:\n",
    "                f.write(str(item[i]))\n",
    "            else:\n",
    "                f.write(',' + str(item[i]))\n",
    "        f.write('\\n')\n",
    "    f.close()"
   ]
  },
  {
   "cell_type": "code",
   "execution_count": 61,
   "metadata": {},
   "outputs": [],
   "source": [
    "def print_string_to_csv_file1(string): #Prints string string to file output_file_string.cvs\n",
    "    f = open('string_11_mann_new.csv', 'w')\n",
    "    a=string\n",
    "    for i in range(len(a)):\n",
    "        if i == 0:\n",
    "            f.write(str(a[i]))\n",
    "        else:\n",
    "            f.write(',' + str(a[i]))\n",
    "    f.close()"
   ]
  },
  {
   "cell_type": "code",
   "execution_count": 71,
   "metadata": {},
   "outputs": [],
   "source": [
    "n=1\n",
    "string_of_allowed_symbols=\"abcdefghijklmnopqrstuvwxyzABCDEFGHIJKLMNOPQRSTUVWXYZ\"\n",
    "file=\"Mann_new.txt\"\n",
    "string=convert_file_to_string_v4(file,string_of_allowed_symbols)\n",
    "list_occ=combinations(string,n)[0]\n",
    "list_freq=combinations(string,n)[1]\n",
    "hamming_matrix=distance_matrix(list_occ)\n",
    "rescaled_hamming_matrix=prog_rescaled_hamming_matrix(hamming_matrix,list_freq)\n",
    "print_matrix_to_csv_file1(rescaled_hamming_matrix)\n",
    "print_string_to_csv_file1(list_freq)"
   ]
  },
  {
   "cell_type": "code",
   "execution_count": null,
   "metadata": {},
   "outputs": [],
   "source": []
  },
  {
   "cell_type": "code",
   "execution_count": 72,
   "metadata": {},
   "outputs": [],
   "source": [
    "def print_matrix_to_csv_file2(matrix): #Prints matrix matrix to file output_file_matrix.cvs; rows are separated by \\n's\n",
    "    f = open('hamming_matrix_22_mann_new.csv', 'w')\n",
    "    a=matrix\n",
    "    for item in a:\n",
    "        for i in range(len(item)):\n",
    "            if i == 0:\n",
    "                f.write(str(item[i]))\n",
    "            else:\n",
    "                f.write(',' + str(item[i]))\n",
    "        f.write('\\n')\n",
    "    f.close()"
   ]
  },
  {
   "cell_type": "code",
   "execution_count": 73,
   "metadata": {},
   "outputs": [],
   "source": [
    "def print_string_to_csv_file2(string): #Prints string string to file output_file_string.cvs\n",
    "    f = open('string_22_mann_new.csv', 'w')\n",
    "    a=string\n",
    "    for i in range(len(a)):\n",
    "        if i == 0:\n",
    "            f.write(str(a[i]))\n",
    "        else:\n",
    "            f.write(',' + str(a[i]))\n",
    "    f.close()"
   ]
  },
  {
   "cell_type": "code",
   "execution_count": 74,
   "metadata": {},
   "outputs": [],
   "source": [
    "n=2\n",
    "string_of_allowed_symbols=\"abcdefghijklmnopqrstuvwxyzABCDEFGHIJKLMNOPQRSTUVWXYZ\"\n",
    "file=\"Mann_new.txt\"\n",
    "string=convert_file_to_string_v4(file,string_of_allowed_symbols)\n",
    "list_occ=combinations(string,n)[0]\n",
    "list_freq=combinations(string,n)[1]\n",
    "hamming_matrix=distance_matrix(list_occ)\n",
    "rescaled_hamming_matrix=prog_rescaled_hamming_matrix(hamming_matrix,list_freq)\n",
    "print_matrix_to_csv_file2(rescaled_hamming_matrix)\n",
    "print_string_to_csv_file2(list_freq)"
   ]
  },
  {
   "cell_type": "code",
   "execution_count": null,
   "metadata": {},
   "outputs": [],
   "source": []
  },
  {
   "cell_type": "code",
   "execution_count": 76,
   "metadata": {},
   "outputs": [],
   "source": [
    "def print_matrix_to_csv_file3(matrix): #Prints matrix matrix to file output_file_matrix.cvs; rows are separated by \\n's\n",
    "    f = open('hamming_matrix_32_mann_new.csv', 'w')\n",
    "    a=matrix\n",
    "    for item in a:\n",
    "        for i in range(len(item)):\n",
    "            if i == 0:\n",
    "                f.write(str(item[i]))\n",
    "            else:\n",
    "                f.write(',' + str(item[i]))\n",
    "        f.write('\\n')\n",
    "    f.close()"
   ]
  },
  {
   "cell_type": "code",
   "execution_count": 77,
   "metadata": {},
   "outputs": [],
   "source": [
    "def print_string_to_csv_file3(string): #Prints string string to file output_file_string.cvs\n",
    "    f = open('string_32_mann_new.csv', 'w')\n",
    "    a=string\n",
    "    for i in range(len(a)):\n",
    "        if i == 0:\n",
    "            f.write(str(a[i]))\n",
    "        else:\n",
    "            f.write(',' + str(a[i]))\n",
    "    f.close()"
   ]
  },
  {
   "cell_type": "code",
   "execution_count": 78,
   "metadata": {},
   "outputs": [],
   "source": [
    "n=3\n",
    "string_of_allowed_symbols=\"abcdefghijklmnopqrstuvwxyzABCDEFGHIJKLMNOPQRSTUVWXYZ\"\n",
    "file=\"Mann_new.txt\"\n",
    "string=convert_file_to_string_v4(file,string_of_allowed_symbols)\n",
    "list_occ=combinations(string,n)[0]\n",
    "list_freq=combinations(string,n)[1]\n",
    "hamming_matrix=distance_matrix(list_occ)\n",
    "rescaled_hamming_matrix=prog_rescaled_hamming_matrix(hamming_matrix,list_freq)\n",
    "print_matrix_to_csv_file3(rescaled_hamming_matrix)\n",
    "print_string_to_csv_file3(list_freq)"
   ]
  },
  {
   "cell_type": "code",
   "execution_count": null,
   "metadata": {},
   "outputs": [],
   "source": []
  },
  {
   "cell_type": "code",
   "execution_count": null,
   "metadata": {},
   "outputs": [],
   "source": []
  },
  {
   "cell_type": "code",
   "execution_count": 79,
   "metadata": {},
   "outputs": [],
   "source": [
    "#Goethe - \"The Sorrows of Young Werther\""
   ]
  },
  {
   "cell_type": "code",
   "execution_count": 80,
   "metadata": {},
   "outputs": [],
   "source": [
    "def print_matrix_to_csv_file1(matrix): #Prints matrix matrix to file output_file_matrix.cvs; rows are separated by \\n's\n",
    "    f = open('hamming_matrix_11_goethe.csv', 'w')\n",
    "    a=matrix\n",
    "    for item in a:\n",
    "        for i in range(len(item)):\n",
    "            if i == 0:\n",
    "                f.write(str(item[i]))\n",
    "            else:\n",
    "                f.write(',' + str(item[i]))\n",
    "        f.write('\\n')\n",
    "    f.close()"
   ]
  },
  {
   "cell_type": "code",
   "execution_count": 81,
   "metadata": {},
   "outputs": [],
   "source": [
    "def print_string_to_csv_file1(string): #Prints string string to file output_file_string.cvs\n",
    "    f = open('string_11_goethe.csv', 'w')\n",
    "    a=string\n",
    "    for i in range(len(a)):\n",
    "        if i == 0:\n",
    "            f.write(str(a[i]))\n",
    "        else:\n",
    "            f.write(',' + str(a[i]))\n",
    "    f.close()"
   ]
  },
  {
   "cell_type": "code",
   "execution_count": 82,
   "metadata": {},
   "outputs": [],
   "source": [
    "n=1\n",
    "string_of_allowed_symbols=\"abcdefghijklmnopqrstuvwxyzABCDEFGHIJKLMNOPQRSTUVWXYZ\"\n",
    "file=\"Goethe.txt\"\n",
    "string=convert_file_to_string_v4(file,string_of_allowed_symbols)\n",
    "list_occ=combinations(string,n)[0]\n",
    "list_freq=combinations(string,n)[1]\n",
    "hamming_matrix=distance_matrix(list_occ)\n",
    "rescaled_hamming_matrix=prog_rescaled_hamming_matrix(hamming_matrix,list_freq)\n",
    "print_matrix_to_csv_file1(rescaled_hamming_matrix)\n",
    "print_string_to_csv_file1(list_freq)"
   ]
  },
  {
   "cell_type": "code",
   "execution_count": null,
   "metadata": {},
   "outputs": [],
   "source": []
  },
  {
   "cell_type": "code",
   "execution_count": 83,
   "metadata": {},
   "outputs": [],
   "source": [
    "def print_matrix_to_csv_file2(matrix): #Prints matrix matrix to file output_file_matrix.cvs; rows are separated by \\n's\n",
    "    f = open('hamming_matrix_22_goethe.csv', 'w')\n",
    "    a=matrix\n",
    "    for item in a:\n",
    "        for i in range(len(item)):\n",
    "            if i == 0:\n",
    "                f.write(str(item[i]))\n",
    "            else:\n",
    "                f.write(',' + str(item[i]))\n",
    "        f.write('\\n')\n",
    "    f.close()"
   ]
  },
  {
   "cell_type": "code",
   "execution_count": 84,
   "metadata": {},
   "outputs": [],
   "source": [
    "def print_string_to_csv_file2(string): #Prints string string to file output_file_string.cvs\n",
    "    f = open('string_22_goethe.csv', 'w')\n",
    "    a=string\n",
    "    for i in range(len(a)):\n",
    "        if i == 0:\n",
    "            f.write(str(a[i]))\n",
    "        else:\n",
    "            f.write(',' + str(a[i]))\n",
    "    f.close()"
   ]
  },
  {
   "cell_type": "code",
   "execution_count": 85,
   "metadata": {},
   "outputs": [],
   "source": [
    "n=2\n",
    "string_of_allowed_symbols=\"abcdefghijklmnopqrstuvwxyzABCDEFGHIJKLMNOPQRSTUVWXYZ\"\n",
    "file=\"Goethe.txt\"\n",
    "string=convert_file_to_string_v4(file,string_of_allowed_symbols)\n",
    "list_occ=combinations(string,n)[0]\n",
    "list_freq=combinations(string,n)[1]\n",
    "hamming_matrix=distance_matrix(list_occ)\n",
    "rescaled_hamming_matrix=prog_rescaled_hamming_matrix(hamming_matrix,list_freq)\n",
    "print_matrix_to_csv_file2(rescaled_hamming_matrix)\n",
    "print_string_to_csv_file2(list_freq)"
   ]
  },
  {
   "cell_type": "code",
   "execution_count": null,
   "metadata": {},
   "outputs": [],
   "source": []
  },
  {
   "cell_type": "code",
   "execution_count": 86,
   "metadata": {},
   "outputs": [],
   "source": [
    "def print_matrix_to_csv_file3(matrix): #Prints matrix matrix to file output_file_matrix.cvs; rows are separated by \\n's\n",
    "    f = open('hamming_matrix_32_goethe.csv', 'w')\n",
    "    a=matrix\n",
    "    for item in a:\n",
    "        for i in range(len(item)):\n",
    "            if i == 0:\n",
    "                f.write(str(item[i]))\n",
    "            else:\n",
    "                f.write(',' + str(item[i]))\n",
    "        f.write('\\n')\n",
    "    f.close()"
   ]
  },
  {
   "cell_type": "code",
   "execution_count": 87,
   "metadata": {},
   "outputs": [],
   "source": [
    "def print_string_to_csv_file3(string): #Prints string string to file output_file_string.cvs\n",
    "    f = open('string_32_goethe.csv', 'w')\n",
    "    a=string\n",
    "    for i in range(len(a)):\n",
    "        if i == 0:\n",
    "            f.write(str(a[i]))\n",
    "        else:\n",
    "            f.write(',' + str(a[i]))\n",
    "    f.close()"
   ]
  },
  {
   "cell_type": "code",
   "execution_count": 88,
   "metadata": {},
   "outputs": [],
   "source": [
    "n=3\n",
    "string_of_allowed_symbols=\"abcdefghijklmnopqrstuvwxyzABCDEFGHIJKLMNOPQRSTUVWXYZ\"\n",
    "file=\"Goethe.txt\"\n",
    "string=convert_file_to_string_v4(file,string_of_allowed_symbols)\n",
    "list_occ=combinations(string,n)[0]\n",
    "list_freq=combinations(string,n)[1]\n",
    "hamming_matrix=distance_matrix(list_occ)\n",
    "rescaled_hamming_matrix=prog_rescaled_hamming_matrix(hamming_matrix,list_freq)\n",
    "print_matrix_to_csv_file3(rescaled_hamming_matrix)\n",
    "print_string_to_csv_file3(list_freq)"
   ]
  },
  {
   "cell_type": "code",
   "execution_count": null,
   "metadata": {},
   "outputs": [],
   "source": []
  },
  {
   "cell_type": "code",
   "execution_count": null,
   "metadata": {},
   "outputs": [],
   "source": []
  },
  {
   "cell_type": "code",
   "execution_count": 89,
   "metadata": {},
   "outputs": [],
   "source": [
    "#Hoffmann - \"The Life and Opinions of the Tomcat Murr\""
   ]
  },
  {
   "cell_type": "code",
   "execution_count": 90,
   "metadata": {},
   "outputs": [],
   "source": [
    "def print_matrix_to_csv_file1(matrix): #Prints matrix matrix to file output_file_matrix.cvs; rows are separated by \\n's\n",
    "    f = open('hamming_matrix_11_hoffmann.csv', 'w')\n",
    "    a=matrix\n",
    "    for item in a:\n",
    "        for i in range(len(item)):\n",
    "            if i == 0:\n",
    "                f.write(str(item[i]))\n",
    "            else:\n",
    "                f.write(',' + str(item[i]))\n",
    "        f.write('\\n')\n",
    "    f.close()"
   ]
  },
  {
   "cell_type": "code",
   "execution_count": 91,
   "metadata": {},
   "outputs": [],
   "source": [
    "def print_string_to_csv_file1(string): #Prints string string to file output_file_string.cvs\n",
    "    f = open('string_11_hoffmann.csv', 'w')\n",
    "    a=string\n",
    "    for i in range(len(a)):\n",
    "        if i == 0:\n",
    "            f.write(str(a[i]))\n",
    "        else:\n",
    "            f.write(',' + str(a[i]))\n",
    "    f.close()"
   ]
  },
  {
   "cell_type": "code",
   "execution_count": 92,
   "metadata": {},
   "outputs": [],
   "source": [
    "n=1\n",
    "string_of_allowed_symbols=\"abcdefghijklmnopqrstuvwxyzABCDEFGHIJKLMNOPQRSTUVWXYZ\"\n",
    "file=\"Hoffmann.txt\"\n",
    "string=convert_file_to_string_v4(file,string_of_allowed_symbols)\n",
    "list_occ=combinations(string,n)[0]\n",
    "list_freq=combinations(string,n)[1]\n",
    "hamming_matrix=distance_matrix(list_occ)\n",
    "rescaled_hamming_matrix=prog_rescaled_hamming_matrix(hamming_matrix,list_freq)\n",
    "print_matrix_to_csv_file1(rescaled_hamming_matrix)\n",
    "print_string_to_csv_file1(list_freq)"
   ]
  },
  {
   "cell_type": "code",
   "execution_count": null,
   "metadata": {},
   "outputs": [],
   "source": []
  },
  {
   "cell_type": "code",
   "execution_count": 93,
   "metadata": {},
   "outputs": [],
   "source": [
    "def print_matrix_to_csv_file2(matrix): #Prints matrix matrix to file output_file_matrix.cvs; rows are separated by \\n's\n",
    "    f = open('hamming_matrix_22_hoffmann.csv', 'w')\n",
    "    a=matrix\n",
    "    for item in a:\n",
    "        for i in range(len(item)):\n",
    "            if i == 0:\n",
    "                f.write(str(item[i]))\n",
    "            else:\n",
    "                f.write(',' + str(item[i]))\n",
    "        f.write('\\n')\n",
    "    f.close()"
   ]
  },
  {
   "cell_type": "code",
   "execution_count": 94,
   "metadata": {},
   "outputs": [],
   "source": [
    "def print_string_to_csv_file2(string): #Prints string string to file output_file_string.cvs\n",
    "    f = open('string_22_hoffmann.csv', 'w')\n",
    "    a=string\n",
    "    for i in range(len(a)):\n",
    "        if i == 0:\n",
    "            f.write(str(a[i]))\n",
    "        else:\n",
    "            f.write(',' + str(a[i]))\n",
    "    f.close()"
   ]
  },
  {
   "cell_type": "code",
   "execution_count": 95,
   "metadata": {},
   "outputs": [],
   "source": [
    "n=2\n",
    "string_of_allowed_symbols=\"abcdefghijklmnopqrstuvwxyzABCDEFGHIJKLMNOPQRSTUVWXYZ\"\n",
    "file=\"Hoffmann.txt\"\n",
    "string=convert_file_to_string_v4(file,string_of_allowed_symbols)\n",
    "list_occ=combinations(string,n)[0]\n",
    "list_freq=combinations(string,n)[1]\n",
    "hamming_matrix=distance_matrix(list_occ)\n",
    "rescaled_hamming_matrix=prog_rescaled_hamming_matrix(hamming_matrix,list_freq)\n",
    "print_matrix_to_csv_file2(rescaled_hamming_matrix)\n",
    "print_string_to_csv_file2(list_freq)"
   ]
  },
  {
   "cell_type": "code",
   "execution_count": null,
   "metadata": {},
   "outputs": [],
   "source": []
  },
  {
   "cell_type": "code",
   "execution_count": 96,
   "metadata": {},
   "outputs": [],
   "source": [
    "def print_matrix_to_csv_file3(matrix): #Prints matrix matrix to file output_file_matrix.cvs; rows are separated by \\n's\n",
    "    f = open('hamming_matrix_32_hoffmann.csv', 'w')\n",
    "    a=matrix\n",
    "    for item in a:\n",
    "        for i in range(len(item)):\n",
    "            if i == 0:\n",
    "                f.write(str(item[i]))\n",
    "            else:\n",
    "                f.write(',' + str(item[i]))\n",
    "        f.write('\\n')\n",
    "    f.close()"
   ]
  },
  {
   "cell_type": "code",
   "execution_count": 97,
   "metadata": {},
   "outputs": [],
   "source": [
    "def print_string_to_csv_file3(string): #Prints string string to file output_file_string.cvs\n",
    "    f = open('string_32_hoffmann.csv', 'w')\n",
    "    a=string\n",
    "    for i in range(len(a)):\n",
    "        if i == 0:\n",
    "            f.write(str(a[i]))\n",
    "        else:\n",
    "            f.write(',' + str(a[i]))\n",
    "    f.close()"
   ]
  },
  {
   "cell_type": "code",
   "execution_count": 98,
   "metadata": {},
   "outputs": [],
   "source": [
    "n=3\n",
    "string_of_allowed_symbols=\"abcdefghijklmnopqrstuvwxyzABCDEFGHIJKLMNOPQRSTUVWXYZ\"\n",
    "file=\"Hoffmann.txt\"\n",
    "string=convert_file_to_string_v4(file,string_of_allowed_symbols)\n",
    "list_occ=combinations(string,n)[0]\n",
    "list_freq=combinations(string,n)[1]\n",
    "hamming_matrix=distance_matrix(list_occ)\n",
    "rescaled_hamming_matrix=prog_rescaled_hamming_matrix(hamming_matrix,list_freq)\n",
    "print_matrix_to_csv_file3(rescaled_hamming_matrix)\n",
    "print_string_to_csv_file3(list_freq)"
   ]
  },
  {
   "cell_type": "code",
   "execution_count": null,
   "metadata": {},
   "outputs": [],
   "source": []
  },
  {
   "cell_type": "code",
   "execution_count": null,
   "metadata": {},
   "outputs": [],
   "source": []
  },
  {
   "cell_type": "code",
   "execution_count": 99,
   "metadata": {},
   "outputs": [],
   "source": [
    "#Nietzsche - \"The Birth of Tragedy\""
   ]
  },
  {
   "cell_type": "code",
   "execution_count": 100,
   "metadata": {},
   "outputs": [],
   "source": [
    "def print_matrix_to_csv_file1(matrix): #Prints matrix matrix to file output_file_matrix.cvs; rows are separated by \\n's\n",
    "    f = open('hamming_matrix_11_nietzsche.csv', 'w')\n",
    "    a=matrix\n",
    "    for item in a:\n",
    "        for i in range(len(item)):\n",
    "            if i == 0:\n",
    "                f.write(str(item[i]))\n",
    "            else:\n",
    "                f.write(',' + str(item[i]))\n",
    "        f.write('\\n')\n",
    "    f.close()"
   ]
  },
  {
   "cell_type": "code",
   "execution_count": 101,
   "metadata": {},
   "outputs": [],
   "source": [
    "def print_string_to_csv_file1(string): #Prints string string to file output_file_string.cvs\n",
    "    f = open('string_11_nietzsche.csv', 'w')\n",
    "    a=string\n",
    "    for i in range(len(a)):\n",
    "        if i == 0:\n",
    "            f.write(str(a[i]))\n",
    "        else:\n",
    "            f.write(',' + str(a[i]))\n",
    "    f.close()"
   ]
  },
  {
   "cell_type": "code",
   "execution_count": 102,
   "metadata": {},
   "outputs": [],
   "source": [
    "n=1\n",
    "string_of_allowed_symbols=\"abcdefghijklmnopqrstuvwxyzABCDEFGHIJKLMNOPQRSTUVWXYZ\"\n",
    "file=\"Nietzsche.txt\"\n",
    "string=convert_file_to_string_v4(file,string_of_allowed_symbols)\n",
    "list_occ=combinations(string,n)[0]\n",
    "list_freq=combinations(string,n)[1]\n",
    "hamming_matrix=distance_matrix(list_occ)\n",
    "rescaled_hamming_matrix=prog_rescaled_hamming_matrix(hamming_matrix,list_freq)\n",
    "print_matrix_to_csv_file1(rescaled_hamming_matrix)\n",
    "print_string_to_csv_file1(list_freq)"
   ]
  },
  {
   "cell_type": "code",
   "execution_count": null,
   "metadata": {},
   "outputs": [],
   "source": []
  },
  {
   "cell_type": "code",
   "execution_count": 103,
   "metadata": {},
   "outputs": [],
   "source": [
    "def print_matrix_to_csv_file2(matrix): #Prints matrix matrix to file output_file_matrix.cvs; rows are separated by \\n's\n",
    "    f = open('hamming_matrix_22_nietzsche.csv', 'w')\n",
    "    a=matrix\n",
    "    for item in a:\n",
    "        for i in range(len(item)):\n",
    "            if i == 0:\n",
    "                f.write(str(item[i]))\n",
    "            else:\n",
    "                f.write(',' + str(item[i]))\n",
    "        f.write('\\n')\n",
    "    f.close()"
   ]
  },
  {
   "cell_type": "code",
   "execution_count": 104,
   "metadata": {},
   "outputs": [],
   "source": [
    "def print_string_to_csv_file2(string): #Prints string string to file output_file_string.cvs\n",
    "    f = open('string_22_nietzsche.csv', 'w')\n",
    "    a=string\n",
    "    for i in range(len(a)):\n",
    "        if i == 0:\n",
    "            f.write(str(a[i]))\n",
    "        else:\n",
    "            f.write(',' + str(a[i]))\n",
    "    f.close()"
   ]
  },
  {
   "cell_type": "code",
   "execution_count": 105,
   "metadata": {},
   "outputs": [],
   "source": [
    "n=2\n",
    "string_of_allowed_symbols=\"abcdefghijklmnopqrstuvwxyzABCDEFGHIJKLMNOPQRSTUVWXYZ\"\n",
    "file=\"Nietzsche.txt\"\n",
    "string=convert_file_to_string_v4(file,string_of_allowed_symbols)\n",
    "list_occ=combinations(string,n)[0]\n",
    "list_freq=combinations(string,n)[1]\n",
    "hamming_matrix=distance_matrix(list_occ)\n",
    "rescaled_hamming_matrix=prog_rescaled_hamming_matrix(hamming_matrix,list_freq)\n",
    "print_matrix_to_csv_file2(rescaled_hamming_matrix)\n",
    "print_string_to_csv_file2(list_freq)"
   ]
  },
  {
   "cell_type": "code",
   "execution_count": null,
   "metadata": {},
   "outputs": [],
   "source": []
  },
  {
   "cell_type": "code",
   "execution_count": 106,
   "metadata": {},
   "outputs": [],
   "source": [
    "def print_matrix_to_csv_file3(matrix): #Prints matrix matrix to file output_file_matrix.cvs; rows are separated by \\n's\n",
    "    f = open('hamming_matrix_32_nietzsche.csv', 'w')\n",
    "    a=matrix\n",
    "    for item in a:\n",
    "        for i in range(len(item)):\n",
    "            if i == 0:\n",
    "                f.write(str(item[i]))\n",
    "            else:\n",
    "                f.write(',' + str(item[i]))\n",
    "        f.write('\\n')\n",
    "    f.close()"
   ]
  },
  {
   "cell_type": "code",
   "execution_count": 107,
   "metadata": {},
   "outputs": [],
   "source": [
    "def print_string_to_csv_file3(string): #Prints string string to file output_file_string.cvs\n",
    "    f = open('string_32_nietzsche.csv', 'w')\n",
    "    a=string\n",
    "    for i in range(len(a)):\n",
    "        if i == 0:\n",
    "            f.write(str(a[i]))\n",
    "        else:\n",
    "            f.write(',' + str(a[i]))\n",
    "    f.close()"
   ]
  },
  {
   "cell_type": "code",
   "execution_count": 108,
   "metadata": {},
   "outputs": [],
   "source": [
    "n=3\n",
    "string_of_allowed_symbols=\"abcdefghijklmnopqrstuvwxyzABCDEFGHIJKLMNOPQRSTUVWXYZ\"\n",
    "file=\"Nietzsche.txt\"\n",
    "string=convert_file_to_string_v4(file,string_of_allowed_symbols)\n",
    "list_occ=combinations(string,n)[0]\n",
    "list_freq=combinations(string,n)[1]\n",
    "hamming_matrix=distance_matrix(list_occ)\n",
    "rescaled_hamming_matrix=prog_rescaled_hamming_matrix(hamming_matrix,list_freq)\n",
    "print_matrix_to_csv_file3(rescaled_hamming_matrix)\n",
    "print_string_to_csv_file3(list_freq)"
   ]
  },
  {
   "cell_type": "code",
   "execution_count": null,
   "metadata": {},
   "outputs": [],
   "source": []
  },
  {
   "cell_type": "code",
   "execution_count": null,
   "metadata": {},
   "outputs": [],
   "source": []
  },
  {
   "cell_type": "code",
   "execution_count": 109,
   "metadata": {},
   "outputs": [],
   "source": [
    "#Böll - \"The Lost Honour of Katharina Blum\""
   ]
  },
  {
   "cell_type": "code",
   "execution_count": 110,
   "metadata": {},
   "outputs": [],
   "source": [
    "def print_matrix_to_csv_file1(matrix): #Prints matrix matrix to file output_file_matrix.cvs; rows are separated by \\n's\n",
    "    f = open('hamming_matrix_11_böll.csv', 'w')\n",
    "    a=matrix\n",
    "    for item in a:\n",
    "        for i in range(len(item)):\n",
    "            if i == 0:\n",
    "                f.write(str(item[i]))\n",
    "            else:\n",
    "                f.write(',' + str(item[i]))\n",
    "        f.write('\\n')\n",
    "    f.close()"
   ]
  },
  {
   "cell_type": "code",
   "execution_count": 111,
   "metadata": {},
   "outputs": [],
   "source": [
    "def print_string_to_csv_file1(string): #Prints string string to file output_file_string.cvs\n",
    "    f = open('string_11_böll.csv', 'w')\n",
    "    a=string\n",
    "    for i in range(len(a)):\n",
    "        if i == 0:\n",
    "            f.write(str(a[i]))\n",
    "        else:\n",
    "            f.write(',' + str(a[i]))\n",
    "    f.close()"
   ]
  },
  {
   "cell_type": "code",
   "execution_count": 112,
   "metadata": {},
   "outputs": [],
   "source": [
    "n=1\n",
    "string_of_allowed_symbols=\"abcdefghijklmnopqrstuvwxyzABCDEFGHIJKLMNOPQRSTUVWXYZ\"\n",
    "file=\"Böll.txt\"\n",
    "string=convert_file_to_string_v4(file,string_of_allowed_symbols)\n",
    "list_occ=combinations(string,n)[0]\n",
    "list_freq=combinations(string,n)[1]\n",
    "hamming_matrix=distance_matrix(list_occ)\n",
    "rescaled_hamming_matrix=prog_rescaled_hamming_matrix(hamming_matrix,list_freq)\n",
    "print_matrix_to_csv_file1(rescaled_hamming_matrix)\n",
    "print_string_to_csv_file1(list_freq)"
   ]
  },
  {
   "cell_type": "code",
   "execution_count": null,
   "metadata": {},
   "outputs": [],
   "source": []
  },
  {
   "cell_type": "code",
   "execution_count": 113,
   "metadata": {},
   "outputs": [],
   "source": [
    "def print_matrix_to_csv_file2(matrix): #Prints matrix matrix to file output_file_matrix.cvs; rows are separated by \\n's\n",
    "    f = open('hamming_matrix_22_böll.csv', 'w')\n",
    "    a=matrix\n",
    "    for item in a:\n",
    "        for i in range(len(item)):\n",
    "            if i == 0:\n",
    "                f.write(str(item[i]))\n",
    "            else:\n",
    "                f.write(',' + str(item[i]))\n",
    "        f.write('\\n')\n",
    "    f.close()"
   ]
  },
  {
   "cell_type": "code",
   "execution_count": 114,
   "metadata": {},
   "outputs": [],
   "source": [
    "def print_string_to_csv_file2(string): #Prints string string to file output_file_string.cvs\n",
    "    f = open('string_22_böll.csv', 'w')\n",
    "    a=string\n",
    "    for i in range(len(a)):\n",
    "        if i == 0:\n",
    "            f.write(str(a[i]))\n",
    "        else:\n",
    "            f.write(',' + str(a[i]))\n",
    "    f.close()"
   ]
  },
  {
   "cell_type": "code",
   "execution_count": 115,
   "metadata": {},
   "outputs": [],
   "source": [
    "n=2\n",
    "string_of_allowed_symbols=\"abcdefghijklmnopqrstuvwxyzABCDEFGHIJKLMNOPQRSTUVWXYZ\"\n",
    "file=\"Böll.txt\"\n",
    "string=convert_file_to_string_v4(file,string_of_allowed_symbols)\n",
    "list_occ=combinations(string,n)[0]\n",
    "list_freq=combinations(string,n)[1]\n",
    "hamming_matrix=distance_matrix(list_occ)\n",
    "rescaled_hamming_matrix=prog_rescaled_hamming_matrix(hamming_matrix,list_freq)\n",
    "print_matrix_to_csv_file2(rescaled_hamming_matrix)\n",
    "print_string_to_csv_file2(list_freq)"
   ]
  },
  {
   "cell_type": "code",
   "execution_count": null,
   "metadata": {},
   "outputs": [],
   "source": []
  },
  {
   "cell_type": "code",
   "execution_count": 116,
   "metadata": {},
   "outputs": [],
   "source": [
    "def print_matrix_to_csv_file3(matrix): #Prints matrix matrix to file output_file_matrix.cvs; rows are separated by \\n's\n",
    "    f = open('hamming_matrix_32_böll.csv', 'w')\n",
    "    a=matrix\n",
    "    for item in a:\n",
    "        for i in range(len(item)):\n",
    "            if i == 0:\n",
    "                f.write(str(item[i]))\n",
    "            else:\n",
    "                f.write(',' + str(item[i]))\n",
    "        f.write('\\n')\n",
    "    f.close()"
   ]
  },
  {
   "cell_type": "code",
   "execution_count": 117,
   "metadata": {},
   "outputs": [],
   "source": [
    "def print_string_to_csv_file3(string): #Prints string string to file output_file_string.cvs\n",
    "    f = open('string_32_böll.csv', 'w')\n",
    "    a=string\n",
    "    for i in range(len(a)):\n",
    "        if i == 0:\n",
    "            f.write(str(a[i]))\n",
    "        else:\n",
    "            f.write(',' + str(a[i]))\n",
    "    f.close()"
   ]
  },
  {
   "cell_type": "code",
   "execution_count": 118,
   "metadata": {},
   "outputs": [],
   "source": [
    "n=3\n",
    "string_of_allowed_symbols=\"abcdefghijklmnopqrstuvwxyzABCDEFGHIJKLMNOPQRSTUVWXYZ\"\n",
    "file=\"Böll.txt\"\n",
    "string=convert_file_to_string_v4(file,string_of_allowed_symbols)\n",
    "list_occ=combinations(string,n)[0]\n",
    "list_freq=combinations(string,n)[1]\n",
    "hamming_matrix=distance_matrix(list_occ)\n",
    "rescaled_hamming_matrix=prog_rescaled_hamming_matrix(hamming_matrix,list_freq)\n",
    "print_matrix_to_csv_file3(rescaled_hamming_matrix)\n",
    "print_string_to_csv_file3(list_freq)"
   ]
  },
  {
   "cell_type": "code",
   "execution_count": null,
   "metadata": {},
   "outputs": [],
   "source": []
  },
  {
   "cell_type": "code",
   "execution_count": null,
   "metadata": {},
   "outputs": [],
   "source": []
  },
  {
   "cell_type": "code",
   "execution_count": 120,
   "metadata": {},
   "outputs": [],
   "source": [
    "#Radishchev_26"
   ]
  },
  {
   "cell_type": "code",
   "execution_count": 121,
   "metadata": {},
   "outputs": [],
   "source": [
    "def print_matrix_to_csv_file1(matrix): #Prints matrix matrix to file output_file_matrix.cvs; rows are separated by \\n's\n",
    "    f = open('hamming_matrix_11_radishchev_26.csv', 'w')\n",
    "    a=matrix\n",
    "    for item in a:\n",
    "        for i in range(len(item)):\n",
    "            if i == 0:\n",
    "                f.write(str(item[i]))\n",
    "            else:\n",
    "                f.write(',' + str(item[i]))\n",
    "        f.write('\\n')\n",
    "    f.close()"
   ]
  },
  {
   "cell_type": "code",
   "execution_count": 122,
   "metadata": {},
   "outputs": [],
   "source": [
    "def print_string_to_csv_file1(string): #Prints string string to file output_file_string.cvs\n",
    "    f = open('string_11_radishchev_26.csv', 'w')\n",
    "    a=string\n",
    "    for i in range(len(a)):\n",
    "        if i == 0:\n",
    "            f.write(str(a[i]))\n",
    "        else:\n",
    "            f.write(',' + str(a[i]))\n",
    "    f.close()"
   ]
  },
  {
   "cell_type": "code",
   "execution_count": 123,
   "metadata": {},
   "outputs": [],
   "source": [
    "n=1\n",
    "string_of_allowed_symbols=\"abcdefghijklmnopqrstuvwxyzABCDEFGHIJKLMNOPQRSTUVWXYZ\"\n",
    "file=\"Radishchev_26.txt\"\n",
    "string=convert_file_to_string_v3(file,string_of_allowed_symbols)\n",
    "list_occ=combinations(string,n)[0]\n",
    "list_freq=combinations(string,n)[1]\n",
    "hamming_matrix=distance_matrix(list_occ)\n",
    "rescaled_hamming_matrix=prog_rescaled_hamming_matrix(hamming_matrix,list_freq)\n",
    "print_matrix_to_csv_file1(rescaled_hamming_matrix)\n",
    "print_string_to_csv_file1(list_freq)"
   ]
  },
  {
   "cell_type": "code",
   "execution_count": null,
   "metadata": {},
   "outputs": [],
   "source": []
  },
  {
   "cell_type": "code",
   "execution_count": 124,
   "metadata": {},
   "outputs": [],
   "source": [
    "def print_matrix_to_csv_file2(matrix): #Prints matrix matrix to file output_file_matrix.cvs; rows are separated by \\n's\n",
    "    f = open('hamming_matrix_22_radishchev_26.csv', 'w')\n",
    "    a=matrix\n",
    "    for item in a:\n",
    "        for i in range(len(item)):\n",
    "            if i == 0:\n",
    "                f.write(str(item[i]))\n",
    "            else:\n",
    "                f.write(',' + str(item[i]))\n",
    "        f.write('\\n')\n",
    "    f.close()"
   ]
  },
  {
   "cell_type": "code",
   "execution_count": 125,
   "metadata": {},
   "outputs": [],
   "source": [
    "def print_string_to_csv_file2(string): #Prints string string to file output_file_string.cvs\n",
    "    f = open('string_22_radishchev_26.csv', 'w')\n",
    "    a=string\n",
    "    for i in range(len(a)):\n",
    "        if i == 0:\n",
    "            f.write(str(a[i]))\n",
    "        else:\n",
    "            f.write(',' + str(a[i]))\n",
    "    f.close()"
   ]
  },
  {
   "cell_type": "code",
   "execution_count": 126,
   "metadata": {},
   "outputs": [],
   "source": [
    "n=2\n",
    "string_of_allowed_symbols=\"abcdefghijklmnopqrstuvwxyzABCDEFGHIJKLMNOPQRSTUVWXYZ\"\n",
    "file=\"Radishchev_26.txt\"\n",
    "string=convert_file_to_string_v3(file,string_of_allowed_symbols)\n",
    "list_occ=combinations(string,n)[0]\n",
    "list_freq=combinations(string,n)[1]\n",
    "hamming_matrix=distance_matrix(list_occ)\n",
    "rescaled_hamming_matrix=prog_rescaled_hamming_matrix(hamming_matrix,list_freq)\n",
    "print_matrix_to_csv_file2(rescaled_hamming_matrix)\n",
    "print_string_to_csv_file2(list_freq)"
   ]
  },
  {
   "cell_type": "code",
   "execution_count": null,
   "metadata": {},
   "outputs": [],
   "source": []
  },
  {
   "cell_type": "code",
   "execution_count": 127,
   "metadata": {},
   "outputs": [],
   "source": [
    "def print_matrix_to_csv_file3(matrix): #Prints matrix matrix to file output_file_matrix.cvs; rows are separated by \\n's\n",
    "    f = open('hamming_matrix_32_radishchev_26.csv', 'w')\n",
    "    a=matrix\n",
    "    for item in a:\n",
    "        for i in range(len(item)):\n",
    "            if i == 0:\n",
    "                f.write(str(item[i]))\n",
    "            else:\n",
    "                f.write(',' + str(item[i]))\n",
    "        f.write('\\n')\n",
    "    f.close()"
   ]
  },
  {
   "cell_type": "code",
   "execution_count": 128,
   "metadata": {},
   "outputs": [],
   "source": [
    "def print_string_to_csv_file3(string): #Prints string string to file output_file_string.cvs\n",
    "    f = open('string_32_radishchev_26.csv', 'w')\n",
    "    a=string\n",
    "    for i in range(len(a)):\n",
    "        if i == 0:\n",
    "            f.write(str(a[i]))\n",
    "        else:\n",
    "            f.write(',' + str(a[i]))\n",
    "    f.close()"
   ]
  },
  {
   "cell_type": "code",
   "execution_count": 129,
   "metadata": {},
   "outputs": [],
   "source": [
    "n=3\n",
    "string_of_allowed_symbols=\"abcdefghijklmnopqrstuvwxyzABCDEFGHIJKLMNOPQRSTUVWXYZ\"\n",
    "file=\"Radishchev_26.txt\"\n",
    "string=convert_file_to_string_v3(file,string_of_allowed_symbols)\n",
    "list_occ=combinations(string,n)[0]\n",
    "list_freq=combinations(string,n)[1]\n",
    "hamming_matrix=distance_matrix(list_occ)\n",
    "rescaled_hamming_matrix=prog_rescaled_hamming_matrix(hamming_matrix,list_freq)\n",
    "print_matrix_to_csv_file3(rescaled_hamming_matrix)\n",
    "print_string_to_csv_file3(list_freq)"
   ]
  },
  {
   "cell_type": "code",
   "execution_count": null,
   "metadata": {},
   "outputs": [],
   "source": []
  },
  {
   "cell_type": "code",
   "execution_count": null,
   "metadata": {},
   "outputs": [],
   "source": []
  },
  {
   "cell_type": "code",
   "execution_count": 130,
   "metadata": {},
   "outputs": [],
   "source": [
    "#Dostoevsky_26"
   ]
  },
  {
   "cell_type": "code",
   "execution_count": 131,
   "metadata": {},
   "outputs": [],
   "source": [
    "def print_matrix_to_csv_file1(matrix): #Prints matrix matrix to file output_file_matrix.cvs; rows are separated by \\n's\n",
    "    f = open('hamming_matrix_11_dostoevsky_26.csv', 'w')\n",
    "    a=matrix\n",
    "    for item in a:\n",
    "        for i in range(len(item)):\n",
    "            if i == 0:\n",
    "                f.write(str(item[i]))\n",
    "            else:\n",
    "                f.write(',' + str(item[i]))\n",
    "        f.write('\\n')\n",
    "    f.close()"
   ]
  },
  {
   "cell_type": "code",
   "execution_count": 132,
   "metadata": {},
   "outputs": [],
   "source": [
    "def print_string_to_csv_file1(string): #Prints string string to file output_file_string.cvs\n",
    "    f = open('string_11_dostoevsky_26.csv', 'w')\n",
    "    a=string\n",
    "    for i in range(len(a)):\n",
    "        if i == 0:\n",
    "            f.write(str(a[i]))\n",
    "        else:\n",
    "            f.write(',' + str(a[i]))\n",
    "    f.close()"
   ]
  },
  {
   "cell_type": "code",
   "execution_count": 133,
   "metadata": {},
   "outputs": [],
   "source": [
    "n=1\n",
    "string_of_allowed_symbols=\"abcdefghijklmnopqrstuvwxyzABCDEFGHIJKLMNOPQRSTUVWXYZ\"\n",
    "file=\"Dostoevsky_26.txt\"\n",
    "string=convert_file_to_string_v3(file,string_of_allowed_symbols)\n",
    "list_occ=combinations(string,n)[0]\n",
    "list_freq=combinations(string,n)[1]\n",
    "hamming_matrix=distance_matrix(list_occ)\n",
    "rescaled_hamming_matrix=prog_rescaled_hamming_matrix(hamming_matrix,list_freq)\n",
    "print_matrix_to_csv_file1(rescaled_hamming_matrix)\n",
    "print_string_to_csv_file1(list_freq)"
   ]
  },
  {
   "cell_type": "code",
   "execution_count": null,
   "metadata": {},
   "outputs": [],
   "source": []
  },
  {
   "cell_type": "code",
   "execution_count": 134,
   "metadata": {},
   "outputs": [],
   "source": [
    "def print_matrix_to_csv_file2(matrix): #Prints matrix matrix to file output_file_matrix.cvs; rows are separated by \\n's\n",
    "    f = open('hamming_matrix_22_dostoevsky_26.csv', 'w')\n",
    "    a=matrix\n",
    "    for item in a:\n",
    "        for i in range(len(item)):\n",
    "            if i == 0:\n",
    "                f.write(str(item[i]))\n",
    "            else:\n",
    "                f.write(',' + str(item[i]))\n",
    "        f.write('\\n')\n",
    "    f.close()"
   ]
  },
  {
   "cell_type": "code",
   "execution_count": 135,
   "metadata": {},
   "outputs": [],
   "source": [
    "def print_string_to_csv_file2(string): #Prints string string to file output_file_string.cvs\n",
    "    f = open('string_22_dostoevsky_26.csv', 'w')\n",
    "    a=string\n",
    "    for i in range(len(a)):\n",
    "        if i == 0:\n",
    "            f.write(str(a[i]))\n",
    "        else:\n",
    "            f.write(',' + str(a[i]))\n",
    "    f.close()"
   ]
  },
  {
   "cell_type": "code",
   "execution_count": 136,
   "metadata": {},
   "outputs": [],
   "source": [
    "n=2\n",
    "string_of_allowed_symbols=\"abcdefghijklmnopqrstuvwxyzABCDEFGHIJKLMNOPQRSTUVWXYZ\"\n",
    "file=\"Dostoevsky_26.txt\"\n",
    "string=convert_file_to_string_v3(file,string_of_allowed_symbols)\n",
    "list_occ=combinations(string,n)[0]\n",
    "list_freq=combinations(string,n)[1]\n",
    "hamming_matrix=distance_matrix(list_occ)\n",
    "rescaled_hamming_matrix=prog_rescaled_hamming_matrix(hamming_matrix,list_freq)\n",
    "print_matrix_to_csv_file2(rescaled_hamming_matrix)\n",
    "print_string_to_csv_file2(list_freq)"
   ]
  },
  {
   "cell_type": "code",
   "execution_count": null,
   "metadata": {},
   "outputs": [],
   "source": []
  },
  {
   "cell_type": "code",
   "execution_count": 137,
   "metadata": {},
   "outputs": [],
   "source": [
    "def print_matrix_to_csv_file3(matrix): #Prints matrix matrix to file output_file_matrix.cvs; rows are separated by \\n's\n",
    "    f = open('hamming_matrix_32_dostoevsky_26.csv', 'w')\n",
    "    a=matrix\n",
    "    for item in a:\n",
    "        for i in range(len(item)):\n",
    "            if i == 0:\n",
    "                f.write(str(item[i]))\n",
    "            else:\n",
    "                f.write(',' + str(item[i]))\n",
    "        f.write('\\n')\n",
    "    f.close()"
   ]
  },
  {
   "cell_type": "code",
   "execution_count": 138,
   "metadata": {},
   "outputs": [],
   "source": [
    "def print_string_to_csv_file3(string): #Prints string string to file output_file_string.cvs\n",
    "    f = open('string_32_dostoevsky_26.csv', 'w')\n",
    "    a=string\n",
    "    for i in range(len(a)):\n",
    "        if i == 0:\n",
    "            f.write(str(a[i]))\n",
    "        else:\n",
    "            f.write(',' + str(a[i]))\n",
    "    f.close()"
   ]
  },
  {
   "cell_type": "code",
   "execution_count": 139,
   "metadata": {},
   "outputs": [],
   "source": [
    "n=3\n",
    "string_of_allowed_symbols=\"abcdefghijklmnopqrstuvwxyzABCDEFGHIJKLMNOPQRSTUVWXYZ\"\n",
    "file=\"Dostoevsky_26.txt\"\n",
    "string=convert_file_to_string_v3(file,string_of_allowed_symbols)\n",
    "list_occ=combinations(string,n)[0]\n",
    "list_freq=combinations(string,n)[1]\n",
    "hamming_matrix=distance_matrix(list_occ)\n",
    "rescaled_hamming_matrix=prog_rescaled_hamming_matrix(hamming_matrix,list_freq)\n",
    "print_matrix_to_csv_file3(rescaled_hamming_matrix)\n",
    "print_string_to_csv_file3(list_freq)"
   ]
  },
  {
   "cell_type": "code",
   "execution_count": null,
   "metadata": {},
   "outputs": [],
   "source": []
  },
  {
   "cell_type": "code",
   "execution_count": null,
   "metadata": {},
   "outputs": [],
   "source": []
  },
  {
   "cell_type": "code",
   "execution_count": 140,
   "metadata": {},
   "outputs": [],
   "source": [
    "#Tolstoy_26"
   ]
  },
  {
   "cell_type": "code",
   "execution_count": 141,
   "metadata": {},
   "outputs": [],
   "source": [
    "def print_matrix_to_csv_file1(matrix): #Prints matrix matrix to file output_file_matrix.cvs; rows are separated by \\n's\n",
    "    f = open('hamming_matrix_11_tolstoy_26.csv', 'w')\n",
    "    a=matrix\n",
    "    for item in a:\n",
    "        for i in range(len(item)):\n",
    "            if i == 0:\n",
    "                f.write(str(item[i]))\n",
    "            else:\n",
    "                f.write(',' + str(item[i]))\n",
    "        f.write('\\n')\n",
    "    f.close()"
   ]
  },
  {
   "cell_type": "code",
   "execution_count": 142,
   "metadata": {},
   "outputs": [],
   "source": [
    "def print_string_to_csv_file1(string): #Prints string string to file output_file_string.cvs\n",
    "    f = open('string_11_tolstoy_26.csv', 'w')\n",
    "    a=string\n",
    "    for i in range(len(a)):\n",
    "        if i == 0:\n",
    "            f.write(str(a[i]))\n",
    "        else:\n",
    "            f.write(',' + str(a[i]))\n",
    "    f.close()"
   ]
  },
  {
   "cell_type": "code",
   "execution_count": 143,
   "metadata": {},
   "outputs": [],
   "source": [
    "n=1\n",
    "string_of_allowed_symbols=\"abcdefghijklmnopqrstuvwxyzABCDEFGHIJKLMNOPQRSTUVWXYZ\"\n",
    "file=\"Tolstoy_26.txt\"\n",
    "string=convert_file_to_string_v3(file,string_of_allowed_symbols)\n",
    "list_occ=combinations(string,n)[0]\n",
    "list_freq=combinations(string,n)[1]\n",
    "hamming_matrix=distance_matrix(list_occ)\n",
    "rescaled_hamming_matrix=prog_rescaled_hamming_matrix(hamming_matrix,list_freq)\n",
    "print_matrix_to_csv_file1(rescaled_hamming_matrix)\n",
    "print_string_to_csv_file1(list_freq)"
   ]
  },
  {
   "cell_type": "code",
   "execution_count": null,
   "metadata": {},
   "outputs": [],
   "source": []
  },
  {
   "cell_type": "code",
   "execution_count": 144,
   "metadata": {},
   "outputs": [],
   "source": [
    "def print_matrix_to_csv_file2(matrix): #Prints matrix matrix to file output_file_matrix.cvs; rows are separated by \\n's\n",
    "    f = open('hamming_matrix_22_tolstoy_26.csv', 'w')\n",
    "    a=matrix\n",
    "    for item in a:\n",
    "        for i in range(len(item)):\n",
    "            if i == 0:\n",
    "                f.write(str(item[i]))\n",
    "            else:\n",
    "                f.write(',' + str(item[i]))\n",
    "        f.write('\\n')\n",
    "    f.close()"
   ]
  },
  {
   "cell_type": "code",
   "execution_count": 145,
   "metadata": {},
   "outputs": [],
   "source": [
    "def print_string_to_csv_file2(string): #Prints string string to file output_file_string.cvs\n",
    "    f = open('string_22_tolstoy_26.csv', 'w')\n",
    "    a=string\n",
    "    for i in range(len(a)):\n",
    "        if i == 0:\n",
    "            f.write(str(a[i]))\n",
    "        else:\n",
    "            f.write(',' + str(a[i]))\n",
    "    f.close()"
   ]
  },
  {
   "cell_type": "code",
   "execution_count": 146,
   "metadata": {},
   "outputs": [],
   "source": [
    "n=2\n",
    "string_of_allowed_symbols=\"abcdefghijklmnopqrstuvwxyzABCDEFGHIJKLMNOPQRSTUVWXYZ\"\n",
    "file=\"Tolstoy_26.txt\"\n",
    "string=convert_file_to_string_v3(file,string_of_allowed_symbols)\n",
    "list_occ=combinations(string,n)[0]\n",
    "list_freq=combinations(string,n)[1]\n",
    "hamming_matrix=distance_matrix(list_occ)\n",
    "rescaled_hamming_matrix=prog_rescaled_hamming_matrix(hamming_matrix,list_freq)\n",
    "print_matrix_to_csv_file2(rescaled_hamming_matrix)\n",
    "print_string_to_csv_file2(list_freq)"
   ]
  },
  {
   "cell_type": "code",
   "execution_count": null,
   "metadata": {},
   "outputs": [],
   "source": []
  },
  {
   "cell_type": "code",
   "execution_count": 147,
   "metadata": {},
   "outputs": [],
   "source": [
    "def print_matrix_to_csv_file3(matrix): #Prints matrix matrix to file output_file_matrix.cvs; rows are separated by \\n's\n",
    "    f = open('hamming_matrix_32_tolstoy_26.csv', 'w')\n",
    "    a=matrix\n",
    "    for item in a:\n",
    "        for i in range(len(item)):\n",
    "            if i == 0:\n",
    "                f.write(str(item[i]))\n",
    "            else:\n",
    "                f.write(',' + str(item[i]))\n",
    "        f.write('\\n')\n",
    "    f.close()"
   ]
  },
  {
   "cell_type": "code",
   "execution_count": 148,
   "metadata": {},
   "outputs": [],
   "source": [
    "def print_string_to_csv_file3(string): #Prints string string to file output_file_string.cvs\n",
    "    f = open('string_32_tolstoy_26.csv', 'w')\n",
    "    a=string\n",
    "    for i in range(len(a)):\n",
    "        if i == 0:\n",
    "            f.write(str(a[i]))\n",
    "        else:\n",
    "            f.write(',' + str(a[i]))\n",
    "    f.close()"
   ]
  },
  {
   "cell_type": "code",
   "execution_count": 149,
   "metadata": {},
   "outputs": [],
   "source": [
    "n=3\n",
    "string_of_allowed_symbols=\"abcdefghijklmnopqrstuvwxyzABCDEFGHIJKLMNOPQRSTUVWXYZ\"\n",
    "file=\"Tolstoy_26.txt\"\n",
    "string=convert_file_to_string_v3(file,string_of_allowed_symbols)\n",
    "list_occ=combinations(string,n)[0]\n",
    "list_freq=combinations(string,n)[1]\n",
    "hamming_matrix=distance_matrix(list_occ)\n",
    "rescaled_hamming_matrix=prog_rescaled_hamming_matrix(hamming_matrix,list_freq)\n",
    "print_matrix_to_csv_file3(rescaled_hamming_matrix)\n",
    "print_string_to_csv_file3(list_freq)"
   ]
  },
  {
   "cell_type": "code",
   "execution_count": null,
   "metadata": {},
   "outputs": [],
   "source": []
  },
  {
   "cell_type": "code",
   "execution_count": null,
   "metadata": {},
   "outputs": [],
   "source": []
  },
  {
   "cell_type": "code",
   "execution_count": 150,
   "metadata": {},
   "outputs": [],
   "source": [
    "#Bulgakov_26"
   ]
  },
  {
   "cell_type": "code",
   "execution_count": 151,
   "metadata": {},
   "outputs": [],
   "source": [
    "def print_matrix_to_csv_file1(matrix): #Prints matrix matrix to file output_file_matrix.cvs; rows are separated by \\n's\n",
    "    f = open('hamming_matrix_11_bulgakov_26.csv', 'w')\n",
    "    a=matrix\n",
    "    for item in a:\n",
    "        for i in range(len(item)):\n",
    "            if i == 0:\n",
    "                f.write(str(item[i]))\n",
    "            else:\n",
    "                f.write(',' + str(item[i]))\n",
    "        f.write('\\n')\n",
    "    f.close()"
   ]
  },
  {
   "cell_type": "code",
   "execution_count": 152,
   "metadata": {},
   "outputs": [],
   "source": [
    "def print_string_to_csv_file1(string): #Prints string string to file output_file_string.cvs\n",
    "    f = open('string_11_bulgakov_26.csv', 'w')\n",
    "    a=string\n",
    "    for i in range(len(a)):\n",
    "        if i == 0:\n",
    "            f.write(str(a[i]))\n",
    "        else:\n",
    "            f.write(',' + str(a[i]))\n",
    "    f.close()"
   ]
  },
  {
   "cell_type": "code",
   "execution_count": 153,
   "metadata": {},
   "outputs": [],
   "source": [
    "n=1\n",
    "string_of_allowed_symbols=\"abcdefghijklmnopqrstuvwxyzABCDEFGHIJKLMNOPQRSTUVWXYZ\"\n",
    "file=\"Bulgakov_26.txt\"\n",
    "string=convert_file_to_string_v3(file,string_of_allowed_symbols)\n",
    "list_occ=combinations(string,n)[0]\n",
    "list_freq=combinations(string,n)[1]\n",
    "hamming_matrix=distance_matrix(list_occ)\n",
    "rescaled_hamming_matrix=prog_rescaled_hamming_matrix(hamming_matrix,list_freq)\n",
    "print_matrix_to_csv_file1(rescaled_hamming_matrix)\n",
    "print_string_to_csv_file1(list_freq)"
   ]
  },
  {
   "cell_type": "code",
   "execution_count": null,
   "metadata": {},
   "outputs": [],
   "source": []
  },
  {
   "cell_type": "code",
   "execution_count": 154,
   "metadata": {},
   "outputs": [],
   "source": [
    "def print_matrix_to_csv_file2(matrix): #Prints matrix matrix to file output_file_matrix.cvs; rows are separated by \\n's\n",
    "    f = open('hamming_matrix_22_bulgakov_26.csv', 'w')\n",
    "    a=matrix\n",
    "    for item in a:\n",
    "        for i in range(len(item)):\n",
    "            if i == 0:\n",
    "                f.write(str(item[i]))\n",
    "            else:\n",
    "                f.write(',' + str(item[i]))\n",
    "        f.write('\\n')\n",
    "    f.close()"
   ]
  },
  {
   "cell_type": "code",
   "execution_count": 155,
   "metadata": {},
   "outputs": [],
   "source": [
    "def print_string_to_csv_file2(string): #Prints string string to file output_file_string.cvs\n",
    "    f = open('string_22_bulgakov_26.csv', 'w')\n",
    "    a=string\n",
    "    for i in range(len(a)):\n",
    "        if i == 0:\n",
    "            f.write(str(a[i]))\n",
    "        else:\n",
    "            f.write(',' + str(a[i]))\n",
    "    f.close()"
   ]
  },
  {
   "cell_type": "code",
   "execution_count": 156,
   "metadata": {},
   "outputs": [],
   "source": [
    "n=2\n",
    "string_of_allowed_symbols=\"abcdefghijklmnopqrstuvwxyzABCDEFGHIJKLMNOPQRSTUVWXYZ\"\n",
    "file=\"Bulgakov_26.txt\"\n",
    "string=convert_file_to_string_v3(file,string_of_allowed_symbols)\n",
    "list_occ=combinations(string,n)[0]\n",
    "list_freq=combinations(string,n)[1]\n",
    "hamming_matrix=distance_matrix(list_occ)\n",
    "rescaled_hamming_matrix=prog_rescaled_hamming_matrix(hamming_matrix,list_freq)\n",
    "print_matrix_to_csv_file2(rescaled_hamming_matrix)\n",
    "print_string_to_csv_file2(list_freq)"
   ]
  },
  {
   "cell_type": "code",
   "execution_count": null,
   "metadata": {},
   "outputs": [],
   "source": []
  },
  {
   "cell_type": "code",
   "execution_count": 157,
   "metadata": {},
   "outputs": [],
   "source": [
    "def print_matrix_to_csv_file3(matrix): #Prints matrix matrix to file output_file_matrix.cvs; rows are separated by \\n's\n",
    "    f = open('hamming_matrix_32_bulgakov_26.csv', 'w')\n",
    "    a=matrix\n",
    "    for item in a:\n",
    "        for i in range(len(item)):\n",
    "            if i == 0:\n",
    "                f.write(str(item[i]))\n",
    "            else:\n",
    "                f.write(',' + str(item[i]))\n",
    "        f.write('\\n')\n",
    "    f.close()"
   ]
  },
  {
   "cell_type": "code",
   "execution_count": 158,
   "metadata": {},
   "outputs": [],
   "source": [
    "def print_string_to_csv_file3(string): #Prints string string to file output_file_string.cvs\n",
    "    f = open('string_32_bulgakov_26.csv', 'w')\n",
    "    a=string\n",
    "    for i in range(len(a)):\n",
    "        if i == 0:\n",
    "            f.write(str(a[i]))\n",
    "        else:\n",
    "            f.write(',' + str(a[i]))\n",
    "    f.close()"
   ]
  },
  {
   "cell_type": "code",
   "execution_count": 159,
   "metadata": {},
   "outputs": [],
   "source": [
    "n=3\n",
    "string_of_allowed_symbols=\"abcdefghijklmnopqrstuvwxyzABCDEFGHIJKLMNOPQRSTUVWXYZ\"\n",
    "file=\"Bulgakov_26.txt\"\n",
    "string=convert_file_to_string_v3(file,string_of_allowed_symbols)\n",
    "list_occ=combinations(string,n)[0]\n",
    "list_freq=combinations(string,n)[1]\n",
    "hamming_matrix=distance_matrix(list_occ)\n",
    "rescaled_hamming_matrix=prog_rescaled_hamming_matrix(hamming_matrix,list_freq)\n",
    "print_matrix_to_csv_file3(rescaled_hamming_matrix)\n",
    "print_string_to_csv_file3(list_freq)"
   ]
  },
  {
   "cell_type": "code",
   "execution_count": null,
   "metadata": {},
   "outputs": [],
   "source": []
  },
  {
   "cell_type": "code",
   "execution_count": null,
   "metadata": {},
   "outputs": [],
   "source": []
  },
  {
   "cell_type": "code",
   "execution_count": 160,
   "metadata": {},
   "outputs": [],
   "source": [
    "#Dombrovsky_26"
   ]
  },
  {
   "cell_type": "code",
   "execution_count": 161,
   "metadata": {},
   "outputs": [],
   "source": [
    "def print_matrix_to_csv_file1(matrix): #Prints matrix matrix to file output_file_matrix.cvs; rows are separated by \\n's\n",
    "    f = open('hamming_matrix_11_dombrovsky_26.csv', 'w')\n",
    "    a=matrix\n",
    "    for item in a:\n",
    "        for i in range(len(item)):\n",
    "            if i == 0:\n",
    "                f.write(str(item[i]))\n",
    "            else:\n",
    "                f.write(',' + str(item[i]))\n",
    "        f.write('\\n')\n",
    "    f.close()"
   ]
  },
  {
   "cell_type": "code",
   "execution_count": 162,
   "metadata": {},
   "outputs": [],
   "source": [
    "def print_string_to_csv_file1(string): #Prints string string to file output_file_string.cvs\n",
    "    f = open('string_11_dombrovsky_26.csv', 'w')\n",
    "    a=string\n",
    "    for i in range(len(a)):\n",
    "        if i == 0:\n",
    "            f.write(str(a[i]))\n",
    "        else:\n",
    "            f.write(',' + str(a[i]))\n",
    "    f.close()"
   ]
  },
  {
   "cell_type": "code",
   "execution_count": 163,
   "metadata": {},
   "outputs": [],
   "source": [
    "n=1\n",
    "string_of_allowed_symbols=\"abcdefghijklmnopqrstuvwxyzABCDEFGHIJKLMNOPQRSTUVWXYZ\"\n",
    "file=\"Dombrovsky_26.txt\"\n",
    "string=convert_file_to_string_v3(file,string_of_allowed_symbols)\n",
    "list_occ=combinations(string,n)[0]\n",
    "list_freq=combinations(string,n)[1]\n",
    "hamming_matrix=distance_matrix(list_occ)\n",
    "rescaled_hamming_matrix=prog_rescaled_hamming_matrix(hamming_matrix,list_freq)\n",
    "print_matrix_to_csv_file1(rescaled_hamming_matrix)\n",
    "print_string_to_csv_file1(list_freq)"
   ]
  },
  {
   "cell_type": "code",
   "execution_count": null,
   "metadata": {},
   "outputs": [],
   "source": []
  },
  {
   "cell_type": "code",
   "execution_count": 164,
   "metadata": {},
   "outputs": [],
   "source": [
    "def print_matrix_to_csv_file2(matrix): #Prints matrix matrix to file output_file_matrix.cvs; rows are separated by \\n's\n",
    "    f = open('hamming_matrix_22_dombrovsky_26.csv', 'w')\n",
    "    a=matrix\n",
    "    for item in a:\n",
    "        for i in range(len(item)):\n",
    "            if i == 0:\n",
    "                f.write(str(item[i]))\n",
    "            else:\n",
    "                f.write(',' + str(item[i]))\n",
    "        f.write('\\n')\n",
    "    f.close()"
   ]
  },
  {
   "cell_type": "code",
   "execution_count": 165,
   "metadata": {},
   "outputs": [],
   "source": [
    "def print_string_to_csv_file2(string): #Prints string string to file output_file_string.cvs\n",
    "    f = open('string_22_dombrovsky_26.csv', 'w')\n",
    "    a=string\n",
    "    for i in range(len(a)):\n",
    "        if i == 0:\n",
    "            f.write(str(a[i]))\n",
    "        else:\n",
    "            f.write(',' + str(a[i]))\n",
    "    f.close()"
   ]
  },
  {
   "cell_type": "code",
   "execution_count": 166,
   "metadata": {},
   "outputs": [],
   "source": [
    "n=2\n",
    "string_of_allowed_symbols=\"abcdefghijklmnopqrstuvwxyzABCDEFGHIJKLMNOPQRSTUVWXYZ\"\n",
    "file=\"Dombrovsky_26.txt\"\n",
    "string=convert_file_to_string_v3(file,string_of_allowed_symbols)\n",
    "list_occ=combinations(string,n)[0]\n",
    "list_freq=combinations(string,n)[1]\n",
    "hamming_matrix=distance_matrix(list_occ)\n",
    "rescaled_hamming_matrix=prog_rescaled_hamming_matrix(hamming_matrix,list_freq)\n",
    "print_matrix_to_csv_file2(rescaled_hamming_matrix)\n",
    "print_string_to_csv_file2(list_freq)"
   ]
  },
  {
   "cell_type": "code",
   "execution_count": null,
   "metadata": {},
   "outputs": [],
   "source": []
  },
  {
   "cell_type": "code",
   "execution_count": 167,
   "metadata": {},
   "outputs": [],
   "source": [
    "def print_matrix_to_csv_file3(matrix): #Prints matrix matrix to file output_file_matrix.cvs; rows are separated by \\n's\n",
    "    f = open('hamming_matrix_32_dombrovsky_26.csv', 'w')\n",
    "    a=matrix\n",
    "    for item in a:\n",
    "        for i in range(len(item)):\n",
    "            if i == 0:\n",
    "                f.write(str(item[i]))\n",
    "            else:\n",
    "                f.write(',' + str(item[i]))\n",
    "        f.write('\\n')\n",
    "    f.close()"
   ]
  },
  {
   "cell_type": "code",
   "execution_count": 168,
   "metadata": {},
   "outputs": [],
   "source": [
    "def print_string_to_csv_file3(string): #Prints string string to file output_file_string.cvs\n",
    "    f = open('string_32_dombrovsky_26.csv', 'w')\n",
    "    a=string\n",
    "    for i in range(len(a)):\n",
    "        if i == 0:\n",
    "            f.write(str(a[i]))\n",
    "        else:\n",
    "            f.write(',' + str(a[i]))\n",
    "    f.close()"
   ]
  },
  {
   "cell_type": "code",
   "execution_count": 169,
   "metadata": {},
   "outputs": [],
   "source": [
    "n=3\n",
    "string_of_allowed_symbols=\"abcdefghijklmnopqrstuvwxyzABCDEFGHIJKLMNOPQRSTUVWXYZ\"\n",
    "file=\"Dombrovsky_26.txt\"\n",
    "string=convert_file_to_string_v3(file,string_of_allowed_symbols)\n",
    "list_occ=combinations(string,n)[0]\n",
    "list_freq=combinations(string,n)[1]\n",
    "hamming_matrix=distance_matrix(list_occ)\n",
    "rescaled_hamming_matrix=prog_rescaled_hamming_matrix(hamming_matrix,list_freq)\n",
    "print_matrix_to_csv_file3(rescaled_hamming_matrix)\n",
    "print_string_to_csv_file3(list_freq)"
   ]
  },
  {
   "cell_type": "code",
   "execution_count": null,
   "metadata": {},
   "outputs": [],
   "source": []
  },
  {
   "cell_type": "code",
   "execution_count": null,
   "metadata": {},
   "outputs": [],
   "source": []
  },
  {
   "cell_type": "code",
   "execution_count": null,
   "metadata": {},
   "outputs": [],
   "source": []
  },
  {
   "cell_type": "code",
   "execution_count": null,
   "metadata": {},
   "outputs": [],
   "source": []
  },
  {
   "cell_type": "code",
   "execution_count": null,
   "metadata": {},
   "outputs": [],
   "source": []
  },
  {
   "cell_type": "code",
   "execution_count": null,
   "metadata": {},
   "outputs": [],
   "source": []
  },
  {
   "cell_type": "code",
   "execution_count": 170,
   "metadata": {},
   "outputs": [
    {
     "ename": "NameError",
     "evalue": "name 'xxx' is not defined",
     "output_type": "error",
     "traceback": [
      "\u001b[1;31m---------------------------------------------------------------------------\u001b[0m",
      "\u001b[1;31mNameError\u001b[0m                                 Traceback (most recent call last)",
      "\u001b[1;32m<ipython-input-170-c4b76a1eeb4a>\u001b[0m in \u001b[0;36m<module>\u001b[1;34m\u001b[0m\n\u001b[1;32m----> 1\u001b[1;33m \u001b[0mprint\u001b[0m\u001b[1;33m(\u001b[0m\u001b[0mxxx\u001b[0m\u001b[1;33m)\u001b[0m\u001b[1;33m\u001b[0m\u001b[1;33m\u001b[0m\u001b[0m\n\u001b[0m",
      "\u001b[1;31mNameError\u001b[0m: name 'xxx' is not defined"
     ]
    }
   ],
   "source": [
    "print(xxx)"
   ]
  },
  {
   "cell_type": "code",
   "execution_count": null,
   "metadata": {},
   "outputs": [],
   "source": [
    "#"
   ]
  },
  {
   "cell_type": "code",
   "execution_count": null,
   "metadata": {},
   "outputs": [],
   "source": [
    "def print_matrix_to_csv_file1(matrix): #Prints matrix matrix to file output_file_matrix.cvs; rows are separated by \\n's\n",
    "    f = open('hamming_matrix_11_.csv', 'w')\n",
    "    a=matrix\n",
    "    for item in a:\n",
    "        for i in range(len(item)):\n",
    "            if i == 0:\n",
    "                f.write(str(item[i]))\n",
    "            else:\n",
    "                f.write(',' + str(item[i]))\n",
    "        f.write('\\n')\n",
    "    f.close()"
   ]
  },
  {
   "cell_type": "code",
   "execution_count": null,
   "metadata": {},
   "outputs": [],
   "source": [
    "def print_string_to_csv_file1(string): #Prints string string to file output_file_string.cvs\n",
    "    f = open('string_11_.csv', 'w')\n",
    "    a=string\n",
    "    for i in range(len(a)):\n",
    "        if i == 0:\n",
    "            f.write(str(a[i]))\n",
    "        else:\n",
    "            f.write(',' + str(a[i]))\n",
    "    f.close()"
   ]
  },
  {
   "cell_type": "code",
   "execution_count": null,
   "metadata": {},
   "outputs": [],
   "source": [
    "n=1\n",
    "string_of_allowed_symbols=\"abcdefghijklmnopqrstuvwxyzABCDEFGHIJKLMNOPQRSTUVWXYZ\"\n",
    "file=\".txt\"\n",
    "string=convert_file_to_string_v3(file,string_of_allowed_symbols)\n",
    "list_occ=combinations(string,n)[0]\n",
    "list_freq=combinations(string,n)[1]\n",
    "hamming_matrix=distance_matrix(list_occ)\n",
    "rescaled_hamming_matrix=prog_rescaled_hamming_matrix(hamming_matrix,list_freq)\n",
    "print_matrix_to_csv_file1(rescaled_hamming_matrix)\n",
    "print_string_to_csv_file1(list_freq)"
   ]
  },
  {
   "cell_type": "code",
   "execution_count": null,
   "metadata": {},
   "outputs": [],
   "source": []
  },
  {
   "cell_type": "code",
   "execution_count": null,
   "metadata": {},
   "outputs": [],
   "source": [
    "def print_matrix_to_csv_file2(matrix): #Prints matrix matrix to file output_file_matrix.cvs; rows are separated by \\n's\n",
    "    f = open('hamming_matrix_22_.csv', 'w')\n",
    "    a=matrix\n",
    "    for item in a:\n",
    "        for i in range(len(item)):\n",
    "            if i == 0:\n",
    "                f.write(str(item[i]))\n",
    "            else:\n",
    "                f.write(',' + str(item[i]))\n",
    "        f.write('\\n')\n",
    "    f.close()"
   ]
  },
  {
   "cell_type": "code",
   "execution_count": null,
   "metadata": {},
   "outputs": [],
   "source": [
    "def print_string_to_csv_file2(string): #Prints string string to file output_file_string.cvs\n",
    "    f = open('string_22_.csv', 'w')\n",
    "    a=string\n",
    "    for i in range(len(a)):\n",
    "        if i == 0:\n",
    "            f.write(str(a[i]))\n",
    "        else:\n",
    "            f.write(',' + str(a[i]))\n",
    "    f.close()"
   ]
  },
  {
   "cell_type": "code",
   "execution_count": null,
   "metadata": {},
   "outputs": [],
   "source": [
    "n=2\n",
    "string_of_allowed_symbols=\"abcdefghijklmnopqrstuvwxyzABCDEFGHIJKLMNOPQRSTUVWXYZ\"\n",
    "file=\".txt\"\n",
    "string=convert_file_to_string_v3(file,string_of_allowed_symbols)\n",
    "list_occ=combinations(string,n)[0]\n",
    "list_freq=combinations(string,n)[1]\n",
    "hamming_matrix=distance_matrix(list_occ)\n",
    "rescaled_hamming_matrix=prog_rescaled_hamming_matrix(hamming_matrix,list_freq)\n",
    "print_matrix_to_csv_file2(rescaled_hamming_matrix)\n",
    "print_string_to_csv_file2(list_freq)"
   ]
  },
  {
   "cell_type": "code",
   "execution_count": null,
   "metadata": {},
   "outputs": [],
   "source": []
  },
  {
   "cell_type": "code",
   "execution_count": null,
   "metadata": {},
   "outputs": [],
   "source": [
    "def print_matrix_to_csv_file3(matrix): #Prints matrix matrix to file output_file_matrix.cvs; rows are separated by \\n's\n",
    "    f = open('hamming_matrix_32_.csv', 'w')\n",
    "    a=matrix\n",
    "    for item in a:\n",
    "        for i in range(len(item)):\n",
    "            if i == 0:\n",
    "                f.write(str(item[i]))\n",
    "            else:\n",
    "                f.write(',' + str(item[i]))\n",
    "        f.write('\\n')\n",
    "    f.close()"
   ]
  },
  {
   "cell_type": "code",
   "execution_count": null,
   "metadata": {},
   "outputs": [],
   "source": [
    "def print_string_to_csv_file3(string): #Prints string string to file output_file_string.cvs\n",
    "    f = open('string_32_.csv', 'w')\n",
    "    a=string\n",
    "    for i in range(len(a)):\n",
    "        if i == 0:\n",
    "            f.write(str(a[i]))\n",
    "        else:\n",
    "            f.write(',' + str(a[i]))\n",
    "    f.close()"
   ]
  },
  {
   "cell_type": "code",
   "execution_count": null,
   "metadata": {},
   "outputs": [],
   "source": [
    "n=3\n",
    "string_of_allowed_symbols=\"abcdefghijklmnopqrstuvwxyzABCDEFGHIJKLMNOPQRSTUVWXYZ\"\n",
    "file=\".txt\"\n",
    "string=convert_file_to_string_v3(file,string_of_allowed_symbols)\n",
    "list_occ=combinations(string,n)[0]\n",
    "list_freq=combinations(string,n)[1]\n",
    "hamming_matrix=distance_matrix(list_occ)\n",
    "rescaled_hamming_matrix=prog_rescaled_hamming_matrix(hamming_matrix,list_freq)\n",
    "print_matrix_to_csv_file3(rescaled_hamming_matrix)\n",
    "print_string_to_csv_file3(list_freq)"
   ]
  },
  {
   "cell_type": "code",
   "execution_count": null,
   "metadata": {},
   "outputs": [],
   "source": []
  },
  {
   "cell_type": "code",
   "execution_count": null,
   "metadata": {},
   "outputs": [],
   "source": []
  },
  {
   "cell_type": "code",
   "execution_count": null,
   "metadata": {},
   "outputs": [],
   "source": []
  },
  {
   "cell_type": "code",
   "execution_count": null,
   "metadata": {},
   "outputs": [],
   "source": []
  },
  {
   "cell_type": "code",
   "execution_count": null,
   "metadata": {},
   "outputs": [],
   "source": []
  },
  {
   "cell_type": "code",
   "execution_count": null,
   "metadata": {},
   "outputs": [],
   "source": []
  },
  {
   "cell_type": "code",
   "execution_count": null,
   "metadata": {},
   "outputs": [],
   "source": []
  }
 ],
 "metadata": {
  "kernelspec": {
   "display_name": "Python 3",
   "language": "python",
   "name": "python3"
  },
  "language_info": {
   "codemirror_mode": {
    "name": "ipython",
    "version": 3
   },
   "file_extension": ".py",
   "mimetype": "text/x-python",
   "name": "python",
   "nbconvert_exporter": "python",
   "pygments_lexer": "ipython3",
   "version": "3.8.3"
  }
 },
 "nbformat": 4,
 "nbformat_minor": 4
}
